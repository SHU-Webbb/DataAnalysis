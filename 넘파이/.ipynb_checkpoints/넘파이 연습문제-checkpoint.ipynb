{
 "cells": [
  {
   "cell_type": "markdown",
   "id": "ee2b3698-b9b8-4ed0-9399-a31e6ae01c48",
   "metadata": {
    "tags": []
   },
   "source": [
    "#### (1) 넘파이 임포트"
   ]
  },
  {
   "cell_type": "code",
   "execution_count": 2,
   "id": "42a68195-cee5-4e9e-9558-a5c9b41fa09e",
   "metadata": {
    "tags": []
   },
   "outputs": [],
   "source": [
    "import numpy as np"
   ]
  },
  {
   "cell_type": "markdown",
   "id": "d77a4536-279f-42e6-a74c-e2fd51fa6c15",
   "metadata": {},
   "source": [
    "#### (2) 10개의 0을 가진 배열 생성"
   ]
  },
  {
   "cell_type": "code",
   "execution_count": 3,
   "id": "bf1c5f96-0228-43ff-9c25-a31e9fbbf6dc",
   "metadata": {
    "tags": []
   },
   "outputs": [
    {
     "data": {
      "text/plain": [
       "array([0., 0., 0., 0., 0., 0., 0., 0., 0., 0.])"
      ]
     },
     "execution_count": 3,
     "metadata": {},
     "output_type": "execute_result"
    }
   ],
   "source": [
    "np.zeros(10)"
   ]
  },
  {
   "cell_type": "markdown",
   "id": "227448f9-5611-431d-a601-1a38a1702e98",
   "metadata": {},
   "source": [
    "#### (3) 10개의 1을 가진 배열 생성"
   ]
  },
  {
   "cell_type": "code",
   "execution_count": 4,
   "id": "287e85dc-dc99-4f8a-9568-f04175fbe5ce",
   "metadata": {
    "tags": []
   },
   "outputs": [
    {
     "data": {
      "text/plain": [
       "array([1., 1., 1., 1., 1., 1., 1., 1., 1., 1.])"
      ]
     },
     "execution_count": 4,
     "metadata": {},
     "output_type": "execute_result"
    }
   ],
   "source": [
    "np.ones(10)"
   ]
  },
  {
   "cell_type": "markdown",
   "id": "137c3ddf-09b9-4711-9b08-8e40dc401fff",
   "metadata": {},
   "source": [
    "#### (4) 10개의 5를 가진 배열 생성"
   ]
  },
  {
   "cell_type": "code",
   "execution_count": 17,
   "id": "8b5b6332-3c82-4962-9b68-e4c1a5ffd7d9",
   "metadata": {
    "tags": []
   },
   "outputs": [
    {
     "data": {
      "text/plain": [
       "array([5., 5., 5., 5., 5., 5., 5., 5., 5., 5.])"
      ]
     },
     "execution_count": 17,
     "metadata": {},
     "output_type": "execute_result"
    }
   ],
   "source": [
    "np.ones(10) * 5"
   ]
  },
  {
   "cell_type": "code",
   "execution_count": 5,
   "id": "733bac9c-641a-47b5-bc75-cb7411b1db36",
   "metadata": {
    "tags": []
   },
   "outputs": [
    {
     "data": {
      "text/plain": [
       "array([5., 5., 5., 5., 5., 5., 5., 5., 5., 5.])"
      ]
     },
     "execution_count": 5,
     "metadata": {},
     "output_type": "execute_result"
    }
   ],
   "source": [
    "np.linspace(5, 5, 10)"
   ]
  },
  {
   "cell_type": "markdown",
   "id": "612763e2-4e33-4a1f-b185-351fbf2e8f23",
   "metadata": {},
   "source": [
    "#### (5) 10에서 50까지의 정수로 구성된 배열 생성"
   ]
  },
  {
   "cell_type": "code",
   "execution_count": 11,
   "id": "ed142096-b60d-4ad4-a6de-295ce7d2658a",
   "metadata": {
    "tags": []
   },
   "outputs": [
    {
     "data": {
      "text/plain": [
       "array([10, 11, 12, 13, 14, 15, 16, 17, 18, 19, 20, 21, 22, 23, 24, 25, 26,\n",
       "       27, 28, 29, 30, 31, 32, 33, 34, 35, 36, 37, 38, 39, 40, 41, 42, 43,\n",
       "       44, 45, 46, 47, 48, 49, 50])"
      ]
     },
     "execution_count": 11,
     "metadata": {},
     "output_type": "execute_result"
    }
   ],
   "source": [
    "np.arange(10,51)"
   ]
  },
  {
   "cell_type": "markdown",
   "id": "0800c13d-9fc1-4645-9275-fe1ac29440bd",
   "metadata": {},
   "source": [
    "#### (6) 10d에서 50 까지의 정수중에서 짝수로 된 배열을 생성"
   ]
  },
  {
   "cell_type": "code",
   "execution_count": 12,
   "id": "5dfa8962-db53-4062-a2d3-5aa2cc81150a",
   "metadata": {
    "tags": []
   },
   "outputs": [
    {
     "data": {
      "text/plain": [
       "array([10, 12, 14, 16, 18, 20, 22, 24, 26, 28, 30, 32, 34, 36, 38, 40, 42,\n",
       "       44, 46, 48, 50])"
      ]
     },
     "execution_count": 12,
     "metadata": {},
     "output_type": "execute_result"
    }
   ],
   "source": [
    "np.arange(10,51,2)"
   ]
  },
  {
   "cell_type": "markdown",
   "id": "e8c6d46a-3a15-4d34-babb-e272aedd52fa",
   "metadata": {},
   "source": [
    "#### (7) 0에서 9까지로 구성된 3x3 배열 생성 "
   ]
  },
  {
   "cell_type": "code",
   "execution_count": 16,
   "id": "7c3ed5aa-6abf-435d-ab74-9dbd6bfdc74f",
   "metadata": {
    "tags": []
   },
   "outputs": [
    {
     "data": {
      "text/plain": [
       "array([[0, 1, 2],\n",
       "       [3, 4, 5],\n",
       "       [6, 7, 8]])"
      ]
     },
     "execution_count": 16,
     "metadata": {},
     "output_type": "execute_result"
    }
   ],
   "source": [
    "arr = np.arange(0,9)\n",
    "arr.reshape(3,3)"
   ]
  },
  {
   "cell_type": "markdown",
   "id": "c267bf13-bfd9-444f-9a6f-168379741aa8",
   "metadata": {},
   "source": [
    "### (8) 3x3 indentity matrix(항등행렬)을 생성. (대각선의 값이 1인 행렬)"
   ]
  },
  {
   "cell_type": "code",
   "execution_count": 18,
   "id": "59441cfe-83f2-4bf1-961b-d75d71e23dee",
   "metadata": {
    "tags": []
   },
   "outputs": [
    {
     "data": {
      "text/plain": [
       "array([[1., 0., 0.],\n",
       "       [0., 1., 0.],\n",
       "       [0., 0., 1.]])"
      ]
     },
     "execution_count": 18,
     "metadata": {},
     "output_type": "execute_result"
    }
   ],
   "source": [
    "np.eye(3)"
   ]
  },
  {
   "cell_type": "markdown",
   "id": "92c38785-53da-4f89-a4a0-bd1e1eb2c1d1",
   "metadata": {},
   "source": [
    "### (9) 정규 분포를 가진 임의의 수 25개로 이루어진 배열 생성"
   ]
  },
  {
   "cell_type": "code",
   "execution_count": 19,
   "id": "534c762d-f7b3-4e6a-ac8a-d8553ed96c1d",
   "metadata": {
    "tags": []
   },
   "outputs": [
    {
     "data": {
      "text/plain": [
       "array([ 0.38625111, -0.14782918, -1.59382235,  0.24250308, -0.07711932,\n",
       "        0.59233048,  0.1880594 ,  0.39411559, -0.05348283, -0.2853754 ,\n",
       "       -0.27637747, -1.00382065,  1.13053227,  0.82934089,  1.10281233,\n",
       "        1.82797638,  1.36129425, -0.90190385, -0.84565993, -0.83203593,\n",
       "        0.49903654, -0.49677669,  1.26418794, -0.40975452, -1.56342971])"
      ]
     },
     "execution_count": 19,
     "metadata": {},
     "output_type": "execute_result"
    }
   ],
   "source": [
    "np.random.randn(25)"
   ]
  },
  {
   "cell_type": "markdown",
   "id": "5f277cf0-d99a-45c0-a461-8685b8f5b8c7",
   "metadata": {},
   "source": [
    "### (10) 아래와 같은 형식의 배열을 생성."
   ]
  },
  {
   "cell_type": "code",
   "execution_count": 25,
   "id": "7b72dbdb-65a1-415b-a23d-e9d1dd1f1c4e",
   "metadata": {
    "tags": []
   },
   "outputs": [
    {
     "data": {
      "text/plain": [
       "array([[0.01, 0.02, 0.03, 0.04, 0.05, 0.06, 0.07, 0.08, 0.09, 0.1 ],\n",
       "       [0.11, 0.12, 0.13, 0.14, 0.15, 0.16, 0.17, 0.18, 0.19, 0.2 ],\n",
       "       [0.21, 0.22, 0.23, 0.24, 0.25, 0.26, 0.27, 0.28, 0.29, 0.3 ],\n",
       "       [0.31, 0.32, 0.33, 0.34, 0.35, 0.36, 0.37, 0.38, 0.39, 0.4 ],\n",
       "       [0.41, 0.42, 0.43, 0.44, 0.45, 0.46, 0.47, 0.48, 0.49, 0.5 ],\n",
       "       [0.51, 0.52, 0.53, 0.54, 0.55, 0.56, 0.57, 0.58, 0.59, 0.6 ],\n",
       "       [0.61, 0.62, 0.63, 0.64, 0.65, 0.66, 0.67, 0.68, 0.69, 0.7 ],\n",
       "       [0.71, 0.72, 0.73, 0.74, 0.75, 0.76, 0.77, 0.78, 0.79, 0.8 ],\n",
       "       [0.81, 0.82, 0.83, 0.84, 0.85, 0.86, 0.87, 0.88, 0.89, 0.9 ],\n",
       "       [0.91, 0.92, 0.93, 0.94, 0.95, 0.96, 0.97, 0.98, 0.99, 1.  ]])"
      ]
     },
     "execution_count": 25,
     "metadata": {},
     "output_type": "execute_result"
    }
   ],
   "source": [
    "arr = np.linspace(0.01, 1, 100)\n",
    "arr.reshape(10,10)"
   ]
  },
  {
   "cell_type": "markdown",
   "id": "c7b68498-8c2f-4b69-ac64-5226e846c5a1",
   "metadata": {},
   "source": [
    "### (11) 0과 1 사이의 20개의 균등 분할된 숫자로 이루어진 배열 생성"
   ]
  },
  {
   "cell_type": "code",
   "execution_count": 23,
   "id": "feea139f-e1cd-4de1-969b-cc5de42e1c3f",
   "metadata": {
    "tags": []
   },
   "outputs": [
    {
     "data": {
      "text/plain": [
       "array([0.        , 0.05263158, 0.10526316, 0.15789474, 0.21052632,\n",
       "       0.26315789, 0.31578947, 0.36842105, 0.42105263, 0.47368421,\n",
       "       0.52631579, 0.57894737, 0.63157895, 0.68421053, 0.73684211,\n",
       "       0.78947368, 0.84210526, 0.89473684, 0.94736842, 1.        ])"
      ]
     },
     "execution_count": 23,
     "metadata": {},
     "output_type": "execute_result"
    }
   ],
   "source": [
    "np.linspace(0, 1, 20)"
   ]
  },
  {
   "cell_type": "markdown",
   "id": "d62ee05c-6a3d-4dab-9e8a-00db04acb7b4",
   "metadata": {},
   "source": [
    "#### 샘플 데이터\n",
    "#### mat = np.arange(1,26).reshape(5,5)\n"
   ]
  },
  {
   "cell_type": "code",
   "execution_count": 28,
   "id": "c1e14fe2-18da-4daa-a3d6-2aaa0b883c72",
   "metadata": {
    "tags": []
   },
   "outputs": [
    {
     "data": {
      "text/plain": [
       "array([[ 1,  2,  3,  4,  5],\n",
       "       [ 6,  7,  8,  9, 10],\n",
       "       [11, 12, 13, 14, 15],\n",
       "       [16, 17, 18, 19, 20],\n",
       "       [21, 22, 23, 24, 25]])"
      ]
     },
     "execution_count": 28,
     "metadata": {},
     "output_type": "execute_result"
    }
   ],
   "source": [
    "mat = np.arange(1,26).reshape(5,5)\n",
    "mat"
   ]
  },
  {
   "cell_type": "markdown",
   "id": "4bdba164-d9e4-4580-be88-47c2734ecdf8",
   "metadata": {
    "tags": []
   },
   "source": [
    "#### (12) "
   ]
  },
  {
   "cell_type": "code",
   "execution_count": 29,
   "id": "28b47263-666f-47f4-b8ae-65269ba9ce18",
   "metadata": {
    "tags": []
   },
   "outputs": [
    {
     "data": {
      "text/plain": [
       "array([[12, 13, 14, 15],\n",
       "       [17, 18, 19, 20],\n",
       "       [22, 23, 24, 25]])"
      ]
     },
     "execution_count": 29,
     "metadata": {},
     "output_type": "execute_result"
    }
   ],
   "source": [
    "mat[2:,1:]"
   ]
  },
  {
   "cell_type": "markdown",
   "id": "9ac5de21-09d7-4ab2-bb8a-6759de80df78",
   "metadata": {
    "tags": []
   },
   "source": [
    "### (13)"
   ]
  },
  {
   "cell_type": "code",
   "execution_count": 33,
   "id": "0c7f809c-c47d-467c-93fa-ab22dc9633b1",
   "metadata": {
    "tags": []
   },
   "outputs": [
    {
     "data": {
      "text/plain": [
       "20"
      ]
     },
     "execution_count": 33,
     "metadata": {},
     "output_type": "execute_result"
    }
   ],
   "source": [
    "mat[3][4]"
   ]
  },
  {
   "cell_type": "markdown",
   "id": "ea69d8f8-ad7b-4603-a58e-b14cace50341",
   "metadata": {
    "tags": []
   },
   "source": [
    "### (14)"
   ]
  },
  {
   "cell_type": "code",
   "execution_count": 35,
   "id": "77d96050-f0a6-4995-8a38-ff2f47086e65",
   "metadata": {
    "tags": []
   },
   "outputs": [
    {
     "data": {
      "text/plain": [
       "array([[ 2],\n",
       "       [ 7],\n",
       "       [12]])"
      ]
     },
     "execution_count": 35,
     "metadata": {},
     "output_type": "execute_result"
    }
   ],
   "source": [
    "mat[:3,1:2]"
   ]
  },
  {
   "cell_type": "markdown",
   "id": "bbec42fc-79f9-43b3-ae59-b663dfd13822",
   "metadata": {},
   "source": [
    "### (15)"
   ]
  },
  {
   "cell_type": "code",
   "execution_count": 36,
   "id": "a0201840-fe40-4d9a-b339-b4f9835c9749",
   "metadata": {
    "tags": []
   },
   "outputs": [
    {
     "data": {
      "text/plain": [
       "array([21, 22, 23, 24, 25])"
      ]
     },
     "execution_count": 36,
     "metadata": {},
     "output_type": "execute_result"
    }
   ],
   "source": [
    "mat[4]"
   ]
  },
  {
   "cell_type": "markdown",
   "id": "aa3c04ac-91e9-4dfe-a8e5-177d33301ac4",
   "metadata": {
    "tags": []
   },
   "source": [
    "### (16)"
   ]
  },
  {
   "cell_type": "code",
   "execution_count": 38,
   "id": "4acf163f-614d-40d6-bf46-17c457805480",
   "metadata": {
    "tags": []
   },
   "outputs": [
    {
     "data": {
      "text/plain": [
       "array([[16, 17, 18, 19, 20],\n",
       "       [21, 22, 23, 24, 25]])"
      ]
     },
     "execution_count": 38,
     "metadata": {},
     "output_type": "execute_result"
    }
   ],
   "source": [
    "mat[3:]"
   ]
  },
  {
   "cell_type": "markdown",
   "id": "dbed0fc3-7f68-43e8-a46d-8eafa6bd1236",
   "metadata": {},
   "source": []
  }
 ],
 "metadata": {
  "kernelspec": {
   "display_name": "Python 3 (ipykernel)",
   "language": "python",
   "name": "python3"
  },
  "language_info": {
   "codemirror_mode": {
    "name": "ipython",
    "version": 3
   },
   "file_extension": ".py",
   "mimetype": "text/x-python",
   "name": "python",
   "nbconvert_exporter": "python",
   "pygments_lexer": "ipython3",
   "version": "3.11.5"
  }
 },
 "nbformat": 4,
 "nbformat_minor": 5
}
