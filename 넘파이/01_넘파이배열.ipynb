{
 "cells": [
  {
   "cell_type": "markdown",
   "id": "ebc5a193-30b7-4f3f-8ae4-6191900a72e1",
   "metadata": {},
   "source": [
    "## 1. 넘파이 배열 생성"
   ]
  },
  {
   "cell_type": "markdown",
   "id": "92116347-6cfb-407a-b39a-0ddc733cd8e9",
   "metadata": {},
   "source": [
    "### (1) 파이썬 리스트에서 넘파이 배열 생성"
   ]
  },
  {
   "cell_type": "code",
   "execution_count": 1,
   "id": "4e812e9c-84fb-489f-9945-a7c4a0f57a46",
   "metadata": {
    "tags": []
   },
   "outputs": [
    {
     "data": {
      "text/plain": [
       "[1, 2, 3]"
      ]
     },
     "execution_count": 1,
     "metadata": {},
     "output_type": "execute_result"
    }
   ],
   "source": [
    "my_list = [1, 2, 3]\n",
    "my_list"
   ]
  },
  {
   "cell_type": "code",
   "execution_count": 3,
   "id": "ef113bdd-8fe5-4282-8811-9fd3eb2bde98",
   "metadata": {
    "tags": []
   },
   "outputs": [
    {
     "data": {
      "text/plain": [
       "array([1, 2, 3])"
      ]
     },
     "execution_count": 3,
     "metadata": {},
     "output_type": "execute_result"
    }
   ],
   "source": [
    "import numpy as np\n",
    "np.array(my_list) # 리스트로부터 1차원 배열 생성"
   ]
  },
  {
   "cell_type": "code",
   "execution_count": 4,
   "id": "98c86db6-8235-4ab4-87dc-20821bd056e2",
   "metadata": {
    "tags": []
   },
   "outputs": [
    {
     "data": {
      "text/plain": [
       "[[1, 2, 3], [4, 5, 6], [7, 8, 9]]"
      ]
     },
     "execution_count": 4,
     "metadata": {},
     "output_type": "execute_result"
    }
   ],
   "source": [
    "# 리스트 샘플 데이터\n",
    "my_matrix = [[1, 2, 3], [4, 5, 6], [7, 8, 9]]\n",
    "my_matrix"
   ]
  },
  {
   "cell_type": "code",
   "execution_count": 5,
   "id": "40853dbf-f286-4758-bfcb-29fa649d4b0a",
   "metadata": {
    "tags": []
   },
   "outputs": [
    {
     "data": {
      "text/plain": [
       "array([[1, 2, 3],\n",
       "       [4, 5, 6],\n",
       "       [7, 8, 9]])"
      ]
     },
     "execution_count": 5,
     "metadata": {},
     "output_type": "execute_result"
    }
   ],
   "source": [
    "np.array(my_matrix)"
   ]
  },
  {
   "cell_type": "markdown",
   "id": "d1d9b8a4-c773-4eb7-af8c-d46a1ff6150f",
   "metadata": {},
   "source": [
    "## 2. 내장 함수 "
   ]
  },
  {
   "cell_type": "markdown",
   "id": "12e7e6e3-5833-4547-840c-e99d571a3d60",
   "metadata": {},
   "source": [
    "### (1) arange() "
   ]
  },
  {
   "cell_type": "code",
   "execution_count": 8,
   "id": "ce5a0198-f46e-4396-a77b-31b678dc7ee4",
   "metadata": {
    "tags": []
   },
   "outputs": [
    {
     "data": {
      "text/plain": [
       "array([0, 1, 2, 3, 4, 5, 6, 7, 8, 9])"
      ]
     },
     "execution_count": 8,
     "metadata": {},
     "output_type": "execute_result"
    }
   ],
   "source": [
    "# 지정된 시작값, 종료값 내에서 일정한 간격으로 값을 반환\n",
    "np.arange(0,10)"
   ]
  },
  {
   "cell_type": "code",
   "execution_count": 9,
   "id": "379f27d7-5bcb-4cc3-b8f5-ddc5cfce0533",
   "metadata": {
    "tags": []
   },
   "outputs": [
    {
     "data": {
      "text/plain": [
       "array([ 0,  2,  4,  6,  8, 10])"
      ]
     },
     "execution_count": 9,
     "metadata": {},
     "output_type": "execute_result"
    }
   ],
   "source": [
    "# 간격 지정\n",
    "np.arange(0, 11, 2)"
   ]
  },
  {
   "cell_type": "markdown",
   "id": "a39bb65a-568d-4dfe-b782-d958a901dcb6",
   "metadata": {},
   "source": [
    "### (2) zeros(), ones()"
   ]
  },
  {
   "cell_type": "code",
   "execution_count": 11,
   "id": "f88f81e4-85ad-43ae-a09c-cb4cc10a135e",
   "metadata": {
    "tags": []
   },
   "outputs": [
    {
     "data": {
      "text/plain": [
       "array([0., 0., 0.])"
      ]
     },
     "execution_count": 11,
     "metadata": {},
     "output_type": "execute_result"
    }
   ],
   "source": [
    "# zeros() = 배열을 0으로 초기화해서 생성\n",
    "np.zeros(3) # 1차원 배열의 요소가 3개인 배열"
   ]
  },
  {
   "cell_type": "code",
   "execution_count": 13,
   "id": "4445d40a-6a00-45db-b7e9-37712239b804",
   "metadata": {
    "tags": []
   },
   "outputs": [
    {
     "data": {
      "text/plain": [
       "array([[0., 0., 0., 0., 0.],\n",
       "       [0., 0., 0., 0., 0.],\n",
       "       [0., 0., 0., 0., 0.],\n",
       "       [0., 0., 0., 0., 0.],\n",
       "       [0., 0., 0., 0., 0.]])"
      ]
     },
     "execution_count": 13,
     "metadata": {},
     "output_type": "execute_result"
    }
   ],
   "source": [
    "np.zeros((5,5)) # 2차원 배열 생성하고 값을 0으로 초기화"
   ]
  },
  {
   "cell_type": "code",
   "execution_count": 14,
   "id": "51dd995b-8a6d-4a74-9e63-b3057787410a",
   "metadata": {
    "tags": []
   },
   "outputs": [
    {
     "data": {
      "text/plain": [
       "array([1., 1., 1.])"
      ]
     },
     "execution_count": 14,
     "metadata": {},
     "output_type": "execute_result"
    }
   ],
   "source": [
    "# ones() = 배열을 1로 초기화\n",
    "np.ones(3)"
   ]
  },
  {
   "cell_type": "code",
   "execution_count": 15,
   "id": "50a50603-9eb1-4e89-8cb2-0966c86c8970",
   "metadata": {
    "tags": []
   },
   "outputs": [
    {
     "data": {
      "text/plain": [
       "array([[1., 1., 1.],\n",
       "       [1., 1., 1.],\n",
       "       [1., 1., 1.]])"
      ]
     },
     "execution_count": 15,
     "metadata": {},
     "output_type": "execute_result"
    }
   ],
   "source": [
    "np.ones((3,3))"
   ]
  },
  {
   "cell_type": "markdown",
   "id": "d980d6c1-b318-459c-a8c2-a89a9a5b16a5",
   "metadata": {},
   "source": [
    "### (3) linspace()"
   ]
  },
  {
   "cell_type": "markdown",
   "id": "70839836-e772-465d-8719-422acac495ad",
   "metadata": {},
   "source": [
    "### 지정 시작값, 종료값 사이에 균등한 숫자를 생성하여 배열 생성"
   ]
  },
  {
   "cell_type": "code",
   "execution_count": 17,
   "id": "9c2494fe-e136-413d-b193-b39c20828fec",
   "metadata": {
    "tags": []
   },
   "outputs": [
    {
     "data": {
      "text/plain": [
       "array([ 0.,  5., 10.])"
      ]
     },
     "execution_count": 17,
     "metadata": {},
     "output_type": "execute_result"
    }
   ],
   "source": [
    "np.linspace(0, 10, 3) # 마지막 숫자 3은 생성할 숫자 갯수"
   ]
  },
  {
   "cell_type": "code",
   "execution_count": 18,
   "id": "a98e8546-d4aa-40e8-9040-a1b5cdca9ec8",
   "metadata": {
    "tags": []
   },
   "outputs": [
    {
     "data": {
      "text/plain": [
       "array([ 0.        ,  0.20408163,  0.40816327,  0.6122449 ,  0.81632653,\n",
       "        1.02040816,  1.2244898 ,  1.42857143,  1.63265306,  1.83673469,\n",
       "        2.04081633,  2.24489796,  2.44897959,  2.65306122,  2.85714286,\n",
       "        3.06122449,  3.26530612,  3.46938776,  3.67346939,  3.87755102,\n",
       "        4.08163265,  4.28571429,  4.48979592,  4.69387755,  4.89795918,\n",
       "        5.10204082,  5.30612245,  5.51020408,  5.71428571,  5.91836735,\n",
       "        6.12244898,  6.32653061,  6.53061224,  6.73469388,  6.93877551,\n",
       "        7.14285714,  7.34693878,  7.55102041,  7.75510204,  7.95918367,\n",
       "        8.16326531,  8.36734694,  8.57142857,  8.7755102 ,  8.97959184,\n",
       "        9.18367347,  9.3877551 ,  9.59183673,  9.79591837, 10.        ])"
      ]
     },
     "execution_count": 18,
     "metadata": {},
     "output_type": "execute_result"
    }
   ],
   "source": [
    "np.linspace(0, 10, 50)"
   ]
  },
  {
   "cell_type": "markdown",
   "id": "7dba76fd-718e-433f-8362-7d8b43baa1be",
   "metadata": {},
   "source": [
    "### (4) eye()\n",
    "#### 배열에서 대각선이 1인 배열생성"
   ]
  },
  {
   "cell_type": "code",
   "execution_count": 20,
   "id": "eec496a6-cfeb-4233-b514-7a560136bc2e",
   "metadata": {
    "tags": []
   },
   "outputs": [
    {
     "data": {
      "text/plain": [
       "array([[1., 0., 0., 0.],\n",
       "       [0., 1., 0., 0.],\n",
       "       [0., 0., 1., 0.],\n",
       "       [0., 0., 0., 1.]])"
      ]
     },
     "execution_count": 20,
     "metadata": {},
     "output_type": "execute_result"
    }
   ],
   "source": [
    "np.eye(4) # 4행 4열의 배열 생성"
   ]
  },
  {
   "cell_type": "code",
   "execution_count": 21,
   "id": "47aefe44-bfa4-4d0e-900b-33616105e765",
   "metadata": {
    "tags": []
   },
   "outputs": [
    {
     "data": {
      "text/plain": [
       "array([[1., 0., 0.],\n",
       "       [0., 1., 0.],\n",
       "       [0., 0., 1.]])"
      ]
     },
     "execution_count": 21,
     "metadata": {},
     "output_type": "execute_result"
    }
   ],
   "source": [
    "np.eye(3)"
   ]
  },
  {
   "cell_type": "markdown",
   "id": "c833896d-86de-474e-b6dd-0ee02dbf0285",
   "metadata": {
    "tags": []
   },
   "source": [
    "## 3.Random"
   ]
  },
  {
   "cell_type": "markdown",
   "id": "7b8cf04e-1cb6-41ad-9054-936aa77a063b",
   "metadata": {},
   "source": [
    "#### 임의의 숫자를 가진 배열을 만드는 기능"
   ]
  },
  {
   "cell_type": "markdown",
   "id": "30bb8a61-99b3-4b47-aa7f-fa26852399d9",
   "metadata": {},
   "source": [
    "### (1) rand()\n",
    "#### 주어진 형태로 0과 1사이의 임의의 숫자를 생성해서 배열을 생성"
   ]
  },
  {
   "cell_type": "code",
   "execution_count": 23,
   "id": "f390bacb-7e1e-4b87-a293-f818390ae24f",
   "metadata": {
    "tags": []
   },
   "outputs": [
    {
     "data": {
      "text/plain": [
       "array([0.80065574, 0.23227697])"
      ]
     },
     "execution_count": 23,
     "metadata": {},
     "output_type": "execute_result"
    }
   ],
   "source": [
    "np.random.rand(2)"
   ]
  },
  {
   "cell_type": "code",
   "execution_count": 24,
   "id": "f169bdb0-cbc1-4b62-a286-d8a95d024f4c",
   "metadata": {
    "tags": []
   },
   "outputs": [
    {
     "data": {
      "text/plain": [
       "array([[0.61111312, 0.53116993, 0.72990062, 0.20613418, 0.05698716],\n",
       "       [0.90899082, 0.06924123, 0.91960157, 0.65118219, 0.86807522],\n",
       "       [0.22297686, 0.0094633 , 0.61377764, 0.19432763, 0.12434087],\n",
       "       [0.75773377, 0.30325497, 0.22433663, 0.73394359, 0.51116439],\n",
       "       [0.23952562, 0.19139764, 0.95499635, 0.21167389, 0.51844101]])"
      ]
     },
     "execution_count": 24,
     "metadata": {},
     "output_type": "execute_result"
    }
   ],
   "source": [
    "np.random.rand(5,5)"
   ]
  },
  {
   "cell_type": "markdown",
   "id": "ba0780e5-c466-455c-a5e4-da8770b52bf2",
   "metadata": {},
   "source": [
    "### (2) randn()\n",
    "#### 정규 분포를 가진 샘플 배열을 생성"
   ]
  },
  {
   "cell_type": "code",
   "execution_count": 25,
   "id": "feeb5dba-6b9c-4cbd-979f-68b87ea3fe93",
   "metadata": {
    "tags": []
   },
   "outputs": [
    {
     "data": {
      "text/plain": [
       "array([ 1.28536796, -0.53843203])"
      ]
     },
     "execution_count": 25,
     "metadata": {},
     "output_type": "execute_result"
    }
   ],
   "source": [
    "np.random.randn(2)"
   ]
  },
  {
   "cell_type": "code",
   "execution_count": 26,
   "id": "1c7b3c23-0d1e-456f-8428-3a7ecdeab771",
   "metadata": {
    "tags": []
   },
   "outputs": [
    {
     "data": {
      "text/plain": [
       "array([[-0.21484002,  0.88966877, -2.60482675, -1.09181138,  0.10913633],\n",
       "       [ 0.42813054,  2.05003759, -0.12870655, -0.81143562, -1.11300421],\n",
       "       [ 0.21321111, -0.13843051, -0.51013292, -1.21613345,  1.19140038],\n",
       "       [ 1.65025894, -1.45465797,  0.0221768 , -0.44985428,  0.77599975],\n",
       "       [ 0.78462405,  1.84148858,  0.45011214,  1.18886353,  0.71187501]])"
      ]
     },
     "execution_count": 26,
     "metadata": {},
     "output_type": "execute_result"
    }
   ],
   "source": [
    "np.random.randn(5,5)"
   ]
  },
  {
   "cell_type": "markdown",
   "id": "277b074a-adc8-4e0d-873b-00bffdfb5803",
   "metadata": {},
   "source": [
    "### (3) randint()\n",
    "#### 주어진 숫자 사이의 임의의 정수 생성"
   ]
  },
  {
   "cell_type": "code",
   "execution_count": 27,
   "id": "72e9ee4f-2407-47cb-9ba5-bd32ea9bf354",
   "metadata": {
    "tags": []
   },
   "outputs": [
    {
     "data": {
      "text/plain": [
       "94"
      ]
     },
     "execution_count": 27,
     "metadata": {},
     "output_type": "execute_result"
    }
   ],
   "source": [
    "np.random.randint(1,100)"
   ]
  },
  {
   "cell_type": "code",
   "execution_count": 28,
   "id": "6a6547a2-e76e-4890-a19b-0f5854132142",
   "metadata": {
    "tags": []
   },
   "outputs": [
    {
     "data": {
      "text/plain": [
       "array([83, 72, 17, 52, 48, 63,  3, 34, 75, 64])"
      ]
     },
     "execution_count": 28,
     "metadata": {},
     "output_type": "execute_result"
    }
   ],
   "source": [
    "np.random.randint(1,100,10)"
   ]
  },
  {
   "cell_type": "markdown",
   "id": "562e9291-babc-4410-bbf4-43c5d3ec97b0",
   "metadata": {},
   "source": [
    "## 3. Reshape"
   ]
  },
  {
   "cell_type": "markdown",
   "id": "32ef115f-4d9f-4daf-9438-de54490d7b3b",
   "metadata": {},
   "source": [
    "#### (1) 주어진 배열을 새로운 형태로 변환"
   ]
  },
  {
   "cell_type": "code",
   "execution_count": 29,
   "id": "12590825-bef0-43b9-90b7-257fcb82de2b",
   "metadata": {
    "tags": []
   },
   "outputs": [],
   "source": [
    "# 샘플 배열 생성\n",
    "arr = np.arange(25)\n",
    "randarr = np.random.randint(0,50,10)"
   ]
  },
  {
   "cell_type": "code",
   "execution_count": 30,
   "id": "ffc1b474-eb4c-4b00-a535-d0d165fb5e91",
   "metadata": {
    "tags": []
   },
   "outputs": [
    {
     "data": {
      "text/plain": [
       "array([[ 0,  1,  2,  3,  4],\n",
       "       [ 5,  6,  7,  8,  9],\n",
       "       [10, 11, 12, 13, 14],\n",
       "       [15, 16, 17, 18, 19],\n",
       "       [20, 21, 22, 23, 24]])"
      ]
     },
     "execution_count": 30,
     "metadata": {},
     "output_type": "execute_result"
    }
   ],
   "source": [
    "arr.reshape(5,5)"
   ]
  },
  {
   "cell_type": "markdown",
   "id": "22839b12-502f-41ff-a762-768eb321995d",
   "metadata": {},
   "source": [
    "### (2) max,min"
   ]
  },
  {
   "cell_type": "code",
   "execution_count": 31,
   "id": "7fe829ed-6361-4487-847a-adf8a6b38354",
   "metadata": {
    "tags": []
   },
   "outputs": [
    {
     "data": {
      "text/plain": [
       "array([ 1, 24, 17, 45, 47, 35,  7,  1, 42,  0])"
      ]
     },
     "execution_count": 31,
     "metadata": {},
     "output_type": "execute_result"
    }
   ],
   "source": [
    "randarr"
   ]
  },
  {
   "cell_type": "code",
   "execution_count": 32,
   "id": "74e7e81e-5e18-4e9d-b79e-517265cc283a",
   "metadata": {
    "tags": []
   },
   "outputs": [
    {
     "data": {
      "text/plain": [
       "47"
      ]
     },
     "execution_count": 32,
     "metadata": {},
     "output_type": "execute_result"
    }
   ],
   "source": [
    "# 배열에 최대값 찾기\n",
    "randarr.max()"
   ]
  },
  {
   "cell_type": "code",
   "execution_count": 33,
   "id": "5d1405cd-8bbb-4aa0-ab2f-c64b4f9d31ac",
   "metadata": {
    "tags": []
   },
   "outputs": [
    {
     "data": {
      "text/plain": [
       "0"
      ]
     },
     "execution_count": 33,
     "metadata": {},
     "output_type": "execute_result"
    }
   ],
   "source": [
    "# 배열에서 최소값 찾기\n",
    "randarr.min()"
   ]
  },
  {
   "cell_type": "code",
   "execution_count": 34,
   "id": "af1d3939-f069-40e3-9b6b-f39905cc0d9c",
   "metadata": {
    "tags": []
   },
   "outputs": [
    {
     "data": {
      "text/plain": [
       "4"
      ]
     },
     "execution_count": 34,
     "metadata": {},
     "output_type": "execute_result"
    }
   ],
   "source": [
    "# 배열에서 최대값의 인덱스 찾기\n",
    "randarr.argmax()"
   ]
  },
  {
   "cell_type": "code",
   "execution_count": 35,
   "id": "06394d4d-0b73-41bc-847a-8dcf0adbbc19",
   "metadata": {
    "tags": []
   },
   "outputs": [
    {
     "data": {
      "text/plain": [
       "9"
      ]
     },
     "execution_count": 35,
     "metadata": {},
     "output_type": "execute_result"
    }
   ],
   "source": [
    "# 배열에서 최소값의 인덱스 찾기\n",
    "randarr.argmin()"
   ]
  },
  {
   "cell_type": "markdown",
   "id": "c8ed2433-6a32-4711-a7e6-1cb19824b223",
   "metadata": {},
   "source": [
    "## 4.Shape"
   ]
  },
  {
   "cell_type": "markdown",
   "id": "dd74164d-c79a-4361-b5a1-ac5cbd69c3ef",
   "metadata": {},
   "source": [
    "### 배열의 형식을 알려주는 기능 -> 함수 아님"
   ]
  },
  {
   "cell_type": "code",
   "execution_count": 36,
   "id": "3739b16c-632f-4d0b-a18a-e44cdf31eb77",
   "metadata": {
    "tags": []
   },
   "outputs": [
    {
     "data": {
      "text/plain": [
       "(25,)"
      ]
     },
     "execution_count": 36,
     "metadata": {},
     "output_type": "execute_result"
    }
   ],
   "source": [
    "arr.shape"
   ]
  },
  {
   "cell_type": "code",
   "execution_count": 37,
   "id": "f996fa53-807c-401e-86c1-b2e8cb192faa",
   "metadata": {
    "tags": []
   },
   "outputs": [
    {
     "data": {
      "text/plain": [
       "(10,)"
      ]
     },
     "execution_count": 37,
     "metadata": {},
     "output_type": "execute_result"
    }
   ],
   "source": [
    "randarr.shape"
   ]
  },
  {
   "cell_type": "code",
   "execution_count": 39,
   "id": "df68e126-d32e-4740-adad-07ec518623c7",
   "metadata": {
    "tags": []
   },
   "outputs": [
    {
     "data": {
      "text/plain": [
       "array([[ 0,  1,  2,  3,  4,  5,  6,  7,  8,  9, 10, 11, 12, 13, 14, 15,\n",
       "        16, 17, 18, 19, 20, 21, 22, 23, 24]])"
      ]
     },
     "execution_count": 39,
     "metadata": {},
     "output_type": "execute_result"
    }
   ],
   "source": [
    "arr.reshape(1,25) # 1 x 25 의 2차원 배열"
   ]
  },
  {
   "cell_type": "code",
   "execution_count": 40,
   "id": "b2f78541-80ba-4552-9dc6-837e05ba2cd1",
   "metadata": {
    "tags": []
   },
   "outputs": [
    {
     "data": {
      "text/plain": [
       "(1, 25)"
      ]
     },
     "execution_count": 40,
     "metadata": {},
     "output_type": "execute_result"
    }
   ],
   "source": [
    "arr.reshape(1,25).shape"
   ]
  },
  {
   "cell_type": "code",
   "execution_count": 41,
   "id": "892e5e55-b648-4519-807c-697fab57cc09",
   "metadata": {
    "tags": []
   },
   "outputs": [
    {
     "data": {
      "text/plain": [
       "array([[ 0],\n",
       "       [ 1],\n",
       "       [ 2],\n",
       "       [ 3],\n",
       "       [ 4],\n",
       "       [ 5],\n",
       "       [ 6],\n",
       "       [ 7],\n",
       "       [ 8],\n",
       "       [ 9],\n",
       "       [10],\n",
       "       [11],\n",
       "       [12],\n",
       "       [13],\n",
       "       [14],\n",
       "       [15],\n",
       "       [16],\n",
       "       [17],\n",
       "       [18],\n",
       "       [19],\n",
       "       [20],\n",
       "       [21],\n",
       "       [22],\n",
       "       [23],\n",
       "       [24]])"
      ]
     },
     "execution_count": 41,
     "metadata": {},
     "output_type": "execute_result"
    }
   ],
   "source": [
    "arr.reshape(25,1)"
   ]
  },
  {
   "cell_type": "code",
   "execution_count": 42,
   "id": "ababb92b-7288-4464-96f0-f46e345cd2b4",
   "metadata": {
    "tags": []
   },
   "outputs": [
    {
     "data": {
      "text/plain": [
       "(25, 1)"
      ]
     },
     "execution_count": 42,
     "metadata": {},
     "output_type": "execute_result"
    }
   ],
   "source": [
    "arr.reshape(25,1).shape"
   ]
  },
  {
   "cell_type": "markdown",
   "id": "a1e1a741-f2f8-43f1-a29d-42daf4e5c361",
   "metadata": {},
   "source": [
    "## 5. dtype"
   ]
  },
  {
   "cell_type": "markdown",
   "id": "12a27297-0c34-4a87-a6b7-14e79baf65c8",
   "metadata": {},
   "source": [
    "#### 배열에 포함된 객체의 타입"
   ]
  },
  {
   "cell_type": "code",
   "execution_count": 43,
   "id": "c8639d49-118b-4f0f-937c-982c930e1e66",
   "metadata": {
    "tags": []
   },
   "outputs": [
    {
     "data": {
      "text/plain": [
       "dtype('int32')"
      ]
     },
     "execution_count": 43,
     "metadata": {},
     "output_type": "execute_result"
    }
   ],
   "source": [
    "arr.dtype"
   ]
  },
  {
   "cell_type": "code",
   "execution_count": null,
   "id": "549c1eda-81e8-4185-8a58-31568992396b",
   "metadata": {},
   "outputs": [],
   "source": []
  }
 ],
 "metadata": {
  "kernelspec": {
   "display_name": "Python 3 (ipykernel)",
   "language": "python",
   "name": "python3"
  },
  "language_info": {
   "codemirror_mode": {
    "name": "ipython",
    "version": 3
   },
   "file_extension": ".py",
   "mimetype": "text/x-python",
   "name": "python",
   "nbconvert_exporter": "python",
   "pygments_lexer": "ipython3",
   "version": "3.11.5"
  }
 },
 "nbformat": 4,
 "nbformat_minor": 5
}
