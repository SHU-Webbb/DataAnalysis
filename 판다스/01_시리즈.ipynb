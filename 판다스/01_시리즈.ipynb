{
 "cells": [
  {
   "cell_type": "markdown",
   "id": "762ee864-b0c7-4ac2-a1c2-39c9740f2856",
   "metadata": {},
   "source": [
    "# 시리즈"
   ]
  },
  {
   "cell_type": "markdown",
   "id": "2c9f6793-325e-483d-bbbb-4a9cf28c2326",
   "metadata": {},
   "source": [
    "#### 시리즈 - 1차원의 데이터 구조를 가지는 판다스의 기본 데이터포맷. 넘파이의 배열과 유사한 기능.\n",
    "####          넘파이 배열과 다른 점은 index라고 하는 축 레이블을 갖는다."
   ]
  },
  {
   "cell_type": "code",
   "execution_count": 1,
   "id": "c8e75873-41a9-4582-8d76-8926667cc599",
   "metadata": {
    "tags": []
   },
   "outputs": [],
   "source": [
    "import numpy as np\n",
    "import pandas as pd"
   ]
  },
  {
   "cell_type": "markdown",
   "id": "7f33ee3d-837f-4a0f-9b84-e98fc5d90f2a",
   "metadata": {},
   "source": [
    "## 1. 시리즈 만들기 "
   ]
  },
  {
   "cell_type": "markdown",
   "id": "491106c9-16e6-4bf0-8ead-0905f32e3dd7",
   "metadata": {},
   "source": [
    "#### 파이썬 리스트, 넘파이 array, 딕셔너리로부터 시리즈 생성 가능."
   ]
  },
  {
   "cell_type": "code",
   "execution_count": 4,
   "id": "6297de84-f5a5-4f12-a4ef-81200f1093a6",
   "metadata": {
    "tags": []
   },
   "outputs": [],
   "source": [
    "# 여러가지 형태의 데이터\n",
    "lables = ['a', 'b', 'c']\n",
    "my_list = [10, 20, 30]\n",
    "arr = np.array([10, 20, 30])\n",
    "d = {'a':10, 'b':20, 'c':30}"
   ]
  },
  {
   "cell_type": "markdown",
   "id": "42c9ba9f-8876-4e16-b476-f389b733605f",
   "metadata": {},
   "source": [
    "### (1) 리스트 데이터에서 시리즈 만들기"
   ]
  },
  {
   "cell_type": "code",
   "execution_count": 5,
   "id": "1fd4b128-4bc3-46a8-8455-a233425ab7c5",
   "metadata": {
    "tags": []
   },
   "outputs": [
    {
     "data": {
      "text/plain": [
       "0    10\n",
       "1    20\n",
       "2    30\n",
       "dtype: int64"
      ]
     },
     "execution_count": 5,
     "metadata": {},
     "output_type": "execute_result"
    }
   ],
   "source": [
    "pd.Series(data = my_list)"
   ]
  },
  {
   "cell_type": "code",
   "execution_count": 6,
   "id": "0c94248d-3a27-46f2-b275-88e16ff758f4",
   "metadata": {
    "tags": []
   },
   "outputs": [
    {
     "data": {
      "text/plain": [
       "a    10\n",
       "b    20\n",
       "c    30\n",
       "dtype: int64"
      ]
     },
     "execution_count": 6,
     "metadata": {},
     "output_type": "execute_result"
    }
   ],
   "source": [
    "# 시리즈 생성 시, 인덱스 지정\n",
    "pd.Series(data = my_list, index = lables)"
   ]
  },
  {
   "cell_type": "code",
   "execution_count": 7,
   "id": "1bffe806-16e1-4231-a59d-b182c25f92a2",
   "metadata": {
    "tags": []
   },
   "outputs": [
    {
     "data": {
      "text/plain": [
       "a    10\n",
       "b    20\n",
       "c    30\n",
       "dtype: int64"
      ]
     },
     "execution_count": 7,
     "metadata": {},
     "output_type": "execute_result"
    }
   ],
   "source": [
    "# 속성명 생략 가능\n",
    "pd.Series(my_list, lables)"
   ]
  },
  {
   "cell_type": "markdown",
   "id": "0bc17bb0-ac2b-4513-af74-c1b5835c634c",
   "metadata": {},
   "source": [
    "### (2) 넘파이 array에서 시리즈 만들기"
   ]
  },
  {
   "cell_type": "code",
   "execution_count": 9,
   "id": "031f5555-e9a9-4037-a97b-d931fc8f8994",
   "metadata": {
    "tags": []
   },
   "outputs": [
    {
     "data": {
      "text/plain": [
       "0    10\n",
       "1    20\n",
       "2    30\n",
       "dtype: int32"
      ]
     },
     "execution_count": 9,
     "metadata": {},
     "output_type": "execute_result"
    }
   ],
   "source": [
    "pd.Series(arr)"
   ]
  },
  {
   "cell_type": "code",
   "execution_count": 10,
   "id": "5769ad6d-9707-4de5-b519-f06e245f2b92",
   "metadata": {
    "tags": []
   },
   "outputs": [
    {
     "data": {
      "text/plain": [
       "a    10\n",
       "b    20\n",
       "c    30\n",
       "dtype: int32"
      ]
     },
     "execution_count": 10,
     "metadata": {},
     "output_type": "execute_result"
    }
   ],
   "source": [
    "pd.Series(arr, lables)"
   ]
  },
  {
   "cell_type": "markdown",
   "id": "86b22556-5d63-459f-ad07-bc5a96d378f5",
   "metadata": {},
   "source": [
    "### (3) 딕셔너리에서 시리즈 만들기"
   ]
  },
  {
   "cell_type": "code",
   "execution_count": 11,
   "id": "19a85337-15cd-4e00-b8c9-a8ec67494e6d",
   "metadata": {
    "tags": []
   },
   "outputs": [
    {
     "data": {
      "text/plain": [
       "a    10\n",
       "b    20\n",
       "c    30\n",
       "dtype: int64"
      ]
     },
     "execution_count": 11,
     "metadata": {},
     "output_type": "execute_result"
    }
   ],
   "source": [
    "pd.Series(d)"
   ]
  },
  {
   "cell_type": "markdown",
   "id": "cf10546b-16c5-41a1-856b-d992c6f3f32d",
   "metadata": {},
   "source": [
    "## 2. 시리즈 내에는 다양한 형태의 데이터 저장 가능"
   ]
  },
  {
   "cell_type": "code",
   "execution_count": 13,
   "id": "503d7202-fb3e-49ab-96c6-d38d8d9b3d5c",
   "metadata": {
    "tags": []
   },
   "outputs": [
    {
     "data": {
      "text/plain": [
       "0    a\n",
       "1    b\n",
       "2    c\n",
       "dtype: object"
      ]
     },
     "execution_count": 13,
     "metadata": {},
     "output_type": "execute_result"
    }
   ],
   "source": [
    "pd.Series(data = lables)"
   ]
  },
  {
   "cell_type": "markdown",
   "id": "27ff6ce3-0eeb-4cd9-8682-3ceddd570ee1",
   "metadata": {},
   "source": [
    "## 3. Index 사용하기"
   ]
  },
  {
   "cell_type": "markdown",
   "id": "c6c5c979-65b9-421c-b23b-af1410f798c5",
   "metadata": {},
   "source": [
    "#### index - 정보를 쉽게 찾을 수 있도록 도와주는 unique한 문자나 숫자"
   ]
  },
  {
   "cell_type": "code",
   "execution_count": 19,
   "id": "87f1e325-bbc8-4090-b744-b05d8b325d1c",
   "metadata": {
    "tags": []
   },
   "outputs": [],
   "source": [
    "ser1 = pd.Series([1,2,3,4], index=['USA','Kor','Ger','Jap'])"
   ]
  },
  {
   "cell_type": "code",
   "execution_count": 20,
   "id": "d58f0f2b-a244-4f1e-9abb-e3438da098bf",
   "metadata": {
    "tags": []
   },
   "outputs": [
    {
     "data": {
      "text/plain": [
       "USA    1\n",
       "Kor    2\n",
       "Ger    3\n",
       "Jap    4\n",
       "dtype: int64"
      ]
     },
     "execution_count": 20,
     "metadata": {},
     "output_type": "execute_result"
    }
   ],
   "source": [
    "ser1"
   ]
  },
  {
   "cell_type": "code",
   "execution_count": 23,
   "id": "22f1b639-23e7-4fa5-948d-4fec15a241b5",
   "metadata": {
    "tags": []
   },
   "outputs": [],
   "source": [
    "ser2 = pd.Series([1,2,5,4], index=['USA','Kor','Ita','Jap'])"
   ]
  },
  {
   "cell_type": "code",
   "execution_count": 24,
   "id": "63d52167-2cc2-4684-b399-7179d8f59447",
   "metadata": {
    "tags": []
   },
   "outputs": [
    {
     "data": {
      "text/plain": [
       "1"
      ]
     },
     "execution_count": 24,
     "metadata": {},
     "output_type": "execute_result"
    }
   ],
   "source": [
    "ser1['USA']"
   ]
  },
  {
   "cell_type": "markdown",
   "id": "fb369497-210c-4535-a77d-bf9133f62cab",
   "metadata": {},
   "source": [
    "### 시리즈 합치기 "
   ]
  },
  {
   "cell_type": "code",
   "execution_count": 25,
   "id": "8717c68a-b29c-4b82-9798-24fbc295ec9d",
   "metadata": {
    "tags": []
   },
   "outputs": [
    {
     "data": {
      "text/plain": [
       "Ger    NaN\n",
       "Ita    NaN\n",
       "Jap    8.0\n",
       "Kor    4.0\n",
       "USA    2.0\n",
       "dtype: float64"
      ]
     },
     "execution_count": 25,
     "metadata": {},
     "output_type": "execute_result"
    }
   ],
   "source": [
    "ser1 + ser2"
   ]
  },
  {
   "cell_type": "code",
   "execution_count": null,
   "id": "b758476c-eb7b-4126-95c4-2b4581e32bae",
   "metadata": {},
   "outputs": [],
   "source": []
  }
 ],
 "metadata": {
  "kernelspec": {
   "display_name": "Python 3 (ipykernel)",
   "language": "python",
   "name": "python3"
  },
  "language_info": {
   "codemirror_mode": {
    "name": "ipython",
    "version": 3
   },
   "file_extension": ".py",
   "mimetype": "text/x-python",
   "name": "python",
   "nbconvert_exporter": "python",
   "pygments_lexer": "ipython3",
   "version": "3.11.5"
  }
 },
 "nbformat": 4,
 "nbformat_minor": 5
}
