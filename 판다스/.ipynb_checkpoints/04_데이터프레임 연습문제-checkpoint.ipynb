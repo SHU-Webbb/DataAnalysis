{
 "cells": [
  {
   "cell_type": "markdown",
   "id": "e3392293-159e-41ba-aa45-6d8417b7edd0",
   "metadata": {
    "tags": []
   },
   "source": [
    "# <데이터프레임 연습문제>"
   ]
  },
  {
   "cell_type": "markdown",
   "id": "014a7744-524a-42e6-886c-61d7332329a9",
   "metadata": {},
   "source": [
    "### (1) pandas를 import"
   ]
  },
  {
   "cell_type": "code",
   "execution_count": 3,
   "id": "87254099-5169-4e75-a266-6e0fbebe0c8d",
   "metadata": {
    "tags": []
   },
   "outputs": [],
   "source": [
    "import pandas as pd"
   ]
  },
  {
   "cell_type": "markdown",
   "id": "c18aec15-5eeb-43cb-84fb-a7ecde418114",
   "metadata": {},
   "source": [
    "### (2) 'Salaries.csv'파일 읽어서 데이터프레임 변수 sal 에 저장"
   ]
  },
  {
   "cell_type": "code",
   "execution_count": 4,
   "id": "37be5bb0-55de-47fb-b6ef-331dfa491c26",
   "metadata": {
    "tags": []
   },
   "outputs": [],
   "source": [
    "sal = pd.read_csv('Salaries.csv', encoding='utf-8')"
   ]
  },
  {
   "cell_type": "markdown",
   "id": "929490ba-d077-4f16-a49f-1a61ad7557c3",
   "metadata": {},
   "source": [
    "### (3) 데이터프레임의 head값을 확인"
   ]
  },
  {
   "cell_type": "code",
   "execution_count": 32,
   "id": "4e923a70-ed8a-43f0-bd93-f24567b691d3",
   "metadata": {
    "tags": []
   },
   "outputs": [
    {
     "data": {
      "text/html": [
       "<div>\n",
       "<style scoped>\n",
       "    .dataframe tbody tr th:only-of-type {\n",
       "        vertical-align: middle;\n",
       "    }\n",
       "\n",
       "    .dataframe tbody tr th {\n",
       "        vertical-align: top;\n",
       "    }\n",
       "\n",
       "    .dataframe thead th {\n",
       "        text-align: right;\n",
       "    }\n",
       "</style>\n",
       "<table border=\"1\" class=\"dataframe\">\n",
       "  <thead>\n",
       "    <tr style=\"text-align: right;\">\n",
       "      <th></th>\n",
       "      <th>Id</th>\n",
       "      <th>EmployeeName</th>\n",
       "      <th>JobTitle</th>\n",
       "      <th>BasePay</th>\n",
       "      <th>OvertimePay</th>\n",
       "      <th>OtherPay</th>\n",
       "      <th>Benefits</th>\n",
       "      <th>TotalPay</th>\n",
       "      <th>TotalPayBenefits</th>\n",
       "      <th>Year</th>\n",
       "      <th>Notes</th>\n",
       "      <th>Agency</th>\n",
       "      <th>Status</th>\n",
       "      <th>total</th>\n",
       "      <th>Total</th>\n",
       "    </tr>\n",
       "  </thead>\n",
       "  <tbody>\n",
       "    <tr>\n",
       "      <th>0</th>\n",
       "      <td>1</td>\n",
       "      <td>NATHANIEL FORD</td>\n",
       "      <td>GENERAL MANAGER-METROPOLITAN TRANSIT AUTHORITY</td>\n",
       "      <td>167411.18</td>\n",
       "      <td>0.00</td>\n",
       "      <td>400184.25</td>\n",
       "      <td>NaN</td>\n",
       "      <td>567595.43</td>\n",
       "      <td>567595.43</td>\n",
       "      <td>2011</td>\n",
       "      <td>NaN</td>\n",
       "      <td>San Francisco</td>\n",
       "      <td>NaN</td>\n",
       "      <td>NaN</td>\n",
       "      <td>NaN</td>\n",
       "    </tr>\n",
       "    <tr>\n",
       "      <th>1</th>\n",
       "      <td>2</td>\n",
       "      <td>GARY JIMENEZ</td>\n",
       "      <td>CAPTAIN III (POLICE DEPARTMENT)</td>\n",
       "      <td>155966.02</td>\n",
       "      <td>245131.88</td>\n",
       "      <td>137811.38</td>\n",
       "      <td>NaN</td>\n",
       "      <td>538909.28</td>\n",
       "      <td>538909.28</td>\n",
       "      <td>2011</td>\n",
       "      <td>NaN</td>\n",
       "      <td>San Francisco</td>\n",
       "      <td>NaN</td>\n",
       "      <td>NaN</td>\n",
       "      <td>NaN</td>\n",
       "    </tr>\n",
       "    <tr>\n",
       "      <th>2</th>\n",
       "      <td>3</td>\n",
       "      <td>ALBERT PARDINI</td>\n",
       "      <td>CAPTAIN III (POLICE DEPARTMENT)</td>\n",
       "      <td>212739.13</td>\n",
       "      <td>106088.18</td>\n",
       "      <td>16452.60</td>\n",
       "      <td>NaN</td>\n",
       "      <td>335279.91</td>\n",
       "      <td>335279.91</td>\n",
       "      <td>2011</td>\n",
       "      <td>NaN</td>\n",
       "      <td>San Francisco</td>\n",
       "      <td>NaN</td>\n",
       "      <td>NaN</td>\n",
       "      <td>NaN</td>\n",
       "    </tr>\n",
       "    <tr>\n",
       "      <th>3</th>\n",
       "      <td>4</td>\n",
       "      <td>CHRISTOPHER CHONG</td>\n",
       "      <td>WIRE ROPE CABLE MAINTENANCE MECHANIC</td>\n",
       "      <td>77916.00</td>\n",
       "      <td>56120.71</td>\n",
       "      <td>198306.90</td>\n",
       "      <td>NaN</td>\n",
       "      <td>332343.61</td>\n",
       "      <td>332343.61</td>\n",
       "      <td>2011</td>\n",
       "      <td>NaN</td>\n",
       "      <td>San Francisco</td>\n",
       "      <td>NaN</td>\n",
       "      <td>NaN</td>\n",
       "      <td>NaN</td>\n",
       "    </tr>\n",
       "    <tr>\n",
       "      <th>4</th>\n",
       "      <td>5</td>\n",
       "      <td>PATRICK GARDNER</td>\n",
       "      <td>DEPUTY CHIEF OF DEPARTMENT,(FIRE DEPARTMENT)</td>\n",
       "      <td>134401.60</td>\n",
       "      <td>9737.00</td>\n",
       "      <td>182234.59</td>\n",
       "      <td>NaN</td>\n",
       "      <td>326373.19</td>\n",
       "      <td>326373.19</td>\n",
       "      <td>2011</td>\n",
       "      <td>NaN</td>\n",
       "      <td>San Francisco</td>\n",
       "      <td>NaN</td>\n",
       "      <td>NaN</td>\n",
       "      <td>NaN</td>\n",
       "    </tr>\n",
       "  </tbody>\n",
       "</table>\n",
       "</div>"
      ],
      "text/plain": [
       "   Id       EmployeeName                                        JobTitle  \\\n",
       "0   1     NATHANIEL FORD  GENERAL MANAGER-METROPOLITAN TRANSIT AUTHORITY   \n",
       "1   2       GARY JIMENEZ                 CAPTAIN III (POLICE DEPARTMENT)   \n",
       "2   3     ALBERT PARDINI                 CAPTAIN III (POLICE DEPARTMENT)   \n",
       "3   4  CHRISTOPHER CHONG            WIRE ROPE CABLE MAINTENANCE MECHANIC   \n",
       "4   5    PATRICK GARDNER    DEPUTY CHIEF OF DEPARTMENT,(FIRE DEPARTMENT)   \n",
       "\n",
       "     BasePay  OvertimePay   OtherPay  Benefits   TotalPay  TotalPayBenefits  \\\n",
       "0  167411.18         0.00  400184.25       NaN  567595.43         567595.43   \n",
       "1  155966.02    245131.88  137811.38       NaN  538909.28         538909.28   \n",
       "2  212739.13    106088.18   16452.60       NaN  335279.91         335279.91   \n",
       "3   77916.00     56120.71  198306.90       NaN  332343.61         332343.61   \n",
       "4  134401.60      9737.00  182234.59       NaN  326373.19         326373.19   \n",
       "\n",
       "   Year  Notes         Agency  Status  total  Total  \n",
       "0  2011    NaN  San Francisco     NaN    NaN    NaN  \n",
       "1  2011    NaN  San Francisco     NaN    NaN    NaN  \n",
       "2  2011    NaN  San Francisco     NaN    NaN    NaN  \n",
       "3  2011    NaN  San Francisco     NaN    NaN    NaN  \n",
       "4  2011    NaN  San Francisco     NaN    NaN    NaN  "
      ]
     },
     "execution_count": 32,
     "metadata": {},
     "output_type": "execute_result"
    }
   ],
   "source": [
    "sal.head()"
   ]
  },
  {
   "cell_type": "markdown",
   "id": "a5cc6ca0-46af-4206-b24d-654d1b99c9c2",
   "metadata": {},
   "source": [
    "### (4) info() 메소드를 사용하여 값의 갯수와 타입을 확인."
   ]
  },
  {
   "cell_type": "code",
   "execution_count": 7,
   "id": "8cadac0d-f3ab-4fb9-81c5-faafc437afa9",
   "metadata": {
    "tags": []
   },
   "outputs": [
    {
     "name": "stdout",
     "output_type": "stream",
     "text": [
      "<class 'pandas.core.frame.DataFrame'>\n",
      "RangeIndex: 148654 entries, 0 to 148653\n",
      "Data columns (total 13 columns):\n",
      " #   Column            Non-Null Count   Dtype  \n",
      "---  ------            --------------   -----  \n",
      " 0   Id                148654 non-null  int64  \n",
      " 1   EmployeeName      148654 non-null  object \n",
      " 2   JobTitle          148654 non-null  object \n",
      " 3   BasePay           148045 non-null  float64\n",
      " 4   OvertimePay       148650 non-null  float64\n",
      " 5   OtherPay          148650 non-null  float64\n",
      " 6   Benefits          112491 non-null  float64\n",
      " 7   TotalPay          148654 non-null  float64\n",
      " 8   TotalPayBenefits  148654 non-null  float64\n",
      " 9   Year              148654 non-null  int64  \n",
      " 10  Notes             0 non-null       float64\n",
      " 11  Agency            148654 non-null  object \n",
      " 12  Status            0 non-null       float64\n",
      "dtypes: float64(8), int64(2), object(3)\n",
      "memory usage: 14.7+ MB\n"
     ]
    }
   ],
   "source": [
    "sal.info()"
   ]
  },
  {
   "cell_type": "markdown",
   "id": "4d03dade-3bf6-4e56-a62c-a77a6ebdb778",
   "metadata": {
    "tags": []
   },
   "source": [
    "### (5) BasePay의 평균값은 얼마인가"
   ]
  },
  {
   "cell_type": "code",
   "execution_count": 18,
   "id": "3ad87349-42c7-4a0e-8ae2-1336f37d3259",
   "metadata": {
    "tags": []
   },
   "outputs": [
    {
     "data": {
      "text/plain": [
       "0         167411.18\n",
       "1         155966.02\n",
       "2         212739.13\n",
       "3          77916.00\n",
       "4         134401.60\n",
       "            ...    \n",
       "148649         0.00\n",
       "148650          NaN\n",
       "148651          NaN\n",
       "148652          NaN\n",
       "148653         0.00\n",
       "Name: BasePay, Length: 148654, dtype: float64"
      ]
     },
     "execution_count": 18,
     "metadata": {},
     "output_type": "execute_result"
    }
   ],
   "source": [
    "sal['BasePay']"
   ]
  },
  {
   "cell_type": "code",
   "execution_count": 19,
   "id": "00a7dc9e-c2f9-4b84-bf8a-606f968f4abc",
   "metadata": {
    "tags": []
   },
   "outputs": [
    {
     "data": {
      "text/plain": [
       "66325.4488404877"
      ]
     },
     "execution_count": 19,
     "metadata": {},
     "output_type": "execute_result"
    }
   ],
   "source": [
    "sal['BasePay'].mean()"
   ]
  },
  {
   "cell_type": "markdown",
   "id": "bdc9a30a-0c9e-4d53-bb4f-a40ae48a1634",
   "metadata": {},
   "source": [
    "### (6) OvertimePay에서 가장 큰 값은 얼마인가?"
   ]
  },
  {
   "cell_type": "code",
   "execution_count": 20,
   "id": "a69064c7-f495-4425-993e-9069094976dc",
   "metadata": {
    "tags": []
   },
   "outputs": [
    {
     "data": {
      "text/plain": [
       "245131.88"
      ]
     },
     "execution_count": 20,
     "metadata": {},
     "output_type": "execute_result"
    }
   ],
   "source": [
    "sal['OvertimePay'].max()"
   ]
  },
  {
   "cell_type": "markdown",
   "id": "b4104dcc-1b17-46d2-897c-231013b5df51",
   "metadata": {},
   "source": [
    "### (7) JOSEPH DRISCOLL의 직책(JOB TITLE)은 무엇인가?"
   ]
  },
  {
   "cell_type": "code",
   "execution_count": 22,
   "id": "71f3a180-5b76-4156-a278-22d4f28ada84",
   "metadata": {
    "tags": []
   },
   "outputs": [
    {
     "data": {
      "text/plain": [
       "24    CAPTAIN, FIRE SUPPRESSION\n",
       "Name: JobTitle, dtype: object"
      ]
     },
     "execution_count": 22,
     "metadata": {},
     "output_type": "execute_result"
    }
   ],
   "source": [
    "sal[sal['EmployeeName'] == 'JOSEPH DRISCOLL']['JobTitle']"
   ]
  },
  {
   "cell_type": "markdown",
   "id": "e2103b80-add4-48cf-8def-40ac43f0ed25",
   "metadata": {},
   "source": [
    "### (8) JOSEPH DRISCOLL은 총 얼마(benefits 포함 급여) 를 버는가?"
   ]
  },
  {
   "cell_type": "code",
   "execution_count": 40,
   "id": "19901555-2bc7-46f4-bc32-d79e419b1e44",
   "metadata": {
    "tags": []
   },
   "outputs": [
    {
     "data": {
      "text/plain": [
       "24    270324.91\n",
       "Name: TotalPayBenefits, dtype: float64"
      ]
     },
     "execution_count": 40,
     "metadata": {},
     "output_type": "execute_result"
    }
   ],
   "source": [
    "\n",
    "sal[sal['EmployeeName'] == 'JOSEPH DRISCOLL']['TotalPayBenefits']\n"
   ]
  },
  {
   "cell_type": "markdown",
   "id": "ba428c90-d1ac-4cc9-9586-aae4790d23aa",
   "metadata": {},
   "source": [
    "### (9) 가장 높은 급여(Benefits 포함급여)를 받는 사람의 이름은 무엇인가?"
   ]
  },
  {
   "cell_type": "code",
   "execution_count": 45,
   "id": "f3363871-bd1b-4175-a180-9fba0f7fc437",
   "metadata": {
    "tags": []
   },
   "outputs": [
    {
     "data": {
      "text/plain": [
       "0    NATHANIEL FORD\n",
       "Name: EmployeeName, dtype: object"
      ]
     },
     "execution_count": 45,
     "metadata": {},
     "output_type": "execute_result"
    }
   ],
   "source": [
    "sal[sal['TotalPayBenefits']== sal['TotalPayBenefits'].max()]['EmployeeName']"
   ]
  },
  {
   "cell_type": "markdown",
   "id": "0eda2059-5948-4fbc-84af-38b044b42174",
   "metadata": {},
   "source": [
    "### (10) 가장 낮은 급여(Benefits 포함급여)를 받는 사람의 이름은 무엇인가? 급여값 확인."
   ]
  },
  {
   "cell_type": "code",
   "execution_count": 46,
   "id": "8486a640-1342-4fa2-8bae-457301e6dca4",
   "metadata": {
    "tags": []
   },
   "outputs": [
    {
     "data": {
      "text/plain": [
       "148653    Joe Lopez\n",
       "Name: EmployeeName, dtype: object"
      ]
     },
     "execution_count": 46,
     "metadata": {},
     "output_type": "execute_result"
    }
   ],
   "source": [
    "sal[sal['TotalPayBenefits']== sal['TotalPayBenefits'].min()]['EmployeeName']"
   ]
  },
  {
   "cell_type": "code",
   "execution_count": 47,
   "id": "4dd213a9-af84-478c-840f-7189ae37da78",
   "metadata": {
    "tags": []
   },
   "outputs": [
    {
     "data": {
      "text/plain": [
       "148653   -618.13\n",
       "Name: TotalPayBenefits, dtype: float64"
      ]
     },
     "execution_count": 47,
     "metadata": {},
     "output_type": "execute_result"
    }
   ],
   "source": [
    "sal[sal['EmployeeName'] == 'Joe Lopez']['TotalPayBenefits']"
   ]
  },
  {
   "cell_type": "markdown",
   "id": "eba4b446-97b2-476d-ad97-e3966c1ddc77",
   "metadata": {},
   "source": [
    "### (11) 년도별 모든 사원의 기본 급여 평균은 얼마인가?"
   ]
  },
  {
   "cell_type": "code",
   "execution_count": 53,
   "id": "11dbefac-26d2-4b96-9014-da1671997908",
   "metadata": {
    "tags": []
   },
   "outputs": [
    {
     "data": {
      "text/plain": [
       "Year\n",
       "2011    63595.956517\n",
       "2012    65436.406857\n",
       "2013    69630.030216\n",
       "2014    66564.421924\n",
       "Name: BasePay, dtype: float64"
      ]
     },
     "execution_count": 53,
     "metadata": {},
     "output_type": "execute_result"
    }
   ],
   "source": [
    "sal_year = sal.groupby('Year')\n",
    "sal_year['BasePay'].mean()"
   ]
  },
  {
   "cell_type": "markdown",
   "id": "6c0675b5-ea21-40a7-87a5-5d52a6e69111",
   "metadata": {},
   "source": [
    "### (12) 중복값을 제외한 직급 (job title)의 갯수는 몇개인가"
   ]
  },
  {
   "cell_type": "code",
   "execution_count": 132,
   "id": "79b68198-9710-4571-949d-7447e47ee9e1",
   "metadata": {
    "tags": []
   },
   "outputs": [
    {
     "data": {
      "text/plain": [
       "2159"
      ]
     },
     "execution_count": 132,
     "metadata": {},
     "output_type": "execute_result"
    }
   ],
   "source": [
    "sal['JobTitle'].nunique()"
   ]
  },
  {
   "cell_type": "code",
   "execution_count": 128,
   "id": "9287ebcb-a612-4903-a5c6-92f31814f258",
   "metadata": {
    "tags": []
   },
   "outputs": [
    {
     "data": {
      "text/plain": [
       "JobTitle\n",
       "ACCOUNT CLERK                                      83\n",
       "ACCOUNTANT                                          5\n",
       "ACCOUNTANT INTERN                                  48\n",
       "ACPO,JuvP, Juv Prob (SFERS)                         1\n",
       "ACUPUNCTURIST                                       1\n",
       "                                                 ... \n",
       "X-RAY LABORATORY AIDE                              26\n",
       "X-Ray Laboratory Aide                             100\n",
       "YOUTH COMMISSION ADVISOR, BOARD OF SUPERVISORS      1\n",
       "Youth Comm Advisor                                  4\n",
       "ZOO CURATOR                                         1\n",
       "Name: JobTitle, Length: 2159, dtype: int64"
      ]
     },
     "execution_count": 128,
     "metadata": {},
     "output_type": "execute_result"
    }
   ],
   "source": [
    "sal_job = sal.groupby('JobTitle')\n",
    "sal_job['JobTitle'].count()"
   ]
  },
  {
   "cell_type": "markdown",
   "id": "4299282a-c8e7-4a34-b0d3-37518055f721",
   "metadata": {},
   "source": [
    "### (13) 가장 많이 갖고 있는 직종 5개는 무엇이고 몇개 인가."
   ]
  },
  {
   "cell_type": "code",
   "execution_count": 133,
   "id": "d230ce6f-0c73-434b-9353-7b406b7eccca",
   "metadata": {
    "tags": []
   },
   "outputs": [
    {
     "data": {
      "text/plain": [
       "JobTitle\n",
       "Transit Operator                7036\n",
       "Special Nurse                   4389\n",
       "Registered Nurse                3736\n",
       "Public Svc Aide-Public Works    2518\n",
       "Police Officer 3                2421\n",
       "Name: count, dtype: int64"
      ]
     },
     "execution_count": 133,
     "metadata": {},
     "output_type": "execute_result"
    }
   ],
   "source": [
    "top_job_titles = sal['JobTitle'].value_counts()\n",
    "top_job_titles.sort_values(ascending = False).head(5)"
   ]
  },
  {
   "cell_type": "markdown",
   "id": "7638c24b-8e28-4dbc-9f64-c8ecb2408fd5",
   "metadata": {},
   "source": [
    "### (14) 2013년에 오직 한 사람 한테만 부여된 직책은 몇개 인가? "
   ]
  },
  {
   "cell_type": "code",
   "execution_count": 141,
   "id": "0513a34c-10d5-413c-9a30-4d2b86333214",
   "metadata": {
    "tags": []
   },
   "outputs": [
    {
     "data": {
      "text/plain": [
       "202"
      ]
     },
     "execution_count": 141,
     "metadata": {},
     "output_type": "execute_result"
    }
   ],
   "source": [
    "sum(sal[sal['Year'] == 2013]['JobTitle'].value_counts() == 1)"
   ]
  },
  {
   "cell_type": "markdown",
   "id": "b29d9515-e3cd-45ff-b616-05df94dc92f0",
   "metadata": {},
   "source": [
    "\n",
    "### (15) 직책에 Chief가 들어간 사람은 몇명인가?"
   ]
  },
  {
   "cell_type": "code",
   "execution_count": 154,
   "id": "1658c6bc-09ab-45ab-94ba-88983a13a6ee",
   "metadata": {
    "tags": []
   },
   "outputs": [
    {
     "data": {
      "text/plain": [
       "627"
      ]
     },
     "execution_count": 154,
     "metadata": {},
     "output_type": "execute_result"
    }
   ],
   "source": [
    "chief_jobs = (sal[sal['JobTitle'].str.contains('Chief', case=False)])\n",
    "chief_jobs['Id'].count()"
   ]
  },
  {
   "cell_type": "code",
   "execution_count": 153,
   "id": "88a8a13f-a953-4b35-8cae-2aa5618252ff",
   "metadata": {
    "tags": []
   },
   "outputs": [
    {
     "data": {
      "text/plain": [
       "627"
      ]
     },
     "execution_count": 153,
     "metadata": {},
     "output_type": "execute_result"
    }
   ],
   "source": [
    "def title_string(title):\n",
    "    if 'chief' in title.lower():\n",
    "        return True\n",
    "    else:\n",
    "        return False\n",
    "    \n",
    "sum(sal['JobTitle'].apply(title_string))\n",
    "# 람다식으로 표현\n",
    "sum(sal['JobTitle'].apply(lambda x : title_string(x)))"
   ]
  },
  {
   "cell_type": "code",
   "execution_count": null,
   "id": "8117ce5a-1706-44ea-9f25-7f0bc42f2587",
   "metadata": {},
   "outputs": [],
   "source": []
  }
 ],
 "metadata": {
  "kernelspec": {
   "display_name": "Python 3 (ipykernel)",
   "language": "python",
   "name": "python3"
  },
  "language_info": {
   "codemirror_mode": {
    "name": "ipython",
    "version": 3
   },
   "file_extension": ".py",
   "mimetype": "text/x-python",
   "name": "python",
   "nbconvert_exporter": "python",
   "pygments_lexer": "ipython3",
   "version": "3.11.5"
  }
 },
 "nbformat": 4,
 "nbformat_minor": 5
}
