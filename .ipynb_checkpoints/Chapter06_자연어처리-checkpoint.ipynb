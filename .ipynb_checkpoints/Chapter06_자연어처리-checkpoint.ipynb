{
 "cells": [
  {
   "cell_type": "markdown",
   "id": "4d0a1c88-e69a-4fa1-a0c6-3b2b9a48a1b2",
   "metadata": {},
   "source": [
    "# 자연어 처리"
   ]
  },
  {
   "cell_type": "markdown",
   "id": "0501f387-7f0e-4cb2-9a3c-2b3a65f5986e",
   "metadata": {},
   "source": [
    "# 1. 한글 자연어 처리"
   ]
  },
  {
   "cell_type": "markdown",
   "id": "8a6458dd-a3ac-41bf-99a3-8235083c5da9",
   "metadata": {},
   "source": [
    "#### 한글 자연어 처리 모듈 - LucyPart 개발한 KoNLPy 모듈\n",
    "#### 파이썬으로 한국어 정보처리를 하기위한 패키지"
   ]
  },
  {
   "cell_type": "markdown",
   "id": "488e18bc-36a3-42c4-98ab-bd0f67ab4afe",
   "metadata": {},
   "source": [
    "## (1) KoNLPy 설치"
   ]
  },
  {
   "cell_type": "markdown",
   "id": "9e966d22-f7e8-4269-a3a0-36bf30e1b42e",
   "metadata": {},
   "source": [
    "### 1) 자바언어로 개발된 모듈이므로 jdk설치필요"
   ]
  },
  {
   "cell_type": "markdown",
   "id": "ea5887e8-11aa-47d4-99ae-46a0d2946f73",
   "metadata": {},
   "source": [
    "### 2) Jpype 설치 = 파이썬에서 Java로 접근해 주는 모듈\n",
    "#### - pip install Jpype1\n",
    "#### - pip install KonLpy\n",
    "### 3) tweepy 3.10.0 설치 - 트위터 API에 접글할 수 있는 파이썬 패키지 "
   ]
  },
  {
   "cell_type": "markdown",
   "id": "c572e9f5-e8ae-41ec-aa0c-8cf5a9046c2e",
   "metadata": {},
   "source": [
    "## (2) nltk 설치\n",
    "#### - 자연어 처리를 위한 파이썬 패키지\n",
    "#### - 터미널에서 python 입력\n",
    "#### - import nltk 수행\n",
    "#### - nltk.download() 수행\n",
    "#### - 나타난 화면에서 'All Packages' 탭으로 가서 'Stopwords''와 'punkt'를 더블 클릭하여 다운로드.\n"
   ]
  },
  {
   "cell_type": "markdown",
   "id": "9c61124b-5f71-4bb4-870f-0890fa104811",
   "metadata": {},
   "source": [
    "### (3) wordcloud 설치\n",
    "#### - 태그들을 분석하여 중요도에 따라 시각적으로 표현하는 모듈\n",
    "#### - pip install wordcloud"
   ]
  },
  {
   "cell_type": "markdown",
   "id": "fe670c06-9f8c-4053-b240-bcb346c196fb",
   "metadata": {},
   "source": [
    "## 2. 한글 자연어 처리 기초"
   ]
  },
  {
   "cell_type": "markdown",
   "id": "2db1c7b8-8288-425d-b011-74e65aef59ab",
   "metadata": {},
   "source": [
    "#### KoNLPy에서는 꼬꼬마, 한나눔 엔진 등도 사용할 수 있음."
   ]
  },
  {
   "cell_type": "markdown",
   "id": "15d5b134-abec-4947-ad7a-69e5a4af91a8",
   "metadata": {},
   "source": [
    "### (1) 꼬꼬마 엔진을 사용한 한글 문장 분석"
   ]
  },
  {
   "cell_type": "code",
   "execution_count": 2,
   "id": "54f1545b-6a16-4b08-97c9-024d67fa83ed",
   "metadata": {
    "tags": []
   },
   "outputs": [],
   "source": [
    "from konlpy.tag import Kkma\n",
    "kkma = Kkma() # 꼬꼬마 엔진 초기화 "
   ]
  },
  {
   "cell_type": "code",
   "execution_count": 4,
   "id": "9d6b0d47-2deb-4b88-b220-1617582e1491",
   "metadata": {
    "tags": []
   },
   "outputs": [
    {
     "data": {
      "text/plain": [
       "['한국어 분석을 시작합니다', '재미있어요~~']"
      ]
     },
     "execution_count": 4,
     "metadata": {},
     "output_type": "execute_result"
    }
   ],
   "source": [
    "# 문장을 구분하는 처리\n",
    "kkma.sentences('한국어 분석을 시작합니다 재미있어요~~')"
   ]
  },
  {
   "cell_type": "code",
   "execution_count": 5,
   "id": "905b0431-d812-4a6d-9175-58344959fa35",
   "metadata": {
    "tags": []
   },
   "outputs": [
    {
     "data": {
      "text/plain": [
       "['한국어', '분석']"
      ]
     },
     "execution_count": 5,
     "metadata": {},
     "output_type": "execute_result"
    }
   ],
   "source": [
    "# 명사 구분 처리\n",
    "kkma.nouns('한국어 분석을 시작합니다 재미있어요~~')"
   ]
  },
  {
   "cell_type": "code",
   "execution_count": 6,
   "id": "38192b6a-e353-4cb7-83c2-62fd6a5c0db3",
   "metadata": {
    "tags": []
   },
   "outputs": [
    {
     "data": {
      "text/plain": [
       "[('한국어', 'NNG'),\n",
       " ('분석', 'NNG'),\n",
       " ('을', 'JKO'),\n",
       " ('시작하', 'VV'),\n",
       " ('ㅂ니다', 'EFN'),\n",
       " ('재미있', 'VA'),\n",
       " ('어요', 'EFN'),\n",
       " ('~~', 'SW')]"
      ]
     },
     "execution_count": 6,
     "metadata": {},
     "output_type": "execute_result"
    }
   ],
   "source": [
    "# 형태소 분석\n",
    "# 형태소 - 문법의 가장 작은 단위\n",
    "kkma.pos('한국어 분석을 시작합니다 재미있어요~~')"
   ]
  },
  {
   "cell_type": "code",
   "execution_count": null,
   "id": "60eda0ab-72c1-49be-bf9b-b36f5a521b82",
   "metadata": {},
   "outputs": [],
   "source": []
  }
 ],
 "metadata": {
  "kernelspec": {
   "display_name": "Python 3 (ipykernel)",
   "language": "python",
   "name": "python3"
  },
  "language_info": {
   "codemirror_mode": {
    "name": "ipython",
    "version": 3
   },
   "file_extension": ".py",
   "mimetype": "text/x-python",
   "name": "python",
   "nbconvert_exporter": "python",
   "pygments_lexer": "ipython3",
   "version": "3.11.5"
  }
 },
 "nbformat": 4,
 "nbformat_minor": 5
}
