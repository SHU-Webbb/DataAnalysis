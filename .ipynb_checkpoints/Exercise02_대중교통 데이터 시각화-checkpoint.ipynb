{
 "cells": [
  {
   "cell_type": "markdown",
   "id": "dab72be7-ce2e-431d-8e88-07cc141dbe67",
   "metadata": {},
   "source": [
    "# 지하철 유무임 승차 분석"
   ]
  },
  {
   "cell_type": "markdown",
   "id": "97667ee3-ba6e-4af9-9309-7ae04c74baa5",
   "metadata": {},
   "source": [
    "## 1. csv 파일 읽고 데이터 정제"
   ]
  },
  {
   "cell_type": "code",
   "execution_count": 31,
   "id": "c35cf42f-9123-438b-b29b-dbdfd808f211",
   "metadata": {
    "tags": []
   },
   "outputs": [
    {
     "data": {
      "text/html": [
       "<div>\n",
       "<style scoped>\n",
       "    .dataframe tbody tr th:only-of-type {\n",
       "        vertical-align: middle;\n",
       "    }\n",
       "\n",
       "    .dataframe tbody tr th {\n",
       "        vertical-align: top;\n",
       "    }\n",
       "\n",
       "    .dataframe thead th {\n",
       "        text-align: right;\n",
       "    }\n",
       "</style>\n",
       "<table border=\"1\" class=\"dataframe\">\n",
       "  <thead>\n",
       "    <tr style=\"text-align: right;\">\n",
       "      <th></th>\n",
       "      <th>사용월</th>\n",
       "      <th>호선명</th>\n",
       "      <th>역ID</th>\n",
       "      <th>지하철역</th>\n",
       "      <th>유임승차</th>\n",
       "      <th>유임하차</th>\n",
       "      <th>무임승차</th>\n",
       "      <th>무임하차</th>\n",
       "    </tr>\n",
       "  </thead>\n",
       "  <tbody>\n",
       "    <tr>\n",
       "      <th>0</th>\n",
       "      <td>2024-03</td>\n",
       "      <td>1호선</td>\n",
       "      <td>150</td>\n",
       "      <td>서울역</td>\n",
       "      <td>1447754</td>\n",
       "      <td>1393734</td>\n",
       "      <td>227062</td>\n",
       "      <td>217639</td>\n",
       "    </tr>\n",
       "    <tr>\n",
       "      <th>1</th>\n",
       "      <td>2024-03</td>\n",
       "      <td>1호선</td>\n",
       "      <td>151</td>\n",
       "      <td>시청</td>\n",
       "      <td>664265</td>\n",
       "      <td>656796</td>\n",
       "      <td>111445</td>\n",
       "      <td>108138</td>\n",
       "    </tr>\n",
       "    <tr>\n",
       "      <th>2</th>\n",
       "      <td>2024-03</td>\n",
       "      <td>1호선</td>\n",
       "      <td>152</td>\n",
       "      <td>종각</td>\n",
       "      <td>964737</td>\n",
       "      <td>946524</td>\n",
       "      <td>152686</td>\n",
       "      <td>142688</td>\n",
       "    </tr>\n",
       "    <tr>\n",
       "      <th>3</th>\n",
       "      <td>2024-03</td>\n",
       "      <td>1호선</td>\n",
       "      <td>153</td>\n",
       "      <td>종로3가</td>\n",
       "      <td>499200</td>\n",
       "      <td>462956</td>\n",
       "      <td>310535</td>\n",
       "      <td>287412</td>\n",
       "    </tr>\n",
       "    <tr>\n",
       "      <th>4</th>\n",
       "      <td>2024-03</td>\n",
       "      <td>1호선</td>\n",
       "      <td>154</td>\n",
       "      <td>종로5가</td>\n",
       "      <td>507635</td>\n",
       "      <td>495448</td>\n",
       "      <td>270416</td>\n",
       "      <td>260685</td>\n",
       "    </tr>\n",
       "  </tbody>\n",
       "</table>\n",
       "</div>"
      ],
      "text/plain": [
       "       사용월  호선명  역ID  지하철역     유임승차     유임하차    무임승차    무임하차\n",
       "0  2024-03  1호선  150   서울역  1447754  1393734  227062  217639\n",
       "1  2024-03  1호선  151    시청   664265   656796  111445  108138\n",
       "2  2024-03  1호선  152    종각   964737   946524  152686  142688\n",
       "3  2024-03  1호선  153  종로3가   499200   462956  310535  287412\n",
       "4  2024-03  1호선  154  종로5가   507635   495448  270416  260685"
      ]
     },
     "execution_count": 31,
     "metadata": {},
     "output_type": "execute_result"
    }
   ],
   "source": [
    "import pandas as pd\n",
    "import numpy as np\n",
    "subway_raw = pd.read_csv('./data/subwayfree_202403.csv', encoding='utf-8')\n",
    "subway_raw.head()"
   ]
  },
  {
   "cell_type": "code",
   "execution_count": 21,
   "id": "dd72fc76-6568-4091-9e4a-3c2bf071a39c",
   "metadata": {
    "tags": []
   },
   "outputs": [
    {
     "name": "stdout",
     "output_type": "stream",
     "text": [
      "<class 'pandas.core.frame.DataFrame'>\n",
      "RangeIndex: 622 entries, 0 to 621\n",
      "Data columns (total 8 columns):\n",
      " #   Column  Non-Null Count  Dtype \n",
      "---  ------  --------------  ----- \n",
      " 0   사용월     622 non-null    object\n",
      " 1   호선명     622 non-null    object\n",
      " 2   역ID     622 non-null    int64 \n",
      " 3   지하철역    622 non-null    object\n",
      " 4   유임승차    622 non-null    int64 \n",
      " 5   유임하차    622 non-null    int64 \n",
      " 6   무임승차    622 non-null    int64 \n",
      " 7   무임하차    622 non-null    int64 \n",
      "dtypes: int64(5), object(3)\n",
      "memory usage: 39.0+ KB\n"
     ]
    }
   ],
   "source": [
    "subway_raw.info()"
   ]
  },
  {
   "cell_type": "markdown",
   "id": "d5e07d74-8f76-4408-aed0-bf56ca5c3391",
   "metadata": {},
   "source": [
    "### (1) 유무임 승차 비율이 가장 높은 역\n",
    "#### 첫번째 방법: 유임승차/무임승차"
   ]
  },
  {
   "cell_type": "code",
   "execution_count": 34,
   "id": "4db19086-0fc4-450c-9488-c09bfc9cb5e3",
   "metadata": {
    "tags": []
   },
   "outputs": [],
   "source": [
    "rate = subway_raw['유임승차'] / subway_raw['무임승차']"
   ]
  },
  {
   "cell_type": "code",
   "execution_count": 35,
   "id": "492593de-6d77-41f8-8d8b-00b33d6093c4",
   "metadata": {
    "tags": []
   },
   "outputs": [],
   "source": [
    "subway_raw['유무임승차비율1'] = rate"
   ]
  },
  {
   "cell_type": "code",
   "execution_count": 36,
   "id": "ef1575cb-0efb-44e8-8ceb-a7e8ccbfede7",
   "metadata": {
    "tags": []
   },
   "outputs": [
    {
     "data": {
      "text/html": [
       "<div>\n",
       "<style scoped>\n",
       "    .dataframe tbody tr th:only-of-type {\n",
       "        vertical-align: middle;\n",
       "    }\n",
       "\n",
       "    .dataframe tbody tr th {\n",
       "        vertical-align: top;\n",
       "    }\n",
       "\n",
       "    .dataframe thead th {\n",
       "        text-align: right;\n",
       "    }\n",
       "</style>\n",
       "<table border=\"1\" class=\"dataframe\">\n",
       "  <thead>\n",
       "    <tr style=\"text-align: right;\">\n",
       "      <th></th>\n",
       "      <th>사용월</th>\n",
       "      <th>호선명</th>\n",
       "      <th>역ID</th>\n",
       "      <th>지하철역</th>\n",
       "      <th>유임승차</th>\n",
       "      <th>유임하차</th>\n",
       "      <th>무임승차</th>\n",
       "      <th>무임하차</th>\n",
       "      <th>유무임승차비율1</th>\n",
       "    </tr>\n",
       "  </thead>\n",
       "  <tbody>\n",
       "    <tr>\n",
       "      <th>0</th>\n",
       "      <td>2024-03</td>\n",
       "      <td>1호선</td>\n",
       "      <td>150</td>\n",
       "      <td>서울역</td>\n",
       "      <td>1447754</td>\n",
       "      <td>1393734</td>\n",
       "      <td>227062</td>\n",
       "      <td>217639</td>\n",
       "      <td>6.376029</td>\n",
       "    </tr>\n",
       "    <tr>\n",
       "      <th>1</th>\n",
       "      <td>2024-03</td>\n",
       "      <td>1호선</td>\n",
       "      <td>151</td>\n",
       "      <td>시청</td>\n",
       "      <td>664265</td>\n",
       "      <td>656796</td>\n",
       "      <td>111445</td>\n",
       "      <td>108138</td>\n",
       "      <td>5.960474</td>\n",
       "    </tr>\n",
       "    <tr>\n",
       "      <th>2</th>\n",
       "      <td>2024-03</td>\n",
       "      <td>1호선</td>\n",
       "      <td>152</td>\n",
       "      <td>종각</td>\n",
       "      <td>964737</td>\n",
       "      <td>946524</td>\n",
       "      <td>152686</td>\n",
       "      <td>142688</td>\n",
       "      <td>6.318438</td>\n",
       "    </tr>\n",
       "    <tr>\n",
       "      <th>3</th>\n",
       "      <td>2024-03</td>\n",
       "      <td>1호선</td>\n",
       "      <td>153</td>\n",
       "      <td>종로3가</td>\n",
       "      <td>499200</td>\n",
       "      <td>462956</td>\n",
       "      <td>310535</td>\n",
       "      <td>287412</td>\n",
       "      <td>1.607548</td>\n",
       "    </tr>\n",
       "    <tr>\n",
       "      <th>4</th>\n",
       "      <td>2024-03</td>\n",
       "      <td>1호선</td>\n",
       "      <td>154</td>\n",
       "      <td>종로5가</td>\n",
       "      <td>507635</td>\n",
       "      <td>495448</td>\n",
       "      <td>270416</td>\n",
       "      <td>260685</td>\n",
       "      <td>1.877237</td>\n",
       "    </tr>\n",
       "    <tr>\n",
       "      <th>...</th>\n",
       "      <td>...</td>\n",
       "      <td>...</td>\n",
       "      <td>...</td>\n",
       "      <td>...</td>\n",
       "      <td>...</td>\n",
       "      <td>...</td>\n",
       "      <td>...</td>\n",
       "      <td>...</td>\n",
       "      <td>...</td>\n",
       "    </tr>\n",
       "    <tr>\n",
       "      <th>617</th>\n",
       "      <td>2024-03</td>\n",
       "      <td>신림선</td>\n",
       "      <td>4407</td>\n",
       "      <td>당곡</td>\n",
       "      <td>102268</td>\n",
       "      <td>97581</td>\n",
       "      <td>40291</td>\n",
       "      <td>39955</td>\n",
       "      <td>2.538234</td>\n",
       "    </tr>\n",
       "    <tr>\n",
       "      <th>618</th>\n",
       "      <td>2024-03</td>\n",
       "      <td>신림선</td>\n",
       "      <td>4408</td>\n",
       "      <td>신림</td>\n",
       "      <td>38477</td>\n",
       "      <td>54633</td>\n",
       "      <td>17153</td>\n",
       "      <td>21540</td>\n",
       "      <td>2.243164</td>\n",
       "    </tr>\n",
       "    <tr>\n",
       "      <th>619</th>\n",
       "      <td>2024-03</td>\n",
       "      <td>신림선</td>\n",
       "      <td>4409</td>\n",
       "      <td>서원</td>\n",
       "      <td>81027</td>\n",
       "      <td>68501</td>\n",
       "      <td>26212</td>\n",
       "      <td>26004</td>\n",
       "      <td>3.091218</td>\n",
       "    </tr>\n",
       "    <tr>\n",
       "      <th>620</th>\n",
       "      <td>2024-03</td>\n",
       "      <td>신림선</td>\n",
       "      <td>4410</td>\n",
       "      <td>서울대벤처타운</td>\n",
       "      <td>229893</td>\n",
       "      <td>203104</td>\n",
       "      <td>71540</td>\n",
       "      <td>70626</td>\n",
       "      <td>3.213489</td>\n",
       "    </tr>\n",
       "    <tr>\n",
       "      <th>621</th>\n",
       "      <td>2024-03</td>\n",
       "      <td>신림선</td>\n",
       "      <td>4411</td>\n",
       "      <td>관악산(서울대)</td>\n",
       "      <td>65896</td>\n",
       "      <td>73642</td>\n",
       "      <td>36922</td>\n",
       "      <td>37740</td>\n",
       "      <td>1.784735</td>\n",
       "    </tr>\n",
       "  </tbody>\n",
       "</table>\n",
       "<p>622 rows × 9 columns</p>\n",
       "</div>"
      ],
      "text/plain": [
       "         사용월  호선명   역ID      지하철역     유임승차     유임하차    무임승차    무임하차  유무임승차비율1\n",
       "0    2024-03  1호선   150       서울역  1447754  1393734  227062  217639  6.376029\n",
       "1    2024-03  1호선   151        시청   664265   656796  111445  108138  5.960474\n",
       "2    2024-03  1호선   152        종각   964737   946524  152686  142688  6.318438\n",
       "3    2024-03  1호선   153      종로3가   499200   462956  310535  287412  1.607548\n",
       "4    2024-03  1호선   154      종로5가   507635   495448  270416  260685  1.877237\n",
       "..       ...  ...   ...       ...      ...      ...     ...     ...       ...\n",
       "617  2024-03  신림선  4407        당곡   102268    97581   40291   39955  2.538234\n",
       "618  2024-03  신림선  4408        신림    38477    54633   17153   21540  2.243164\n",
       "619  2024-03  신림선  4409        서원    81027    68501   26212   26004  3.091218\n",
       "620  2024-03  신림선  4410   서울대벤처타운   229893   203104   71540   70626  3.213489\n",
       "621  2024-03  신림선  4411  관악산(서울대)    65896    73642   36922   37740  1.784735\n",
       "\n",
       "[622 rows x 9 columns]"
      ]
     },
     "execution_count": 36,
     "metadata": {},
     "output_type": "execute_result"
    }
   ],
   "source": [
    "subway_raw"
   ]
  },
  {
   "cell_type": "code",
   "execution_count": 37,
   "id": "1542e21e-d66d-4c9c-93c5-ccd63d8eefe3",
   "metadata": {
    "tags": []
   },
   "outputs": [],
   "source": [
    "subway_sort = subway_raw.copy().replace([np.inf],0).sort_values('유무임승차비율1', ascending=False)"
   ]
  },
  {
   "cell_type": "code",
   "execution_count": 38,
   "id": "1b18f072-bf82-4d61-9361-9ef01ce04c27",
   "metadata": {
    "tags": []
   },
   "outputs": [
    {
     "data": {
      "text/html": [
       "<div>\n",
       "<style scoped>\n",
       "    .dataframe tbody tr th:only-of-type {\n",
       "        vertical-align: middle;\n",
       "    }\n",
       "\n",
       "    .dataframe tbody tr th {\n",
       "        vertical-align: top;\n",
       "    }\n",
       "\n",
       "    .dataframe thead th {\n",
       "        text-align: right;\n",
       "    }\n",
       "</style>\n",
       "<table border=\"1\" class=\"dataframe\">\n",
       "  <thead>\n",
       "    <tr style=\"text-align: right;\">\n",
       "      <th></th>\n",
       "      <th>사용월</th>\n",
       "      <th>호선명</th>\n",
       "      <th>역ID</th>\n",
       "      <th>지하철역</th>\n",
       "      <th>유임승차</th>\n",
       "      <th>유임하차</th>\n",
       "      <th>무임승차</th>\n",
       "      <th>무임하차</th>\n",
       "      <th>유무임승차비율1</th>\n",
       "    </tr>\n",
       "  </thead>\n",
       "  <tbody>\n",
       "    <tr>\n",
       "      <th>72</th>\n",
       "      <td>2024-03</td>\n",
       "      <td>3호선</td>\n",
       "      <td>321</td>\n",
       "      <td>충무로</td>\n",
       "      <td>261</td>\n",
       "      <td>0</td>\n",
       "      <td>1</td>\n",
       "      <td>0</td>\n",
       "      <td>261.000000</td>\n",
       "    </tr>\n",
       "    <tr>\n",
       "      <th>240</th>\n",
       "      <td>2024-03</td>\n",
       "      <td>분당선</td>\n",
       "      <td>1031</td>\n",
       "      <td>복정</td>\n",
       "      <td>168</td>\n",
       "      <td>0</td>\n",
       "      <td>2</td>\n",
       "      <td>0</td>\n",
       "      <td>84.000000</td>\n",
       "    </tr>\n",
       "    <tr>\n",
       "      <th>269</th>\n",
       "      <td>2024-03</td>\n",
       "      <td>일산선</td>\n",
       "      <td>1949</td>\n",
       "      <td>지축</td>\n",
       "      <td>61</td>\n",
       "      <td>0</td>\n",
       "      <td>1</td>\n",
       "      <td>0</td>\n",
       "      <td>61.000000</td>\n",
       "    </tr>\n",
       "    <tr>\n",
       "      <th>192</th>\n",
       "      <td>2024-03</td>\n",
       "      <td>경원선</td>\n",
       "      <td>1022</td>\n",
       "      <td>창동</td>\n",
       "      <td>92</td>\n",
       "      <td>0</td>\n",
       "      <td>3</td>\n",
       "      <td>0</td>\n",
       "      <td>30.666667</td>\n",
       "    </tr>\n",
       "    <tr>\n",
       "      <th>449</th>\n",
       "      <td>2024-03</td>\n",
       "      <td>6호선</td>\n",
       "      <td>2615</td>\n",
       "      <td>연신내</td>\n",
       "      <td>119</td>\n",
       "      <td>0</td>\n",
       "      <td>4</td>\n",
       "      <td>0</td>\n",
       "      <td>29.750000</td>\n",
       "    </tr>\n",
       "    <tr>\n",
       "      <th>...</th>\n",
       "      <td>...</td>\n",
       "      <td>...</td>\n",
       "      <td>...</td>\n",
       "      <td>...</td>\n",
       "      <td>...</td>\n",
       "      <td>...</td>\n",
       "      <td>...</td>\n",
       "      <td>...</td>\n",
       "      <td>...</td>\n",
       "    </tr>\n",
       "    <tr>\n",
       "      <th>526</th>\n",
       "      <td>2024-03</td>\n",
       "      <td>7호선</td>\n",
       "      <td>2753</td>\n",
       "      <td>까치울</td>\n",
       "      <td>2</td>\n",
       "      <td>0</td>\n",
       "      <td>0</td>\n",
       "      <td>0</td>\n",
       "      <td>0.000000</td>\n",
       "    </tr>\n",
       "    <tr>\n",
       "      <th>336</th>\n",
       "      <td>2024-03</td>\n",
       "      <td>경의선</td>\n",
       "      <td>1297</td>\n",
       "      <td>검암</td>\n",
       "      <td>3</td>\n",
       "      <td>0</td>\n",
       "      <td>0</td>\n",
       "      <td>0</td>\n",
       "      <td>0.000000</td>\n",
       "    </tr>\n",
       "    <tr>\n",
       "      <th>334</th>\n",
       "      <td>2024-03</td>\n",
       "      <td>경의선</td>\n",
       "      <td>1295</td>\n",
       "      <td>김포공항</td>\n",
       "      <td>1</td>\n",
       "      <td>0</td>\n",
       "      <td>0</td>\n",
       "      <td>0</td>\n",
       "      <td>0.000000</td>\n",
       "    </tr>\n",
       "    <tr>\n",
       "      <th>483</th>\n",
       "      <td>2024-03</td>\n",
       "      <td>6호선</td>\n",
       "      <td>2649</td>\n",
       "      <td>신내</td>\n",
       "      <td>16</td>\n",
       "      <td>0</td>\n",
       "      <td>0</td>\n",
       "      <td>0</td>\n",
       "      <td>0.000000</td>\n",
       "    </tr>\n",
       "    <tr>\n",
       "      <th>335</th>\n",
       "      <td>2024-03</td>\n",
       "      <td>경의선</td>\n",
       "      <td>1296</td>\n",
       "      <td>계양</td>\n",
       "      <td>3</td>\n",
       "      <td>0</td>\n",
       "      <td>0</td>\n",
       "      <td>0</td>\n",
       "      <td>0.000000</td>\n",
       "    </tr>\n",
       "  </tbody>\n",
       "</table>\n",
       "<p>622 rows × 9 columns</p>\n",
       "</div>"
      ],
      "text/plain": [
       "         사용월  호선명   역ID  지하철역  유임승차  유임하차  무임승차  무임하차    유무임승차비율1\n",
       "72   2024-03  3호선   321   충무로   261     0     1     0  261.000000\n",
       "240  2024-03  분당선  1031    복정   168     0     2     0   84.000000\n",
       "269  2024-03  일산선  1949    지축    61     0     1     0   61.000000\n",
       "192  2024-03  경원선  1022    창동    92     0     3     0   30.666667\n",
       "449  2024-03  6호선  2615   연신내   119     0     4     0   29.750000\n",
       "..       ...  ...   ...   ...   ...   ...   ...   ...         ...\n",
       "526  2024-03  7호선  2753   까치울     2     0     0     0    0.000000\n",
       "336  2024-03  경의선  1297    검암     3     0     0     0    0.000000\n",
       "334  2024-03  경의선  1295  김포공항     1     0     0     0    0.000000\n",
       "483  2024-03  6호선  2649    신내    16     0     0     0    0.000000\n",
       "335  2024-03  경의선  1296    계양     3     0     0     0    0.000000\n",
       "\n",
       "[622 rows x 9 columns]"
      ]
     },
     "execution_count": 38,
     "metadata": {},
     "output_type": "execute_result"
    }
   ],
   "source": [
    "subway_sort"
   ]
  },
  {
   "cell_type": "code",
   "execution_count": 39,
   "id": "23810beb-e436-4f99-8d00-439a84e17e12",
   "metadata": {
    "tags": []
   },
   "outputs": [
    {
     "name": "stdout",
     "output_type": "stream",
     "text": [
      "유임승차비율이 높은 역: 충무로, 비율:261.000000\n"
     ]
    }
   ],
   "source": [
    "print('유임승차비율이 높은 역: %s, 비율:%f' % (subway_sort.iloc[0]['지하철역'], subway_sort.iloc[0]['유무임승차비율1']))"
   ]
  },
  {
   "cell_type": "markdown",
   "id": "52bf07ed-dc16-4658-8b3f-487bc7c712b0",
   "metadata": {},
   "source": [
    "### (2) 유무임 승차 비율이 가장 높은 역\n",
    "#### 두번째 방법: 유임승차/(유임승차+무임승차)"
   ]
  },
  {
   "cell_type": "code",
   "execution_count": 41,
   "id": "3e58c503-87fc-4cbd-a96a-3b54fe3f51ed",
   "metadata": {
    "tags": []
   },
   "outputs": [
    {
     "data": {
      "text/html": [
       "<div>\n",
       "<style scoped>\n",
       "    .dataframe tbody tr th:only-of-type {\n",
       "        vertical-align: middle;\n",
       "    }\n",
       "\n",
       "    .dataframe tbody tr th {\n",
       "        vertical-align: top;\n",
       "    }\n",
       "\n",
       "    .dataframe thead th {\n",
       "        text-align: right;\n",
       "    }\n",
       "</style>\n",
       "<table border=\"1\" class=\"dataframe\">\n",
       "  <thead>\n",
       "    <tr style=\"text-align: right;\">\n",
       "      <th></th>\n",
       "      <th>사용월</th>\n",
       "      <th>호선명</th>\n",
       "      <th>역ID</th>\n",
       "      <th>지하철역</th>\n",
       "      <th>유임승차</th>\n",
       "      <th>유임하차</th>\n",
       "      <th>무임승차</th>\n",
       "      <th>무임하차</th>\n",
       "      <th>유무임승차비율1</th>\n",
       "      <th>유임승차비율2</th>\n",
       "    </tr>\n",
       "  </thead>\n",
       "  <tbody>\n",
       "    <tr>\n",
       "      <th>0</th>\n",
       "      <td>2024-03</td>\n",
       "      <td>1호선</td>\n",
       "      <td>150</td>\n",
       "      <td>서울역</td>\n",
       "      <td>1447754</td>\n",
       "      <td>1393734</td>\n",
       "      <td>227062</td>\n",
       "      <td>217639</td>\n",
       "      <td>6.376029</td>\n",
       "      <td>0.864426</td>\n",
       "    </tr>\n",
       "    <tr>\n",
       "      <th>1</th>\n",
       "      <td>2024-03</td>\n",
       "      <td>1호선</td>\n",
       "      <td>151</td>\n",
       "      <td>시청</td>\n",
       "      <td>664265</td>\n",
       "      <td>656796</td>\n",
       "      <td>111445</td>\n",
       "      <td>108138</td>\n",
       "      <td>5.960474</td>\n",
       "      <td>0.856332</td>\n",
       "    </tr>\n",
       "    <tr>\n",
       "      <th>2</th>\n",
       "      <td>2024-03</td>\n",
       "      <td>1호선</td>\n",
       "      <td>152</td>\n",
       "      <td>종각</td>\n",
       "      <td>964737</td>\n",
       "      <td>946524</td>\n",
       "      <td>152686</td>\n",
       "      <td>142688</td>\n",
       "      <td>6.318438</td>\n",
       "      <td>0.863359</td>\n",
       "    </tr>\n",
       "    <tr>\n",
       "      <th>3</th>\n",
       "      <td>2024-03</td>\n",
       "      <td>1호선</td>\n",
       "      <td>153</td>\n",
       "      <td>종로3가</td>\n",
       "      <td>499200</td>\n",
       "      <td>462956</td>\n",
       "      <td>310535</td>\n",
       "      <td>287412</td>\n",
       "      <td>1.607548</td>\n",
       "      <td>0.616498</td>\n",
       "    </tr>\n",
       "    <tr>\n",
       "      <th>4</th>\n",
       "      <td>2024-03</td>\n",
       "      <td>1호선</td>\n",
       "      <td>154</td>\n",
       "      <td>종로5가</td>\n",
       "      <td>507635</td>\n",
       "      <td>495448</td>\n",
       "      <td>270416</td>\n",
       "      <td>260685</td>\n",
       "      <td>1.877237</td>\n",
       "      <td>0.652444</td>\n",
       "    </tr>\n",
       "    <tr>\n",
       "      <th>...</th>\n",
       "      <td>...</td>\n",
       "      <td>...</td>\n",
       "      <td>...</td>\n",
       "      <td>...</td>\n",
       "      <td>...</td>\n",
       "      <td>...</td>\n",
       "      <td>...</td>\n",
       "      <td>...</td>\n",
       "      <td>...</td>\n",
       "      <td>...</td>\n",
       "    </tr>\n",
       "    <tr>\n",
       "      <th>617</th>\n",
       "      <td>2024-03</td>\n",
       "      <td>신림선</td>\n",
       "      <td>4407</td>\n",
       "      <td>당곡</td>\n",
       "      <td>102268</td>\n",
       "      <td>97581</td>\n",
       "      <td>40291</td>\n",
       "      <td>39955</td>\n",
       "      <td>2.538234</td>\n",
       "      <td>0.717373</td>\n",
       "    </tr>\n",
       "    <tr>\n",
       "      <th>618</th>\n",
       "      <td>2024-03</td>\n",
       "      <td>신림선</td>\n",
       "      <td>4408</td>\n",
       "      <td>신림</td>\n",
       "      <td>38477</td>\n",
       "      <td>54633</td>\n",
       "      <td>17153</td>\n",
       "      <td>21540</td>\n",
       "      <td>2.243164</td>\n",
       "      <td>0.691659</td>\n",
       "    </tr>\n",
       "    <tr>\n",
       "      <th>619</th>\n",
       "      <td>2024-03</td>\n",
       "      <td>신림선</td>\n",
       "      <td>4409</td>\n",
       "      <td>서원</td>\n",
       "      <td>81027</td>\n",
       "      <td>68501</td>\n",
       "      <td>26212</td>\n",
       "      <td>26004</td>\n",
       "      <td>3.091218</td>\n",
       "      <td>0.755574</td>\n",
       "    </tr>\n",
       "    <tr>\n",
       "      <th>620</th>\n",
       "      <td>2024-03</td>\n",
       "      <td>신림선</td>\n",
       "      <td>4410</td>\n",
       "      <td>서울대벤처타운</td>\n",
       "      <td>229893</td>\n",
       "      <td>203104</td>\n",
       "      <td>71540</td>\n",
       "      <td>70626</td>\n",
       "      <td>3.213489</td>\n",
       "      <td>0.762667</td>\n",
       "    </tr>\n",
       "    <tr>\n",
       "      <th>621</th>\n",
       "      <td>2024-03</td>\n",
       "      <td>신림선</td>\n",
       "      <td>4411</td>\n",
       "      <td>관악산(서울대)</td>\n",
       "      <td>65896</td>\n",
       "      <td>73642</td>\n",
       "      <td>36922</td>\n",
       "      <td>37740</td>\n",
       "      <td>1.784735</td>\n",
       "      <td>0.640899</td>\n",
       "    </tr>\n",
       "  </tbody>\n",
       "</table>\n",
       "<p>622 rows × 10 columns</p>\n",
       "</div>"
      ],
      "text/plain": [
       "         사용월  호선명   역ID      지하철역     유임승차     유임하차    무임승차    무임하차  유무임승차비율1  \\\n",
       "0    2024-03  1호선   150       서울역  1447754  1393734  227062  217639  6.376029   \n",
       "1    2024-03  1호선   151        시청   664265   656796  111445  108138  5.960474   \n",
       "2    2024-03  1호선   152        종각   964737   946524  152686  142688  6.318438   \n",
       "3    2024-03  1호선   153      종로3가   499200   462956  310535  287412  1.607548   \n",
       "4    2024-03  1호선   154      종로5가   507635   495448  270416  260685  1.877237   \n",
       "..       ...  ...   ...       ...      ...      ...     ...     ...       ...   \n",
       "617  2024-03  신림선  4407        당곡   102268    97581   40291   39955  2.538234   \n",
       "618  2024-03  신림선  4408        신림    38477    54633   17153   21540  2.243164   \n",
       "619  2024-03  신림선  4409        서원    81027    68501   26212   26004  3.091218   \n",
       "620  2024-03  신림선  4410   서울대벤처타운   229893   203104   71540   70626  3.213489   \n",
       "621  2024-03  신림선  4411  관악산(서울대)    65896    73642   36922   37740  1.784735   \n",
       "\n",
       "      유임승차비율2  \n",
       "0    0.864426  \n",
       "1    0.856332  \n",
       "2    0.863359  \n",
       "3    0.616498  \n",
       "4    0.652444  \n",
       "..        ...  \n",
       "617  0.717373  \n",
       "618  0.691659  \n",
       "619  0.755574  \n",
       "620  0.762667  \n",
       "621  0.640899  \n",
       "\n",
       "[622 rows x 10 columns]"
      ]
     },
     "execution_count": 41,
     "metadata": {},
     "output_type": "execute_result"
    }
   ],
   "source": [
    "subway_raw['유임승차비율2'] = subway_raw['유임승차'] / (subway_raw['유임승차'] + subway_raw['무임승차'])\n",
    "subway_raw"
   ]
  },
  {
   "cell_type": "code",
   "execution_count": 49,
   "id": "cd088373-131f-4a59-970c-82be40064a73",
   "metadata": {
    "tags": []
   },
   "outputs": [
    {
     "data": {
      "text/html": [
       "<div>\n",
       "<style scoped>\n",
       "    .dataframe tbody tr th:only-of-type {\n",
       "        vertical-align: middle;\n",
       "    }\n",
       "\n",
       "    .dataframe tbody tr th {\n",
       "        vertical-align: top;\n",
       "    }\n",
       "\n",
       "    .dataframe thead th {\n",
       "        text-align: right;\n",
       "    }\n",
       "</style>\n",
       "<table border=\"1\" class=\"dataframe\">\n",
       "  <thead>\n",
       "    <tr style=\"text-align: right;\">\n",
       "      <th></th>\n",
       "      <th>사용월</th>\n",
       "      <th>호선명</th>\n",
       "      <th>역ID</th>\n",
       "      <th>지하철역</th>\n",
       "      <th>유임승차</th>\n",
       "      <th>유임하차</th>\n",
       "      <th>무임승차</th>\n",
       "      <th>무임하차</th>\n",
       "      <th>유무임승차비율1</th>\n",
       "      <th>유임승차비율2</th>\n",
       "    </tr>\n",
       "  </thead>\n",
       "  <tbody>\n",
       "    <tr>\n",
       "      <th>18</th>\n",
       "      <td>2024-03</td>\n",
       "      <td>2호선</td>\n",
       "      <td>209</td>\n",
       "      <td>한양대</td>\n",
       "      <td>381269</td>\n",
       "      <td>433076</td>\n",
       "      <td>14528</td>\n",
       "      <td>15614</td>\n",
       "      <td>26.243736</td>\n",
       "      <td>0.963294</td>\n",
       "    </tr>\n",
       "    <tr>\n",
       "      <th>48</th>\n",
       "      <td>2024-03</td>\n",
       "      <td>2호선</td>\n",
       "      <td>239</td>\n",
       "      <td>홍대입구</td>\n",
       "      <td>2185511</td>\n",
       "      <td>2360413</td>\n",
       "      <td>102715</td>\n",
       "      <td>99837</td>\n",
       "      <td>21.277428</td>\n",
       "      <td>0.955112</td>\n",
       "    </tr>\n",
       "    <tr>\n",
       "      <th>573</th>\n",
       "      <td>2024-03</td>\n",
       "      <td>공항철도 1호선</td>\n",
       "      <td>4203</td>\n",
       "      <td>홍대입구</td>\n",
       "      <td>445365</td>\n",
       "      <td>435472</td>\n",
       "      <td>22015</td>\n",
       "      <td>19851</td>\n",
       "      <td>20.230070</td>\n",
       "      <td>0.952897</td>\n",
       "    </tr>\n",
       "    <tr>\n",
       "      <th>466</th>\n",
       "      <td>2024-03</td>\n",
       "      <td>6호선</td>\n",
       "      <td>2632</td>\n",
       "      <td>한강진</td>\n",
       "      <td>298690</td>\n",
       "      <td>350711</td>\n",
       "      <td>17887</td>\n",
       "      <td>17641</td>\n",
       "      <td>16.698720</td>\n",
       "      <td>0.943499</td>\n",
       "    </tr>\n",
       "    <tr>\n",
       "      <th>120</th>\n",
       "      <td>2024-03</td>\n",
       "      <td>경부선</td>\n",
       "      <td>1001</td>\n",
       "      <td>서울역</td>\n",
       "      <td>302024</td>\n",
       "      <td>101822</td>\n",
       "      <td>18565</td>\n",
       "      <td>4416</td>\n",
       "      <td>16.268462</td>\n",
       "      <td>0.942091</td>\n",
       "    </tr>\n",
       "    <tr>\n",
       "      <th>...</th>\n",
       "      <td>...</td>\n",
       "      <td>...</td>\n",
       "      <td>...</td>\n",
       "      <td>...</td>\n",
       "      <td>...</td>\n",
       "      <td>...</td>\n",
       "      <td>...</td>\n",
       "      <td>...</td>\n",
       "      <td>...</td>\n",
       "      <td>...</td>\n",
       "    </tr>\n",
       "    <tr>\n",
       "      <th>602</th>\n",
       "      <td>2024-03</td>\n",
       "      <td>우이신설선</td>\n",
       "      <td>4705</td>\n",
       "      <td>화계</td>\n",
       "      <td>62388</td>\n",
       "      <td>56572</td>\n",
       "      <td>49600</td>\n",
       "      <td>50085</td>\n",
       "      <td>1.257823</td>\n",
       "      <td>0.557095</td>\n",
       "    </tr>\n",
       "    <tr>\n",
       "      <th>226</th>\n",
       "      <td>2024-03</td>\n",
       "      <td>과천선</td>\n",
       "      <td>1451</td>\n",
       "      <td>경마공원</td>\n",
       "      <td>115364</td>\n",
       "      <td>116449</td>\n",
       "      <td>92942</td>\n",
       "      <td>91931</td>\n",
       "      <td>1.241247</td>\n",
       "      <td>0.553820</td>\n",
       "    </tr>\n",
       "    <tr>\n",
       "      <th>195</th>\n",
       "      <td>2024-03</td>\n",
       "      <td>경원선</td>\n",
       "      <td>1903</td>\n",
       "      <td>도봉산</td>\n",
       "      <td>140679</td>\n",
       "      <td>79213</td>\n",
       "      <td>125772</td>\n",
       "      <td>98492</td>\n",
       "      <td>1.118524</td>\n",
       "      <td>0.527973</td>\n",
       "    </tr>\n",
       "    <tr>\n",
       "      <th>9</th>\n",
       "      <td>2024-03</td>\n",
       "      <td>1호선</td>\n",
       "      <td>159</td>\n",
       "      <td>동묘앞</td>\n",
       "      <td>169654</td>\n",
       "      <td>179509</td>\n",
       "      <td>183569</td>\n",
       "      <td>185429</td>\n",
       "      <td>0.924197</td>\n",
       "      <td>0.480303</td>\n",
       "    </tr>\n",
       "    <tr>\n",
       "      <th>7</th>\n",
       "      <td>2024-03</td>\n",
       "      <td>1호선</td>\n",
       "      <td>157</td>\n",
       "      <td>제기동</td>\n",
       "      <td>247757</td>\n",
       "      <td>240496</td>\n",
       "      <td>284893</td>\n",
       "      <td>302034</td>\n",
       "      <td>0.869649</td>\n",
       "      <td>0.465140</td>\n",
       "    </tr>\n",
       "  </tbody>\n",
       "</table>\n",
       "<p>502 rows × 10 columns</p>\n",
       "</div>"
      ],
      "text/plain": [
       "         사용월       호선명   역ID  지하철역     유임승차     유임하차    무임승차    무임하차  \\\n",
       "18   2024-03       2호선   209   한양대   381269   433076   14528   15614   \n",
       "48   2024-03       2호선   239  홍대입구  2185511  2360413  102715   99837   \n",
       "573  2024-03  공항철도 1호선  4203  홍대입구   445365   435472   22015   19851   \n",
       "466  2024-03       6호선  2632   한강진   298690   350711   17887   17641   \n",
       "120  2024-03       경부선  1001   서울역   302024   101822   18565    4416   \n",
       "..       ...       ...   ...   ...      ...      ...     ...     ...   \n",
       "602  2024-03     우이신설선  4705    화계    62388    56572   49600   50085   \n",
       "226  2024-03       과천선  1451  경마공원   115364   116449   92942   91931   \n",
       "195  2024-03       경원선  1903   도봉산   140679    79213  125772   98492   \n",
       "9    2024-03       1호선   159   동묘앞   169654   179509  183569  185429   \n",
       "7    2024-03       1호선   157   제기동   247757   240496  284893  302034   \n",
       "\n",
       "      유무임승차비율1   유임승차비율2  \n",
       "18   26.243736  0.963294  \n",
       "48   21.277428  0.955112  \n",
       "573  20.230070  0.952897  \n",
       "466  16.698720  0.943499  \n",
       "120  16.268462  0.942091  \n",
       "..         ...       ...  \n",
       "602   1.257823  0.557095  \n",
       "226   1.241247  0.553820  \n",
       "195   1.118524  0.527973  \n",
       "9     0.924197  0.480303  \n",
       "7     0.869649  0.465140  \n",
       "\n",
       "[502 rows x 10 columns]"
      ]
     },
     "execution_count": 49,
     "metadata": {},
     "output_type": "execute_result"
    }
   ],
   "source": [
    "subway_sort = subway_raw.sort_values(by='유임승차비율2', ascending=False)\n",
    "subway_sort = subway_sort[subway_sort['유임승차']+subway_sort['무임승차'] > 100000 ]\n",
    "subway_sort"
   ]
  },
  {
   "cell_type": "code",
   "execution_count": 50,
   "id": "41e3a319-0bdc-451a-8d2c-08cd4b435496",
   "metadata": {
    "tags": []
   },
   "outputs": [
    {
     "name": "stdout",
     "output_type": "stream",
     "text": [
      "유임승차비율이 높은 역: 한양대, 비율:0.963294\n"
     ]
    }
   ],
   "source": [
    "print('유임승차비율이 높은 역: %s, 비율:%f' % (subway_sort.iloc[0]['지하철역'], subway_sort.iloc[0]['유임승차비율2']))"
   ]
  },
  {
   "cell_type": "markdown",
   "id": "87e88b63-44e1-4948-86ca-f10d49cbf9cd",
   "metadata": {},
   "source": [
    "### 유임승치 인원이 많은곳\n",
    "#### 한양대 2호선\n",
    "#### 홍대입구 2호선"
   ]
  },
  {
   "cell_type": "markdown",
   "id": "9184e76f-c3de-4d20-a8c0-576f0b7ba278",
   "metadata": {},
   "source": [
    "### 유임승차 비율이 0.94 이상인 역"
   ]
  },
  {
   "cell_type": "code",
   "execution_count": 53,
   "id": "36bd1b63-a219-4585-ad68-6aef9a8510b4",
   "metadata": {
    "tags": []
   },
   "outputs": [
    {
     "data": {
      "text/html": [
       "<div>\n",
       "<style scoped>\n",
       "    .dataframe tbody tr th:only-of-type {\n",
       "        vertical-align: middle;\n",
       "    }\n",
       "\n",
       "    .dataframe tbody tr th {\n",
       "        vertical-align: top;\n",
       "    }\n",
       "\n",
       "    .dataframe thead th {\n",
       "        text-align: right;\n",
       "    }\n",
       "</style>\n",
       "<table border=\"1\" class=\"dataframe\">\n",
       "  <thead>\n",
       "    <tr style=\"text-align: right;\">\n",
       "      <th></th>\n",
       "      <th>사용월</th>\n",
       "      <th>호선명</th>\n",
       "      <th>역ID</th>\n",
       "      <th>지하철역</th>\n",
       "      <th>유임승차</th>\n",
       "      <th>유임하차</th>\n",
       "      <th>무임승차</th>\n",
       "      <th>무임하차</th>\n",
       "      <th>유무임승차비율1</th>\n",
       "      <th>유임승차비율2</th>\n",
       "    </tr>\n",
       "  </thead>\n",
       "  <tbody>\n",
       "    <tr>\n",
       "      <th>18</th>\n",
       "      <td>2024-03</td>\n",
       "      <td>2호선</td>\n",
       "      <td>209</td>\n",
       "      <td>한양대</td>\n",
       "      <td>381269</td>\n",
       "      <td>433076</td>\n",
       "      <td>14528</td>\n",
       "      <td>15614</td>\n",
       "      <td>26.243736</td>\n",
       "      <td>0.963294</td>\n",
       "    </tr>\n",
       "    <tr>\n",
       "      <th>48</th>\n",
       "      <td>2024-03</td>\n",
       "      <td>2호선</td>\n",
       "      <td>239</td>\n",
       "      <td>홍대입구</td>\n",
       "      <td>2185511</td>\n",
       "      <td>2360413</td>\n",
       "      <td>102715</td>\n",
       "      <td>99837</td>\n",
       "      <td>21.277428</td>\n",
       "      <td>0.955112</td>\n",
       "    </tr>\n",
       "    <tr>\n",
       "      <th>573</th>\n",
       "      <td>2024-03</td>\n",
       "      <td>공항철도 1호선</td>\n",
       "      <td>4203</td>\n",
       "      <td>홍대입구</td>\n",
       "      <td>445365</td>\n",
       "      <td>435472</td>\n",
       "      <td>22015</td>\n",
       "      <td>19851</td>\n",
       "      <td>20.230070</td>\n",
       "      <td>0.952897</td>\n",
       "    </tr>\n",
       "    <tr>\n",
       "      <th>466</th>\n",
       "      <td>2024-03</td>\n",
       "      <td>6호선</td>\n",
       "      <td>2632</td>\n",
       "      <td>한강진</td>\n",
       "      <td>298690</td>\n",
       "      <td>350711</td>\n",
       "      <td>17887</td>\n",
       "      <td>17641</td>\n",
       "      <td>16.698720</td>\n",
       "      <td>0.943499</td>\n",
       "    </tr>\n",
       "    <tr>\n",
       "      <th>120</th>\n",
       "      <td>2024-03</td>\n",
       "      <td>경부선</td>\n",
       "      <td>1001</td>\n",
       "      <td>서울역</td>\n",
       "      <td>302024</td>\n",
       "      <td>101822</td>\n",
       "      <td>18565</td>\n",
       "      <td>4416</td>\n",
       "      <td>16.268462</td>\n",
       "      <td>0.942091</td>\n",
       "    </tr>\n",
       "  </tbody>\n",
       "</table>\n",
       "</div>"
      ],
      "text/plain": [
       "         사용월       호선명   역ID  지하철역     유임승차     유임하차    무임승차   무임하차  \\\n",
       "18   2024-03       2호선   209   한양대   381269   433076   14528  15614   \n",
       "48   2024-03       2호선   239  홍대입구  2185511  2360413  102715  99837   \n",
       "573  2024-03  공항철도 1호선  4203  홍대입구   445365   435472   22015  19851   \n",
       "466  2024-03       6호선  2632   한강진   298690   350711   17887  17641   \n",
       "120  2024-03       경부선  1001   서울역   302024   101822   18565   4416   \n",
       "\n",
       "      유무임승차비율1   유임승차비율2  \n",
       "18   26.243736  0.963294  \n",
       "48   21.277428  0.955112  \n",
       "573  20.230070  0.952897  \n",
       "466  16.698720  0.943499  \n",
       "120  16.268462  0.942091  "
      ]
     },
     "execution_count": 53,
     "metadata": {},
     "output_type": "execute_result"
    }
   ],
   "source": [
    "subway_sort[subway_sort['유임승차비율2'] >= 0.94]"
   ]
  },
  {
   "cell_type": "markdown",
   "id": "720afe02-691e-49a6-a074-48e3e0de4eea",
   "metadata": {},
   "source": [
    "## 2. 유무임 승하차 인원이 많은 역 알아보기"
   ]
  },
  {
   "cell_type": "markdown",
   "id": "ff6a5659-56f3-4ac7-8bf4-3f934202d270",
   "metadata": {},
   "source": [
    "#### (1) 유임승차 인원이 많은 역"
   ]
  },
  {
   "cell_type": "code",
   "execution_count": 64,
   "id": "fbeaf951-07eb-46c3-ac3e-cc31d3c37dc8",
   "metadata": {
    "tags": []
   },
   "outputs": [
    {
     "data": {
      "text/html": [
       "<div>\n",
       "<style scoped>\n",
       "    .dataframe tbody tr th:only-of-type {\n",
       "        vertical-align: middle;\n",
       "    }\n",
       "\n",
       "    .dataframe tbody tr th {\n",
       "        vertical-align: top;\n",
       "    }\n",
       "\n",
       "    .dataframe thead th {\n",
       "        text-align: right;\n",
       "    }\n",
       "</style>\n",
       "<table border=\"1\" class=\"dataframe\">\n",
       "  <thead>\n",
       "    <tr style=\"text-align: right;\">\n",
       "      <th></th>\n",
       "      <th>사용월</th>\n",
       "      <th>호선명</th>\n",
       "      <th>역ID</th>\n",
       "      <th>지하철역</th>\n",
       "      <th>유임승차</th>\n",
       "      <th>유임하차</th>\n",
       "      <th>무임승차</th>\n",
       "      <th>무임하차</th>\n",
       "      <th>유무임승차비율1</th>\n",
       "      <th>유임승차비율2</th>\n",
       "    </tr>\n",
       "  </thead>\n",
       "  <tbody>\n",
       "    <tr>\n",
       "      <th>31</th>\n",
       "      <td>2024-03</td>\n",
       "      <td>2호선</td>\n",
       "      <td>222</td>\n",
       "      <td>강남</td>\n",
       "      <td>2209300</td>\n",
       "      <td>2161564</td>\n",
       "      <td>167337</td>\n",
       "      <td>146031</td>\n",
       "      <td>13.202699</td>\n",
       "      <td>0.929591</td>\n",
       "    </tr>\n",
       "  </tbody>\n",
       "</table>\n",
       "</div>"
      ],
      "text/plain": [
       "        사용월  호선명  역ID 지하철역     유임승차     유임하차    무임승차    무임하차   유무임승차비율1  \\\n",
       "31  2024-03  2호선  222   강남  2209300  2161564  167337  146031  13.202699   \n",
       "\n",
       "     유임승차비율2  \n",
       "31  0.929591  "
      ]
     },
     "execution_count": 64,
     "metadata": {},
     "output_type": "execute_result"
    }
   ],
   "source": [
    "subway_raw.sort_values(by='유임승차', ascending=False).head(1)"
   ]
  },
  {
   "cell_type": "markdown",
   "id": "a4f8678e-9335-440f-ad92-bb1527459ea9",
   "metadata": {},
   "source": [
    "#### (2) 유임하차 인원이 많은역"
   ]
  },
  {
   "cell_type": "code",
   "execution_count": 65,
   "id": "eaf18d47-ea5c-4b98-93d1-770cba6e96ab",
   "metadata": {
    "tags": []
   },
   "outputs": [
    {
     "data": {
      "text/html": [
       "<div>\n",
       "<style scoped>\n",
       "    .dataframe tbody tr th:only-of-type {\n",
       "        vertical-align: middle;\n",
       "    }\n",
       "\n",
       "    .dataframe tbody tr th {\n",
       "        vertical-align: top;\n",
       "    }\n",
       "\n",
       "    .dataframe thead th {\n",
       "        text-align: right;\n",
       "    }\n",
       "</style>\n",
       "<table border=\"1\" class=\"dataframe\">\n",
       "  <thead>\n",
       "    <tr style=\"text-align: right;\">\n",
       "      <th></th>\n",
       "      <th>사용월</th>\n",
       "      <th>호선명</th>\n",
       "      <th>역ID</th>\n",
       "      <th>지하철역</th>\n",
       "      <th>유임승차</th>\n",
       "      <th>유임하차</th>\n",
       "      <th>무임승차</th>\n",
       "      <th>무임하차</th>\n",
       "      <th>유무임승차비율1</th>\n",
       "      <th>유임승차비율2</th>\n",
       "    </tr>\n",
       "  </thead>\n",
       "  <tbody>\n",
       "    <tr>\n",
       "      <th>48</th>\n",
       "      <td>2024-03</td>\n",
       "      <td>2호선</td>\n",
       "      <td>239</td>\n",
       "      <td>홍대입구</td>\n",
       "      <td>2185511</td>\n",
       "      <td>2360413</td>\n",
       "      <td>102715</td>\n",
       "      <td>99837</td>\n",
       "      <td>21.277428</td>\n",
       "      <td>0.955112</td>\n",
       "    </tr>\n",
       "  </tbody>\n",
       "</table>\n",
       "</div>"
      ],
      "text/plain": [
       "        사용월  호선명  역ID  지하철역     유임승차     유임하차    무임승차   무임하차   유무임승차비율1  \\\n",
       "48  2024-03  2호선  239  홍대입구  2185511  2360413  102715  99837  21.277428   \n",
       "\n",
       "     유임승차비율2  \n",
       "48  0.955112  "
      ]
     },
     "execution_count": 65,
     "metadata": {},
     "output_type": "execute_result"
    }
   ],
   "source": [
    "subway_raw.sort_values(by='유임하차', ascending=False).head(1)"
   ]
  },
  {
   "cell_type": "markdown",
   "id": "8bd6fa3c-f0cc-4e7c-adbd-22c40bc58abb",
   "metadata": {
    "tags": []
   },
   "source": [
    "#### (3) 무임승차 인원이 많은역"
   ]
  },
  {
   "cell_type": "code",
   "execution_count": 66,
   "id": "75226349-9dca-463c-8d15-fd24ba81ff95",
   "metadata": {
    "tags": []
   },
   "outputs": [
    {
     "data": {
      "text/html": [
       "<div>\n",
       "<style scoped>\n",
       "    .dataframe tbody tr th:only-of-type {\n",
       "        vertical-align: middle;\n",
       "    }\n",
       "\n",
       "    .dataframe tbody tr th {\n",
       "        vertical-align: top;\n",
       "    }\n",
       "\n",
       "    .dataframe thead th {\n",
       "        text-align: right;\n",
       "    }\n",
       "</style>\n",
       "<table border=\"1\" class=\"dataframe\">\n",
       "  <thead>\n",
       "    <tr style=\"text-align: right;\">\n",
       "      <th></th>\n",
       "      <th>사용월</th>\n",
       "      <th>호선명</th>\n",
       "      <th>역ID</th>\n",
       "      <th>지하철역</th>\n",
       "      <th>유임승차</th>\n",
       "      <th>유임하차</th>\n",
       "      <th>무임승차</th>\n",
       "      <th>무임하차</th>\n",
       "      <th>유무임승차비율1</th>\n",
       "      <th>유임승차비율2</th>\n",
       "    </tr>\n",
       "  </thead>\n",
       "  <tbody>\n",
       "    <tr>\n",
       "      <th>125</th>\n",
       "      <td>2024-03</td>\n",
       "      <td>경부선</td>\n",
       "      <td>1006</td>\n",
       "      <td>영등포</td>\n",
       "      <td>1009662</td>\n",
       "      <td>1039742</td>\n",
       "      <td>315673</td>\n",
       "      <td>317344</td>\n",
       "      <td>3.198443</td>\n",
       "      <td>0.761816</td>\n",
       "    </tr>\n",
       "  </tbody>\n",
       "</table>\n",
       "</div>"
      ],
      "text/plain": [
       "         사용월  호선명   역ID 지하철역     유임승차     유임하차    무임승차    무임하차  유무임승차비율1  \\\n",
       "125  2024-03  경부선  1006  영등포  1009662  1039742  315673  317344  3.198443   \n",
       "\n",
       "      유임승차비율2  \n",
       "125  0.761816  "
      ]
     },
     "execution_count": 66,
     "metadata": {},
     "output_type": "execute_result"
    }
   ],
   "source": [
    "subway_raw.sort_values(by='무임승차', ascending=False).head(1)"
   ]
  },
  {
   "cell_type": "markdown",
   "id": "0f822573-e3db-4dfb-860c-5fed179a51a5",
   "metadata": {},
   "source": [
    "#### (4) 무임하차 인원이 많은역"
   ]
  },
  {
   "cell_type": "code",
   "execution_count": 67,
   "id": "adfe4490-f966-4615-8abd-8dd3c0d09107",
   "metadata": {
    "tags": []
   },
   "outputs": [
    {
     "data": {
      "text/html": [
       "<div>\n",
       "<style scoped>\n",
       "    .dataframe tbody tr th:only-of-type {\n",
       "        vertical-align: middle;\n",
       "    }\n",
       "\n",
       "    .dataframe tbody tr th {\n",
       "        vertical-align: top;\n",
       "    }\n",
       "\n",
       "    .dataframe thead th {\n",
       "        text-align: right;\n",
       "    }\n",
       "</style>\n",
       "<table border=\"1\" class=\"dataframe\">\n",
       "  <thead>\n",
       "    <tr style=\"text-align: right;\">\n",
       "      <th></th>\n",
       "      <th>사용월</th>\n",
       "      <th>호선명</th>\n",
       "      <th>역ID</th>\n",
       "      <th>지하철역</th>\n",
       "      <th>유임승차</th>\n",
       "      <th>유임하차</th>\n",
       "      <th>무임승차</th>\n",
       "      <th>무임하차</th>\n",
       "      <th>유무임승차비율1</th>\n",
       "      <th>유임승차비율2</th>\n",
       "    </tr>\n",
       "  </thead>\n",
       "  <tbody>\n",
       "    <tr>\n",
       "      <th>125</th>\n",
       "      <td>2024-03</td>\n",
       "      <td>경부선</td>\n",
       "      <td>1006</td>\n",
       "      <td>영등포</td>\n",
       "      <td>1009662</td>\n",
       "      <td>1039742</td>\n",
       "      <td>315673</td>\n",
       "      <td>317344</td>\n",
       "      <td>3.198443</td>\n",
       "      <td>0.761816</td>\n",
       "    </tr>\n",
       "  </tbody>\n",
       "</table>\n",
       "</div>"
      ],
      "text/plain": [
       "         사용월  호선명   역ID 지하철역     유임승차     유임하차    무임승차    무임하차  유무임승차비율1  \\\n",
       "125  2024-03  경부선  1006  영등포  1009662  1039742  315673  317344  3.198443   \n",
       "\n",
       "      유임승차비율2  \n",
       "125  0.761816  "
      ]
     },
     "execution_count": 67,
     "metadata": {},
     "output_type": "execute_result"
    }
   ],
   "source": [
    "subway_raw.sort_values(by='무임하차', ascending=False).head(1)"
   ]
  },
  {
   "cell_type": "markdown",
   "id": "25e4bb57-929d-4b06-89dc-df97abe29107",
   "metadata": {},
   "source": [
    "# 3. 모든 역의 유무임 승하차 비율을 시각화"
   ]
  },
  {
   "cell_type": "code",
   "execution_count": 72,
   "id": "5c74f964-bd32-4b15-bdd8-511e769d9de8",
   "metadata": {
    "tags": []
   },
   "outputs": [],
   "source": [
    "import matplotlib.pyplot as plt\n",
    "import seaborn as sns\n",
    "import platform\n",
    "%matplotlib inline\n",
    "\n",
    "from matplotlib import font_manager, rc\n",
    "plt.rcParams['axes.unicode_minus'] = False\n",
    "\n",
    "if platform.system() == 'Darwin':\n",
    "    rc('font', family='AppleGothic')\n",
    "elif platform.system() == 'Windows':\n",
    "    path = 'c:/Windows/Fonts/malgun.ttf'\n",
    "    font_name = font_manager.FontProperties(fname=path).get_name()\n",
    "    rc('font', family=font_name)\n",
    "else:\n",
    "    print('Unknown System... Sorry~~~')"
   ]
  },
  {
   "cell_type": "markdown",
   "id": "9e9de0a7-7f69-450a-a3c0-6090a8d3cc7f",
   "metadata": {},
   "source": [
    "### (1) 역이름을 제목으로 표시, 각 비율과 레이블 추가"
   ]
  },
  {
   "cell_type": "code",
   "execution_count": 74,
   "id": "fd0ee02a-b9de-4271-b099-a95a965b7403",
   "metadata": {
    "tags": []
   },
   "outputs": [
    {
     "data": {
      "text/plain": [
       "사용월          2024-03\n",
       "호선명              1호선\n",
       "역ID              150\n",
       "지하철역             서울역\n",
       "유임승차         1447754\n",
       "유임하차         1393734\n",
       "무임승차          227062\n",
       "무임하차          217639\n",
       "유무임승차비율1    6.376029\n",
       "유임승차비율2     0.864426\n",
       "Name: 0, dtype: object"
      ]
     },
     "execution_count": 74,
     "metadata": {},
     "output_type": "execute_result"
    }
   ],
   "source": [
    "subway_raw.iloc[0]"
   ]
  },
  {
   "cell_type": "code",
   "execution_count": 80,
   "id": "7c4507af-9818-4bb6-bb13-b317e0678d4d",
   "metadata": {
    "tags": []
   },
   "outputs": [
    {
     "name": "stdout",
     "output_type": "stream",
     "text": [
      "1호선서울역\n"
     ]
    }
   ],
   "source": [
    "print(subway_raw.iloc[0][1] ,subway_raw.iloc[0][3])"
   ]
  },
  {
   "cell_type": "code",
   "execution_count": 85,
   "id": "16a2fa2b-f64b-4a72-8172-f3f872a27525",
   "metadata": {
    "tags": []
   },
   "outputs": [
    {
     "data": {
      "image/png": "[encoded data removed]",
      "text/plain": [
       "<Figure size 640x480 with 1 Axes>"
      ]
     },
     "metadata": {},
     "output_type": "display_data"
    }
   ],
   "source": [
    "# subway_raw의 첫번째 역\n",
    "\n",
    "columns = ['유임승차', '유임하차', '무임승차', '무임하차']\n",
    "plt.title(subway_raw.iloc[0][1] +' '+ subway_raw.iloc[0][3])\n",
    "plt.pie(subway_raw.iloc[0][columns], labels = columns, autopct = '%1.f%%')\n",
    "plt.axis('equal') # 축의 범위와 스케일을 동일하게 설정\n",
    "plt.show()"
   ]
  },
  {
   "cell_type": "markdown",
   "id": "41762b42-1f8b-435f-99f8-ca1be30e45e5",
   "metadata": {},
   "source": [
    "### 유무임 승하차 비율을 이미지로 저장"
   ]
  },
  {
   "cell_type": "code",
   "execution_count": 89,
   "id": "8df1c85f-86e8-46e2-ba81-4fc3e0afa784",
   "metadata": {
    "tags": []
   },
   "outputs": [
    {
     "data": {
      "image/png": "[encoded data removed]",
      "text/plain": [
       "<Figure size 1000x600 with 1 Axes>"
      ]
     },
     "metadata": {},
     "output_type": "display_data"
    },
    {
     "data": {
      "image/png": "[encoded data removed]",
      "text/plain": [
       "<Figure size 640x480 with 1 Axes>"
      ]
     },
     "metadata": {},
     "output_type": "display_data"
    },
    {
     "data": {
      "image/png": "[encoded data removed]",
      "text/plain": [
       "<Figure size 640x480 with 1 Axes>"
      ]
     },
     "metadata": {},
     "output_type": "display_data"
    },
    {
     "data": {
      "image/png": "[encoded data removed]",
      "text/plain": [
       "<Figure size 640x480 with 1 Axes>"
      ]
     },
     "metadata": {},
     "output_type": "display_data"
    },
    {
     "data": {
      "image/png": "[encoded data removed]",
      "text/plain": [
       "<Figure size 640x480 with 1 Axes>"
      ]
     },
     "metadata": {},
     "output_type": "display_data"
    },
    {
     "data": {
      "image/png": "[encoded data removed]",
      "text/plain": [
       "<Figure size 640x480 with 1 Axes>"
      ]
     },
     "metadata": {},
     "output_type": "display_data"
    },
    {
     "data": {
      "image/png": "[encoded data removed]",
      "text/plain": [
       "<Figure size 640x480 with 1 Axes>"
      ]
     },
     "metadata": {},
     "output_type": "display_data"
    },
    {
     "data": {
      "image/png": "[encoded data removed]",
      "text/plain": [
       "<Figure size 640x480 with 1 Axes>"
      ]
     },
     "metadata": {},
     "output_type": "display_data"
    },
    {
     "data": {
      "image/png": "[encoded data removed]",
      "text/plain": [
       "<Figure size 640x480 with 1 Axes>"
      ]
     },
     "metadata": {},
     "output_type": "display_data"
    },
    {
     "data": {
      "image/png": "[encoded data removed]",
      "text/plain": [
       "<Figure size 640x480 with 1 Axes>"
      ]
     },
     "metadata": {},
     "output_type": "display_data"
    }
   ],
   "source": [
    "columns = ['유임승차', '유임하차', '무임승차', '무임하차']\n",
    "image_path = './images/'\n",
    "plt.figure(figsize =(10,6))\n",
    "# 전체역에 대한 파이 반복으로 출력\n",
    "#for n in subway_raw.ide:\n",
    "for n in range(10): # 10개 역에 대해서만 반복\n",
    "    plt.title(subway_raw.iloc[n][1] +' '+ subway_raw.iloc[n][3])\n",
    "    plt.pie(subway_raw.iloc[n][columns], labels = columns, autopct = '%1.f%%')\n",
    "    plt.axis('equal') # 축의 범위와 스케일을 동일하게 설정\n",
    "    plt.savefig(image_path + subway_raw.iloc[n][1] +' '+ subway_raw.iloc[n][3] + '.png')\n",
    "    plt.show()\n"
   ]
  },
  {
   "cell_type": "code",
   "execution_count": null,
   "id": "9b8e206d-fab6-4168-943f-9486ea5f9d95",
   "metadata": {},
   "outputs": [],
   "source": []
  }
 ],
 "metadata": {
  "kernelspec": {
   "display_name": "Python 3 (ipykernel)",
   "language": "python",
   "name": "python3"
  },
  "language_info": {
   "codemirror_mode": {
    "name": "ipython",
    "version": 3
   },
   "file_extension": ".py",
   "mimetype": "text/x-python",
   "name": "python",
   "nbconvert_exporter": "python",
   "pygments_lexer": "ipython3",
   "version": "3.11.5"
  }
 },
 "nbformat": 4,
 "nbformat_minor": 5
}
