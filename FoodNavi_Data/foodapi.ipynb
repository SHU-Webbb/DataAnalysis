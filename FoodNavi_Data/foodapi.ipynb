{
 "cells": [
  {
   "cell_type": "code",
   "execution_count": 8,
   "id": "5d0601ca-9ad6-468e-882c-0475a3155cd6",
   "metadata": {
    "tags": []
   },
   "outputs": [],
   "source": [
    "import requests\n",
    "import xml.etree.ElementTree as ET\n",
    "\n",
    "url = 'http://apis.data.go.kr/1390802/AgriFood/FdFoodCkryImage/getKoreanFoodFdFoodCkryImageList'\n",
    "params = {\n",
    "    'serviceKey': 'YV8OhM3PmYs8nZRYBGLvcJ3c%2Bl3I13ySsOnUgSm4N1y5sae29L3T3cdo3E8hty%2FooLqQUATTLzf2jxnOpuP15w%3D%3D',\n",
    "    'service_Type': 'xml',\n",
    "    'Page_No': '1',\n",
    "    'Page_Size': '100',\n",
    "    'food_Name': '국',\n",
    "    'ckry_Name': '조리'\n",
    "}\n",
    "\n",
    "response = requests.get(url, params=params)\n",
    "\n",
    "# XML 파싱\n",
    "root = ET.fromstring(response.content)\n",
    "\n",
    "# 각 음식과 요리에 대한 정보를 출력\n",
    "for item in root.findall('.//item'):\n",
    "    fd_Nm = item.find('fd_Nm').text\n",
    "    for food_item in item.findall('.//food_List/food'):\n",
    "        food_Nm = food_item.find('food_Nm').text\n",
    "        print(\"음식:\", fd_Nm)\n",
    "        print(\"재료:\", food_Nm)\n",
    "        print()\n"
   ]
  },
  {
   "cell_type": "code",
   "execution_count": null,
   "id": "ea482599-a12b-48a6-a9c7-a2b67d2a0114",
   "metadata": {},
   "outputs": [],
   "source": []
  }
 ],
 "metadata": {
  "kernelspec": {
   "display_name": "Python 3 (ipykernel)",
   "language": "python",
   "name": "python3"
  },
  "language_info": {
   "codemirror_mode": {
    "name": "ipython",
    "version": 3
   },
   "file_extension": ".py",
   "mimetype": "text/x-python",
   "name": "python",
   "nbconvert_exporter": "python",
   "pygments_lexer": "ipython3",
   "version": "3.11.5"
  }
 },
 "nbformat": 4,
 "nbformat_minor": 5
}
