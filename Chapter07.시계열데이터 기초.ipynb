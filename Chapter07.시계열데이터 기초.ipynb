{
 "cells": [
  {
   "cell_type": "markdown",
   "id": "7ca9f910-0057-452f-93e4-635580d426f5",
   "metadata": {},
   "source": [
    "# 시계열 데이터 기초"
   ]
  },
  {
   "cell_type": "markdown",
   "id": "1b0291ab-5c38-4b03-aec0-1cfd28f4ed23",
   "metadata": {},
   "source": [
    "## 1. 날짜 및 시간 자료형"
   ]
  },
  {
   "cell_type": "markdown",
   "id": "464ea0b4-3638-4748-9064-403bc5c28cbf",
   "metadata": {},
   "source": [
    "### (1) datetime\n",
    "#### 날짜, 시간을 위한 자료형(파이썬 표준 라이브러리)"
   ]
  },
  {
   "cell_type": "code",
   "execution_count": 1,
   "id": "dedb21d2-b65f-410a-829e-ae56e65dd263",
   "metadata": {
    "tags": []
   },
   "outputs": [
    {
     "data": {
      "text/plain": [
       "datetime.datetime(2024, 4, 12, 16, 15, 0, 551174)"
      ]
     },
     "execution_count": 1,
     "metadata": {},
     "output_type": "execute_result"
    }
   ],
   "source": [
    "from datetime import datetime\n",
    "\n",
    "# 현재 날짜와 시간을 알려줌\n",
    "now = datetime.now()\n",
    "now"
   ]
  },
  {
   "cell_type": "code",
   "execution_count": 2,
   "id": "4823c038-d2db-4a5a-b13b-40ab1ef06198",
   "metadata": {
    "tags": []
   },
   "outputs": [
    {
     "data": {
      "text/plain": [
       "(2024, 4, 12)"
      ]
     },
     "execution_count": 2,
     "metadata": {},
     "output_type": "execute_result"
    }
   ],
   "source": [
    "now.year, now.month, now.day"
   ]
  },
  {
   "cell_type": "markdown",
   "id": "9b2212b1-a6cd-4f21-9487-3ba6155dba21",
   "metadata": {},
   "source": [
    "#### 시간 차이 계산"
   ]
  },
  {
   "cell_type": "code",
   "execution_count": 3,
   "id": "4ab3820f-5496-4fa1-9d41-40bddb593224",
   "metadata": {
    "tags": []
   },
   "outputs": [
    {
     "data": {
      "text/plain": [
       "datetime.timedelta(days=-792, seconds=27768, microseconds=940758)"
      ]
     },
     "execution_count": 3,
     "metadata": {},
     "output_type": "execute_result"
    }
   ],
   "source": [
    "delta = datetime(2022, 2, 11) - datetime.now()\n",
    "delta"
   ]
  },
  {
   "cell_type": "code",
   "execution_count": 4,
   "id": "86e54ec3-60b9-4f02-b59b-d93daa9c2be6",
   "metadata": {
    "tags": []
   },
   "outputs": [
    {
     "data": {
      "text/plain": [
       "(-792, 27768, 940758)"
      ]
     },
     "execution_count": 4,
     "metadata": {},
     "output_type": "execute_result"
    }
   ],
   "source": [
    "delta.days, delta.seconds, delta.microseconds"
   ]
  },
  {
   "cell_type": "markdown",
   "id": "16933c4a-2ff5-44a9-9ee6-78932828c3bd",
   "metadata": {},
   "source": [
    "### (2) datetime.timedelta"
   ]
  },
  {
   "cell_type": "code",
   "execution_count": 5,
   "id": "25b7e566-7eef-4bfc-b08a-7aa06004e7d8",
   "metadata": {
    "tags": []
   },
   "outputs": [],
   "source": [
    "from datetime import timedelta  # 날짜 또는 시간에 datetime 객체를 더하거나 빼는 등의 연산 가능"
   ]
  },
  {
   "cell_type": "code",
   "execution_count": 6,
   "id": "10260562-c17b-466f-a07e-7cd477d346b4",
   "metadata": {
    "tags": []
   },
   "outputs": [
    {
     "data": {
      "text/plain": [
       "datetime.datetime(2024, 7, 21, 16, 15, 0, 551174)"
      ]
     },
     "execution_count": 6,
     "metadata": {},
     "output_type": "execute_result"
    }
   ],
   "source": [
    "now + timedelta(100)    # 일수를 더함."
   ]
  },
  {
   "cell_type": "markdown",
   "id": "54f34916-2426-434c-bee5-1a83a3ddd61c",
   "metadata": {
    "tags": []
   },
   "source": [
    "### (3) datetime을 문자형으로 변경"
   ]
  },
  {
   "cell_type": "code",
   "execution_count": 8,
   "id": "1c24dae4-ec10-4731-a39e-029512f1fa71",
   "metadata": {
    "tags": []
   },
   "outputs": [
    {
     "data": {
      "text/plain": [
       "'2024-04-12 00:00:00'"
      ]
     },
     "execution_count": 8,
     "metadata": {},
     "output_type": "execute_result"
    }
   ],
   "source": [
    "stamp = datetime(2024, 4, 12)\n",
    "str(stamp)"
   ]
  },
  {
   "cell_type": "markdown",
   "id": "ffa841fe-0e6a-4208-a601-6642d5cda96f",
   "metadata": {},
   "source": [
    "### (4) 문자형을 날짜로 변환"
   ]
  },
  {
   "cell_type": "code",
   "execution_count": 9,
   "id": "62787e0b-3c5b-4d31-a531-f595079f36e3",
   "metadata": {
    "tags": []
   },
   "outputs": [
    {
     "data": {
      "text/plain": [
       "'2024-04-12'"
      ]
     },
     "execution_count": 9,
     "metadata": {},
     "output_type": "execute_result"
    }
   ],
   "source": [
    "stamp.strftime('%Y-%m-%d')"
   ]
  },
  {
   "cell_type": "code",
   "execution_count": 11,
   "id": "b8d2fbfb-fb0c-48b7-9046-302e3285a476",
   "metadata": {
    "tags": []
   },
   "outputs": [
    {
     "data": {
      "text/plain": [
       "datetime.datetime(2024, 4, 12, 0, 0)"
      ]
     },
     "execution_count": 11,
     "metadata": {},
     "output_type": "execute_result"
    }
   ],
   "source": [
    "value = '2024-04-12'\n",
    "datetime.strptime(value, '%Y-%m-%d')  # 문자열을 날짜시간 형식으로 변환"
   ]
  },
  {
   "cell_type": "markdown",
   "id": "e0a5d4a1-96a3-4261-9c05-99e365e89feb",
   "metadata": {},
   "source": [
    "### datetime 포맷 규칙"
   ]
  },
  {
   "cell_type": "code",
   "execution_count": 12,
   "id": "c1bdf62f-2e07-4479-9644-4a8612444613",
   "metadata": {
    "tags": []
   },
   "outputs": [],
   "source": [
    "# 포맷     설명\n",
    "#---------------\n",
    "# %Y    년도 4자리\n",
    "# %y    년도 2자리\n",
    "# %m    월 2자리\n",
    "# %d    일 2자리\n",
    "# %H    24시간 표시형식(0~23시)\n",
    "# %I    12시간 표시형식(01~12시)\n",
    "# %M    2자리 분\n",
    "# %S    초\n",
    "# %w    요일 (0(일요일) - 6)\n",
    "# %F    %Y-%m-%d 형식의 의미\n",
    "# %D    %m/%d/%y  (04/12/2024)"
   ]
  },
  {
   "cell_type": "markdown",
   "id": "c19945b0-1e4d-4ded-9574-2e8828400e3d",
   "metadata": {},
   "source": [
    "## 2. Parser"
   ]
  },
  {
   "cell_type": "markdown",
   "id": "f143bc80-41e6-4eb6-8ad4-fc52f953090b",
   "metadata": {},
   "source": [
    "### (1) 날짜 및 시간 파싱"
   ]
  },
  {
   "cell_type": "code",
   "execution_count": 17,
   "id": "0c9b1c4a-be4d-4301-986c-093a42c78c74",
   "metadata": {
    "tags": []
   },
   "outputs": [
    {
     "data": {
      "text/plain": [
       "datetime.datetime(2024, 4, 12, 0, 0)"
      ]
     },
     "execution_count": 17,
     "metadata": {},
     "output_type": "execute_result"
    }
   ],
   "source": [
    "from dateutil.parser import parse\n",
    "parse('2024-04-12')  # 문자열을 해석해서 datetime으로 변환해 줌"
   ]
  },
  {
   "cell_type": "code",
   "execution_count": 18,
   "id": "2d53a14b-8c53-4f33-8942-04048d59858c",
   "metadata": {
    "tags": []
   },
   "outputs": [
    {
     "data": {
      "text/plain": [
       "datetime.datetime(2024, 1, 31, 12, 30)"
      ]
     },
     "execution_count": 18,
     "metadata": {},
     "output_type": "execute_result"
    }
   ],
   "source": [
    "parse('Jan 31, 2024 12:30 PM')"
   ]
  },
  {
   "cell_type": "code",
   "execution_count": 19,
   "id": "e3bd51f6-5ea5-4bf0-ac32-2c302ccd05a4",
   "metadata": {
    "tags": []
   },
   "outputs": [
    {
     "data": {
      "text/plain": [
       "datetime.datetime(2030, 12, 5, 0, 0)"
      ]
     },
     "execution_count": 19,
     "metadata": {},
     "output_type": "execute_result"
    }
   ],
   "source": [
    "# 예: 2030년 12월 5일\n",
    "parse('5/12/2030', dayfirst = True)"
   ]
  },
  {
   "cell_type": "markdown",
   "id": "62464cac-332c-43b5-9744-001ac678e66b",
   "metadata": {},
   "source": [
    "### (2) 많은 날짜를 한꺼번에 처리"
   ]
  },
  {
   "cell_type": "code",
   "execution_count": 20,
   "id": "f9a0b315-4505-44ae-8658-b7979693c2b4",
   "metadata": {
    "tags": []
   },
   "outputs": [
    {
     "data": {
      "text/plain": [
       "DatetimeIndex(['2023-07-06 12:00:00', '2024-07-06 12:00:00',\n",
       "               '2025-07-06 12:00:00'],\n",
       "              dtype='datetime64[ns]', freq=None)"
      ]
     },
     "execution_count": 20,
     "metadata": {},
     "output_type": "execute_result"
    }
   ],
   "source": [
    "import pandas as pd\n",
    "datelist = ['2023-07-06 12:00:00', '2024-07-06 12:00:00',  '2025-07-06 12:00:00']\n",
    "pd.to_datetime(datelist)"
   ]
  },
  {
   "cell_type": "markdown",
   "id": "fdd132fa-6b29-448c-b9f5-cae36ae6270a",
   "metadata": {},
   "source": [
    "### NaT(Not a Time) : 누락된 타임스탬프 데이터"
   ]
  },
  {
   "cell_type": "code",
   "execution_count": 21,
   "id": "2e0c99d9-3363-46b3-9304-d5a8d1847015",
   "metadata": {
    "tags": []
   },
   "outputs": [
    {
     "data": {
      "text/plain": [
       "DatetimeIndex(['2023-07-06 12:00:00', '2024-07-06 12:00:00',\n",
       "               '2025-07-06 12:00:00', 'NaT'],\n",
       "              dtype='datetime64[ns]', freq=None)"
      ]
     },
     "execution_count": 21,
     "metadata": {},
     "output_type": "execute_result"
    }
   ],
   "source": [
    "pd.to_datetime(datelist + [None])"
   ]
  },
  {
   "cell_type": "markdown",
   "id": "133a8ad6-6c19-4db2-839a-d775ddea037c",
   "metadata": {},
   "source": [
    "### (3) date_range"
   ]
  },
  {
   "cell_type": "markdown",
   "id": "d66ea81b-db83-48d6-9ef1-c746989e4355",
   "metadata": {},
   "source": [
    "#### 시작날짜 + 종료날짜를 지정하여 날짜 범위 생성"
   ]
  },
  {
   "cell_type": "code",
   "execution_count": 23,
   "id": "35998e84-0f0a-429c-85df-3315b6819387",
   "metadata": {
    "tags": []
   },
   "outputs": [
    {
     "data": {
      "text/plain": [
       "DatetimeIndex(['2024-01-01', '2024-01-02', '2024-01-03', '2024-01-04',\n",
       "               '2024-01-05', '2024-01-06', '2024-01-07', '2024-01-08',\n",
       "               '2024-01-09', '2024-01-10',\n",
       "               ...\n",
       "               '2024-04-21', '2024-04-22', '2024-04-23', '2024-04-24',\n",
       "               '2024-04-25', '2024-04-26', '2024-04-27', '2024-04-28',\n",
       "               '2024-04-29', '2024-04-30'],\n",
       "              dtype='datetime64[ns]', length=121, freq='D')"
      ]
     },
     "execution_count": 23,
     "metadata": {},
     "output_type": "execute_result"
    }
   ],
   "source": [
    "index = pd.date_range('2024-01-01', '2024-04-30')\n",
    "index"
   ]
  },
  {
   "cell_type": "markdown",
   "id": "3d1e2162-446b-4757-917f-5ac4485e6cc8",
   "metadata": {},
   "source": [
    "### 시작 날짜 + 기간을 사용해서 날짜 범위 생성"
   ]
  },
  {
   "cell_type": "code",
   "execution_count": 24,
   "id": "b1910573-171a-4d17-b057-4c409dc27d93",
   "metadata": {
    "tags": []
   },
   "outputs": [
    {
     "data": {
      "text/plain": [
       "DatetimeIndex(['2024-04-01', '2024-04-02', '2024-04-03', '2024-04-04',\n",
       "               '2024-04-05', '2024-04-06', '2024-04-07', '2024-04-08',\n",
       "               '2024-04-09', '2024-04-10'],\n",
       "              dtype='datetime64[ns]', freq='D')"
      ]
     },
     "execution_count": 24,
     "metadata": {},
     "output_type": "execute_result"
    }
   ],
   "source": [
    "pd.date_range(start='2024-04-01', periods=10)"
   ]
  },
  {
   "cell_type": "code",
   "execution_count": 25,
   "id": "3da622db-38da-4099-8275-eea44dda23ab",
   "metadata": {
    "tags": []
   },
   "outputs": [
    {
     "data": {
      "text/plain": [
       "DatetimeIndex(['2024-03-23', '2024-03-24', '2024-03-25', '2024-03-26',\n",
       "               '2024-03-27', '2024-03-28', '2024-03-29', '2024-03-30',\n",
       "               '2024-03-31', '2024-04-01'],\n",
       "              dtype='datetime64[ns]', freq='D')"
      ]
     },
     "execution_count": 25,
     "metadata": {},
     "output_type": "execute_result"
    }
   ],
   "source": [
    "pd.date_range(end='2024-04-01', periods=10)"
   ]
  },
  {
   "cell_type": "markdown",
   "id": "969b2a62-c90c-4320-9574-c4e8ef87b329",
   "metadata": {},
   "source": [
    "### BM : BusinessMonthEnd (월 영업 마감일)"
   ]
  },
  {
   "cell_type": "code",
   "execution_count": 26,
   "id": "008329fd-3bbf-4658-8669-694d2f952815",
   "metadata": {
    "tags": []
   },
   "outputs": [
    {
     "data": {
      "text/plain": [
       "DatetimeIndex(['2024-01-31', '2024-02-29', '2024-03-29', '2024-04-30',\n",
       "               '2024-05-31', '2024-06-28', '2024-07-31', '2024-08-30',\n",
       "               '2024-09-30', '2024-10-31', '2024-11-29'],\n",
       "              dtype='datetime64[ns]', freq='BM')"
      ]
     },
     "execution_count": 26,
     "metadata": {},
     "output_type": "execute_result"
    }
   ],
   "source": [
    "pd.date_range('2024-01-01', '2024-12-30', freq='BM')"
   ]
  },
  {
   "cell_type": "markdown",
   "id": "eabe48a5-e33e-4993-89b4-276f710042e4",
   "metadata": {},
   "source": [
    "## 3. 시계열 데이터 기초"
   ]
  },
  {
   "cell_type": "code",
   "execution_count": 31,
   "id": "424bb30d-edcf-4f72-ae81-5a98c5d13ce5",
   "metadata": {
    "tags": []
   },
   "outputs": [
    {
     "name": "stderr",
     "output_type": "stream",
     "text": [
      "[*********************100%%**********************]  1 of 1 completed\n"
     ]
    }
   ],
   "source": [
    "import pandas as pd\n",
    "import numpy as np\n",
    "\n",
    "# yfinance - 야후 금융사이트에 접속해서 주식 데이터를 스크래핑해주는 패키지\n",
    "# yfinance 설치 : pip install yfinance\n",
    "import yfinance as yfin\n",
    "# data-reader 설치: conda install pandas-datareader\n",
    "from pandas_datareader import data  # 야후 금융데이터에서 판다스로 데이터를 로드해 주는 모듈\n",
    "\n",
    "yfin.pdr_override()\n",
    "\n",
    "df = data.get_data_yahoo('005930.KS', start='2024-01-01', end='2024-04-13')"
   ]
  },
  {
   "cell_type": "code",
   "execution_count": 32,
   "id": "babd434e-07b1-4d73-9b7d-b881b4d5716d",
   "metadata": {
    "tags": []
   },
   "outputs": [
    {
     "data": {
      "text/plain": [
       "DatetimeIndex(['2024-01-02', '2024-01-03', '2024-01-04', '2024-01-05',\n",
       "               '2024-01-08', '2024-01-09', '2024-01-10', '2024-01-11',\n",
       "               '2024-01-12', '2024-01-15', '2024-01-16', '2024-01-17',\n",
       "               '2024-01-18', '2024-01-19', '2024-01-22', '2024-01-23',\n",
       "               '2024-01-24', '2024-01-25', '2024-01-26', '2024-01-29',\n",
       "               '2024-01-30', '2024-01-31', '2024-02-01', '2024-02-02',\n",
       "               '2024-02-05', '2024-02-06', '2024-02-07', '2024-02-08',\n",
       "               '2024-02-13', '2024-02-14', '2024-02-15', '2024-02-16',\n",
       "               '2024-02-19', '2024-02-20', '2024-02-21', '2024-02-22',\n",
       "               '2024-02-23', '2024-02-26', '2024-02-27', '2024-02-28',\n",
       "               '2024-02-29', '2024-03-04', '2024-03-05', '2024-03-06',\n",
       "               '2024-03-07', '2024-03-08', '2024-03-11', '2024-03-12',\n",
       "               '2024-03-13', '2024-03-14', '2024-03-15', '2024-03-18',\n",
       "               '2024-03-19', '2024-03-20', '2024-03-21', '2024-03-22',\n",
       "               '2024-03-25', '2024-03-26', '2024-03-27', '2024-03-28',\n",
       "               '2024-03-29', '2024-04-01', '2024-04-02', '2024-04-03',\n",
       "               '2024-04-04', '2024-04-05', '2024-04-08', '2024-04-09',\n",
       "               '2024-04-11', '2024-04-12'],\n",
       "              dtype='datetime64[ns]', name='Date', freq=None)"
      ]
     },
     "execution_count": 32,
     "metadata": {},
     "output_type": "execute_result"
    }
   ],
   "source": [
    "df.index"
   ]
  },
  {
   "cell_type": "code",
   "execution_count": 33,
   "id": "485d4311-7bec-477e-8c55-ec25cd3f5abe",
   "metadata": {
    "tags": []
   },
   "outputs": [
    {
     "data": {
      "text/html": [
       "<div>\n",
       "<style scoped>\n",
       "    .dataframe tbody tr th:only-of-type {\n",
       "        vertical-align: middle;\n",
       "    }\n",
       "\n",
       "    .dataframe tbody tr th {\n",
       "        vertical-align: top;\n",
       "    }\n",
       "\n",
       "    .dataframe thead th {\n",
       "        text-align: right;\n",
       "    }\n",
       "</style>\n",
       "<table border=\"1\" class=\"dataframe\">\n",
       "  <thead>\n",
       "    <tr style=\"text-align: right;\">\n",
       "      <th></th>\n",
       "      <th>Open</th>\n",
       "      <th>High</th>\n",
       "      <th>Low</th>\n",
       "      <th>Close</th>\n",
       "      <th>Adj Close</th>\n",
       "      <th>Volume</th>\n",
       "    </tr>\n",
       "    <tr>\n",
       "      <th>Date</th>\n",
       "      <th></th>\n",
       "      <th></th>\n",
       "      <th></th>\n",
       "      <th></th>\n",
       "      <th></th>\n",
       "      <th></th>\n",
       "    </tr>\n",
       "  </thead>\n",
       "  <tbody>\n",
       "    <tr>\n",
       "      <th>2024-01-02</th>\n",
       "      <td>78200.0</td>\n",
       "      <td>79800.0</td>\n",
       "      <td>78200.0</td>\n",
       "      <td>79600.0</td>\n",
       "      <td>79600.0</td>\n",
       "      <td>17142847</td>\n",
       "    </tr>\n",
       "    <tr>\n",
       "      <th>2024-01-04</th>\n",
       "      <td>76100.0</td>\n",
       "      <td>77300.0</td>\n",
       "      <td>76100.0</td>\n",
       "      <td>76600.0</td>\n",
       "      <td>76600.0</td>\n",
       "      <td>15324439</td>\n",
       "    </tr>\n",
       "    <tr>\n",
       "      <th>2024-01-08</th>\n",
       "      <td>77000.0</td>\n",
       "      <td>77500.0</td>\n",
       "      <td>76400.0</td>\n",
       "      <td>76500.0</td>\n",
       "      <td>76500.0</td>\n",
       "      <td>11088724</td>\n",
       "    </tr>\n",
       "    <tr>\n",
       "      <th>2024-01-10</th>\n",
       "      <td>75000.0</td>\n",
       "      <td>75200.0</td>\n",
       "      <td>73200.0</td>\n",
       "      <td>73600.0</td>\n",
       "      <td>73600.0</td>\n",
       "      <td>20259529</td>\n",
       "    </tr>\n",
       "    <tr>\n",
       "      <th>2024-01-12</th>\n",
       "      <td>73000.0</td>\n",
       "      <td>74100.0</td>\n",
       "      <td>72800.0</td>\n",
       "      <td>73100.0</td>\n",
       "      <td>73100.0</td>\n",
       "      <td>13038939</td>\n",
       "    </tr>\n",
       "    <tr>\n",
       "      <th>2024-01-16</th>\n",
       "      <td>73500.0</td>\n",
       "      <td>73700.0</td>\n",
       "      <td>72500.0</td>\n",
       "      <td>72600.0</td>\n",
       "      <td>72600.0</td>\n",
       "      <td>14760415</td>\n",
       "    </tr>\n",
       "    <tr>\n",
       "      <th>2024-01-18</th>\n",
       "      <td>71600.0</td>\n",
       "      <td>72000.0</td>\n",
       "      <td>70700.0</td>\n",
       "      <td>71700.0</td>\n",
       "      <td>71700.0</td>\n",
       "      <td>17853397</td>\n",
       "    </tr>\n",
       "    <tr>\n",
       "      <th>2024-01-22</th>\n",
       "      <td>75900.0</td>\n",
       "      <td>76000.0</td>\n",
       "      <td>75000.0</td>\n",
       "      <td>75100.0</td>\n",
       "      <td>75100.0</td>\n",
       "      <td>19673375</td>\n",
       "    </tr>\n",
       "    <tr>\n",
       "      <th>2024-01-24</th>\n",
       "      <td>75200.0</td>\n",
       "      <td>75200.0</td>\n",
       "      <td>73500.0</td>\n",
       "      <td>74000.0</td>\n",
       "      <td>74000.0</td>\n",
       "      <td>12860661</td>\n",
       "    </tr>\n",
       "    <tr>\n",
       "      <th>2024-01-26</th>\n",
       "      <td>73700.0</td>\n",
       "      <td>74500.0</td>\n",
       "      <td>73300.0</td>\n",
       "      <td>73400.0</td>\n",
       "      <td>73400.0</td>\n",
       "      <td>11160062</td>\n",
       "    </tr>\n",
       "    <tr>\n",
       "      <th>2024-01-30</th>\n",
       "      <td>75000.0</td>\n",
       "      <td>75300.0</td>\n",
       "      <td>73700.0</td>\n",
       "      <td>74300.0</td>\n",
       "      <td>74300.0</td>\n",
       "      <td>12244418</td>\n",
       "    </tr>\n",
       "    <tr>\n",
       "      <th>2024-02-01</th>\n",
       "      <td>73000.0</td>\n",
       "      <td>74200.0</td>\n",
       "      <td>72900.0</td>\n",
       "      <td>73600.0</td>\n",
       "      <td>73600.0</td>\n",
       "      <td>19881033</td>\n",
       "    </tr>\n",
       "    <tr>\n",
       "      <th>2024-02-05</th>\n",
       "      <td>74200.0</td>\n",
       "      <td>74800.0</td>\n",
       "      <td>73500.0</td>\n",
       "      <td>74300.0</td>\n",
       "      <td>74300.0</td>\n",
       "      <td>19026021</td>\n",
       "    </tr>\n",
       "    <tr>\n",
       "      <th>2024-02-07</th>\n",
       "      <td>74600.0</td>\n",
       "      <td>75500.0</td>\n",
       "      <td>74300.0</td>\n",
       "      <td>75000.0</td>\n",
       "      <td>75000.0</td>\n",
       "      <td>16566445</td>\n",
       "    </tr>\n",
       "    <tr>\n",
       "      <th>2024-02-13</th>\n",
       "      <td>74800.0</td>\n",
       "      <td>75200.0</td>\n",
       "      <td>74400.0</td>\n",
       "      <td>75200.0</td>\n",
       "      <td>75200.0</td>\n",
       "      <td>21966745</td>\n",
       "    </tr>\n",
       "    <tr>\n",
       "      <th>2024-02-15</th>\n",
       "      <td>74200.0</td>\n",
       "      <td>74400.0</td>\n",
       "      <td>73000.0</td>\n",
       "      <td>73200.0</td>\n",
       "      <td>73200.0</td>\n",
       "      <td>14120600</td>\n",
       "    </tr>\n",
       "    <tr>\n",
       "      <th>2024-02-19</th>\n",
       "      <td>72800.0</td>\n",
       "      <td>73900.0</td>\n",
       "      <td>72800.0</td>\n",
       "      <td>73800.0</td>\n",
       "      <td>73800.0</td>\n",
       "      <td>12726404</td>\n",
       "    </tr>\n",
       "    <tr>\n",
       "      <th>2024-02-21</th>\n",
       "      <td>73400.0</td>\n",
       "      <td>73700.0</td>\n",
       "      <td>72900.0</td>\n",
       "      <td>73000.0</td>\n",
       "      <td>73000.0</td>\n",
       "      <td>11503495</td>\n",
       "    </tr>\n",
       "    <tr>\n",
       "      <th>2024-02-23</th>\n",
       "      <td>73600.0</td>\n",
       "      <td>74200.0</td>\n",
       "      <td>72900.0</td>\n",
       "      <td>72900.0</td>\n",
       "      <td>72900.0</td>\n",
       "      <td>16225166</td>\n",
       "    </tr>\n",
       "    <tr>\n",
       "      <th>2024-02-27</th>\n",
       "      <td>73100.0</td>\n",
       "      <td>73400.0</td>\n",
       "      <td>72700.0</td>\n",
       "      <td>72900.0</td>\n",
       "      <td>72900.0</td>\n",
       "      <td>13201981</td>\n",
       "    </tr>\n",
       "    <tr>\n",
       "      <th>2024-02-29</th>\n",
       "      <td>72600.0</td>\n",
       "      <td>73400.0</td>\n",
       "      <td>72000.0</td>\n",
       "      <td>73400.0</td>\n",
       "      <td>73400.0</td>\n",
       "      <td>21176403</td>\n",
       "    </tr>\n",
       "    <tr>\n",
       "      <th>2024-03-05</th>\n",
       "      <td>74600.0</td>\n",
       "      <td>74800.0</td>\n",
       "      <td>73700.0</td>\n",
       "      <td>73700.0</td>\n",
       "      <td>73700.0</td>\n",
       "      <td>19505125</td>\n",
       "    </tr>\n",
       "    <tr>\n",
       "      <th>2024-03-07</th>\n",
       "      <td>73100.0</td>\n",
       "      <td>73300.0</td>\n",
       "      <td>72200.0</td>\n",
       "      <td>72200.0</td>\n",
       "      <td>72200.0</td>\n",
       "      <td>14516963</td>\n",
       "    </tr>\n",
       "    <tr>\n",
       "      <th>2024-03-11</th>\n",
       "      <td>72900.0</td>\n",
       "      <td>73100.0</td>\n",
       "      <td>72300.0</td>\n",
       "      <td>72400.0</td>\n",
       "      <td>72400.0</td>\n",
       "      <td>9740504</td>\n",
       "    </tr>\n",
       "    <tr>\n",
       "      <th>2024-03-13</th>\n",
       "      <td>73700.0</td>\n",
       "      <td>74100.0</td>\n",
       "      <td>73500.0</td>\n",
       "      <td>74100.0</td>\n",
       "      <td>74100.0</td>\n",
       "      <td>15243134</td>\n",
       "    </tr>\n",
       "    <tr>\n",
       "      <th>2024-03-15</th>\n",
       "      <td>73400.0</td>\n",
       "      <td>73700.0</td>\n",
       "      <td>72300.0</td>\n",
       "      <td>72300.0</td>\n",
       "      <td>72300.0</td>\n",
       "      <td>22580555</td>\n",
       "    </tr>\n",
       "    <tr>\n",
       "      <th>2024-03-19</th>\n",
       "      <td>72300.0</td>\n",
       "      <td>73000.0</td>\n",
       "      <td>71700.0</td>\n",
       "      <td>72800.0</td>\n",
       "      <td>72800.0</td>\n",
       "      <td>15376066</td>\n",
       "    </tr>\n",
       "    <tr>\n",
       "      <th>2024-03-21</th>\n",
       "      <td>79200.0</td>\n",
       "      <td>79300.0</td>\n",
       "      <td>77700.0</td>\n",
       "      <td>79300.0</td>\n",
       "      <td>79300.0</td>\n",
       "      <td>44569799</td>\n",
       "    </tr>\n",
       "    <tr>\n",
       "      <th>2024-03-25</th>\n",
       "      <td>79600.0</td>\n",
       "      <td>79800.0</td>\n",
       "      <td>77800.0</td>\n",
       "      <td>78200.0</td>\n",
       "      <td>78200.0</td>\n",
       "      <td>18703996</td>\n",
       "    </tr>\n",
       "    <tr>\n",
       "      <th>2024-03-27</th>\n",
       "      <td>79200.0</td>\n",
       "      <td>80000.0</td>\n",
       "      <td>79200.0</td>\n",
       "      <td>79800.0</td>\n",
       "      <td>79800.0</td>\n",
       "      <td>17424595</td>\n",
       "    </tr>\n",
       "    <tr>\n",
       "      <th>2024-03-29</th>\n",
       "      <td>81200.0</td>\n",
       "      <td>82500.0</td>\n",
       "      <td>80900.0</td>\n",
       "      <td>82400.0</td>\n",
       "      <td>82400.0</td>\n",
       "      <td>27126366</td>\n",
       "    </tr>\n",
       "    <tr>\n",
       "      <th>2024-04-02</th>\n",
       "      <td>82900.0</td>\n",
       "      <td>85000.0</td>\n",
       "      <td>82900.0</td>\n",
       "      <td>85000.0</td>\n",
       "      <td>85000.0</td>\n",
       "      <td>37077944</td>\n",
       "    </tr>\n",
       "    <tr>\n",
       "      <th>2024-04-04</th>\n",
       "      <td>85200.0</td>\n",
       "      <td>85500.0</td>\n",
       "      <td>84300.0</td>\n",
       "      <td>85300.0</td>\n",
       "      <td>85300.0</td>\n",
       "      <td>25248934</td>\n",
       "    </tr>\n",
       "    <tr>\n",
       "      <th>2024-04-08</th>\n",
       "      <td>85200.0</td>\n",
       "      <td>86000.0</td>\n",
       "      <td>84500.0</td>\n",
       "      <td>84500.0</td>\n",
       "      <td>84500.0</td>\n",
       "      <td>18953232</td>\n",
       "    </tr>\n",
       "    <tr>\n",
       "      <th>2024-04-11</th>\n",
       "      <td>83200.0</td>\n",
       "      <td>84700.0</td>\n",
       "      <td>82500.0</td>\n",
       "      <td>84100.0</td>\n",
       "      <td>84100.0</td>\n",
       "      <td>25538009</td>\n",
       "    </tr>\n",
       "  </tbody>\n",
       "</table>\n",
       "</div>"
      ],
      "text/plain": [
       "               Open     High      Low    Close  Adj Close    Volume\n",
       "Date                                                               \n",
       "2024-01-02  78200.0  79800.0  78200.0  79600.0    79600.0  17142847\n",
       "2024-01-04  76100.0  77300.0  76100.0  76600.0    76600.0  15324439\n",
       "2024-01-08  77000.0  77500.0  76400.0  76500.0    76500.0  11088724\n",
       "2024-01-10  75000.0  75200.0  73200.0  73600.0    73600.0  20259529\n",
       "2024-01-12  73000.0  74100.0  72800.0  73100.0    73100.0  13038939\n",
       "2024-01-16  73500.0  73700.0  72500.0  72600.0    72600.0  14760415\n",
       "2024-01-18  71600.0  72000.0  70700.0  71700.0    71700.0  17853397\n",
       "2024-01-22  75900.0  76000.0  75000.0  75100.0    75100.0  19673375\n",
       "2024-01-24  75200.0  75200.0  73500.0  74000.0    74000.0  12860661\n",
       "2024-01-26  73700.0  74500.0  73300.0  73400.0    73400.0  11160062\n",
       "2024-01-30  75000.0  75300.0  73700.0  74300.0    74300.0  12244418\n",
       "2024-02-01  73000.0  74200.0  72900.0  73600.0    73600.0  19881033\n",
       "2024-02-05  74200.0  74800.0  73500.0  74300.0    74300.0  19026021\n",
       "2024-02-07  74600.0  75500.0  74300.0  75000.0    75000.0  16566445\n",
       "2024-02-13  74800.0  75200.0  74400.0  75200.0    75200.0  21966745\n",
       "2024-02-15  74200.0  74400.0  73000.0  73200.0    73200.0  14120600\n",
       "2024-02-19  72800.0  73900.0  72800.0  73800.0    73800.0  12726404\n",
       "2024-02-21  73400.0  73700.0  72900.0  73000.0    73000.0  11503495\n",
       "2024-02-23  73600.0  74200.0  72900.0  72900.0    72900.0  16225166\n",
       "2024-02-27  73100.0  73400.0  72700.0  72900.0    72900.0  13201981\n",
       "2024-02-29  72600.0  73400.0  72000.0  73400.0    73400.0  21176403\n",
       "2024-03-05  74600.0  74800.0  73700.0  73700.0    73700.0  19505125\n",
       "2024-03-07  73100.0  73300.0  72200.0  72200.0    72200.0  14516963\n",
       "2024-03-11  72900.0  73100.0  72300.0  72400.0    72400.0   9740504\n",
       "2024-03-13  73700.0  74100.0  73500.0  74100.0    74100.0  15243134\n",
       "2024-03-15  73400.0  73700.0  72300.0  72300.0    72300.0  22580555\n",
       "2024-03-19  72300.0  73000.0  71700.0  72800.0    72800.0  15376066\n",
       "2024-03-21  79200.0  79300.0  77700.0  79300.0    79300.0  44569799\n",
       "2024-03-25  79600.0  79800.0  77800.0  78200.0    78200.0  18703996\n",
       "2024-03-27  79200.0  80000.0  79200.0  79800.0    79800.0  17424595\n",
       "2024-03-29  81200.0  82500.0  80900.0  82400.0    82400.0  27126366\n",
       "2024-04-02  82900.0  85000.0  82900.0  85000.0    85000.0  37077944\n",
       "2024-04-04  85200.0  85500.0  84300.0  85300.0    85300.0  25248934\n",
       "2024-04-08  85200.0  86000.0  84500.0  84500.0    84500.0  18953232\n",
       "2024-04-11  83200.0  84700.0  82500.0  84100.0    84100.0  25538009"
      ]
     },
     "execution_count": 33,
     "metadata": {},
     "output_type": "execute_result"
    }
   ],
   "source": [
    "df[::2]"
   ]
  },
  {
   "cell_type": "code",
   "execution_count": 34,
   "id": "6e55e833-b937-460e-acce-0cd089b00be7",
   "metadata": {
    "tags": []
   },
   "outputs": [
    {
     "data": {
      "text/plain": [
       "dtype('<M8[ns]')"
      ]
     },
     "execution_count": 34,
     "metadata": {},
     "output_type": "execute_result"
    }
   ],
   "source": [
    "df.index.dtype"
   ]
  },
  {
   "cell_type": "code",
   "execution_count": 35,
   "id": "1b33a969-9961-48e9-a1e0-7d4f3f0f0284",
   "metadata": {
    "tags": []
   },
   "outputs": [
    {
     "data": {
      "text/plain": [
       "Timestamp('2024-01-02 00:00:00')"
      ]
     },
     "execution_count": 35,
     "metadata": {},
     "output_type": "execute_result"
    }
   ],
   "source": [
    "df.index[0]"
   ]
  },
  {
   "cell_type": "code",
   "execution_count": 36,
   "id": "1250cb89-b27c-4123-99b7-46726e896242",
   "metadata": {
    "tags": []
   },
   "outputs": [
    {
     "data": {
      "text/plain": [
       "Timestamp('2024-01-04 00:00:00')"
      ]
     },
     "execution_count": 36,
     "metadata": {},
     "output_type": "execute_result"
    }
   ],
   "source": [
    "stamp = df.index[2]\n",
    "stamp"
   ]
  },
  {
   "cell_type": "markdown",
   "id": "00b869a1-eac6-4aa4-8c74-ebf2b4340583",
   "metadata": {},
   "source": [
    "### 월 선택"
   ]
  },
  {
   "cell_type": "code",
   "execution_count": 37,
   "id": "0b3d8173-cf56-4470-96bc-effb002a7c35",
   "metadata": {
    "tags": []
   },
   "outputs": [
    {
     "data": {
      "text/html": [
       "<div>\n",
       "<style scoped>\n",
       "    .dataframe tbody tr th:only-of-type {\n",
       "        vertical-align: middle;\n",
       "    }\n",
       "\n",
       "    .dataframe tbody tr th {\n",
       "        vertical-align: top;\n",
       "    }\n",
       "\n",
       "    .dataframe thead th {\n",
       "        text-align: right;\n",
       "    }\n",
       "</style>\n",
       "<table border=\"1\" class=\"dataframe\">\n",
       "  <thead>\n",
       "    <tr style=\"text-align: right;\">\n",
       "      <th></th>\n",
       "      <th>Open</th>\n",
       "      <th>High</th>\n",
       "      <th>Low</th>\n",
       "      <th>Close</th>\n",
       "      <th>Adj Close</th>\n",
       "      <th>Volume</th>\n",
       "    </tr>\n",
       "    <tr>\n",
       "      <th>Date</th>\n",
       "      <th></th>\n",
       "      <th></th>\n",
       "      <th></th>\n",
       "      <th></th>\n",
       "      <th></th>\n",
       "      <th></th>\n",
       "    </tr>\n",
       "  </thead>\n",
       "  <tbody>\n",
       "    <tr>\n",
       "      <th>2024-04-01</th>\n",
       "      <td>83200.0</td>\n",
       "      <td>83300.0</td>\n",
       "      <td>82000.0</td>\n",
       "      <td>82000.0</td>\n",
       "      <td>82000.0</td>\n",
       "      <td>20116513</td>\n",
       "    </tr>\n",
       "    <tr>\n",
       "      <th>2024-04-02</th>\n",
       "      <td>82900.0</td>\n",
       "      <td>85000.0</td>\n",
       "      <td>82900.0</td>\n",
       "      <td>85000.0</td>\n",
       "      <td>85000.0</td>\n",
       "      <td>37077944</td>\n",
       "    </tr>\n",
       "    <tr>\n",
       "      <th>2024-04-03</th>\n",
       "      <td>84300.0</td>\n",
       "      <td>85000.0</td>\n",
       "      <td>83500.0</td>\n",
       "      <td>84100.0</td>\n",
       "      <td>84100.0</td>\n",
       "      <td>30493347</td>\n",
       "    </tr>\n",
       "    <tr>\n",
       "      <th>2024-04-04</th>\n",
       "      <td>85200.0</td>\n",
       "      <td>85500.0</td>\n",
       "      <td>84300.0</td>\n",
       "      <td>85300.0</td>\n",
       "      <td>85300.0</td>\n",
       "      <td>25248934</td>\n",
       "    </tr>\n",
       "    <tr>\n",
       "      <th>2024-04-05</th>\n",
       "      <td>84500.0</td>\n",
       "      <td>85000.0</td>\n",
       "      <td>83800.0</td>\n",
       "      <td>84500.0</td>\n",
       "      <td>84500.0</td>\n",
       "      <td>18883752</td>\n",
       "    </tr>\n",
       "    <tr>\n",
       "      <th>2024-04-08</th>\n",
       "      <td>85200.0</td>\n",
       "      <td>86000.0</td>\n",
       "      <td>84500.0</td>\n",
       "      <td>84500.0</td>\n",
       "      <td>84500.0</td>\n",
       "      <td>18953232</td>\n",
       "    </tr>\n",
       "    <tr>\n",
       "      <th>2024-04-09</th>\n",
       "      <td>84500.0</td>\n",
       "      <td>84900.0</td>\n",
       "      <td>83100.0</td>\n",
       "      <td>83600.0</td>\n",
       "      <td>83600.0</td>\n",
       "      <td>23725956</td>\n",
       "    </tr>\n",
       "    <tr>\n",
       "      <th>2024-04-11</th>\n",
       "      <td>83200.0</td>\n",
       "      <td>84700.0</td>\n",
       "      <td>82500.0</td>\n",
       "      <td>84100.0</td>\n",
       "      <td>84100.0</td>\n",
       "      <td>25538009</td>\n",
       "    </tr>\n",
       "    <tr>\n",
       "      <th>2024-04-12</th>\n",
       "      <td>84700.0</td>\n",
       "      <td>84900.0</td>\n",
       "      <td>83200.0</td>\n",
       "      <td>83700.0</td>\n",
       "      <td>83700.0</td>\n",
       "      <td>16983378</td>\n",
       "    </tr>\n",
       "  </tbody>\n",
       "</table>\n",
       "</div>"
      ],
      "text/plain": [
       "               Open     High      Low    Close  Adj Close    Volume\n",
       "Date                                                               \n",
       "2024-04-01  83200.0  83300.0  82000.0  82000.0    82000.0  20116513\n",
       "2024-04-02  82900.0  85000.0  82900.0  85000.0    85000.0  37077944\n",
       "2024-04-03  84300.0  85000.0  83500.0  84100.0    84100.0  30493347\n",
       "2024-04-04  85200.0  85500.0  84300.0  85300.0    85300.0  25248934\n",
       "2024-04-05  84500.0  85000.0  83800.0  84500.0    84500.0  18883752\n",
       "2024-04-08  85200.0  86000.0  84500.0  84500.0    84500.0  18953232\n",
       "2024-04-09  84500.0  84900.0  83100.0  83600.0    83600.0  23725956\n",
       "2024-04-11  83200.0  84700.0  82500.0  84100.0    84100.0  25538009\n",
       "2024-04-12  84700.0  84900.0  83200.0  83700.0    83700.0  16983378"
      ]
     },
     "execution_count": 37,
     "metadata": {},
     "output_type": "execute_result"
    }
   ],
   "source": [
    "df.loc['2024-04']"
   ]
  },
  {
   "cell_type": "markdown",
   "id": "be93366e-5acd-4c6c-8f52-2313c6800876",
   "metadata": {},
   "source": [
    "### 기간 선택"
   ]
  },
  {
   "cell_type": "code",
   "execution_count": 38,
   "id": "f23c1d74-2122-4a59-9269-213d69308115",
   "metadata": {
    "tags": []
   },
   "outputs": [
    {
     "data": {
      "text/html": [
       "<div>\n",
       "<style scoped>\n",
       "    .dataframe tbody tr th:only-of-type {\n",
       "        vertical-align: middle;\n",
       "    }\n",
       "\n",
       "    .dataframe tbody tr th {\n",
       "        vertical-align: top;\n",
       "    }\n",
       "\n",
       "    .dataframe thead th {\n",
       "        text-align: right;\n",
       "    }\n",
       "</style>\n",
       "<table border=\"1\" class=\"dataframe\">\n",
       "  <thead>\n",
       "    <tr style=\"text-align: right;\">\n",
       "      <th></th>\n",
       "      <th>Open</th>\n",
       "      <th>High</th>\n",
       "      <th>Low</th>\n",
       "      <th>Close</th>\n",
       "      <th>Adj Close</th>\n",
       "      <th>Volume</th>\n",
       "    </tr>\n",
       "    <tr>\n",
       "      <th>Date</th>\n",
       "      <th></th>\n",
       "      <th></th>\n",
       "      <th></th>\n",
       "      <th></th>\n",
       "      <th></th>\n",
       "      <th></th>\n",
       "    </tr>\n",
       "  </thead>\n",
       "  <tbody>\n",
       "    <tr>\n",
       "      <th>2024-02-01</th>\n",
       "      <td>73000.0</td>\n",
       "      <td>74200.0</td>\n",
       "      <td>72900.0</td>\n",
       "      <td>73600.0</td>\n",
       "      <td>73600.0</td>\n",
       "      <td>19881033</td>\n",
       "    </tr>\n",
       "    <tr>\n",
       "      <th>2024-02-02</th>\n",
       "      <td>74000.0</td>\n",
       "      <td>75200.0</td>\n",
       "      <td>73700.0</td>\n",
       "      <td>75200.0</td>\n",
       "      <td>75200.0</td>\n",
       "      <td>14955881</td>\n",
       "    </tr>\n",
       "    <tr>\n",
       "      <th>2024-02-05</th>\n",
       "      <td>74200.0</td>\n",
       "      <td>74800.0</td>\n",
       "      <td>73500.0</td>\n",
       "      <td>74300.0</td>\n",
       "      <td>74300.0</td>\n",
       "      <td>19026021</td>\n",
       "    </tr>\n",
       "    <tr>\n",
       "      <th>2024-02-06</th>\n",
       "      <td>74300.0</td>\n",
       "      <td>74700.0</td>\n",
       "      <td>73300.0</td>\n",
       "      <td>74400.0</td>\n",
       "      <td>74400.0</td>\n",
       "      <td>14559254</td>\n",
       "    </tr>\n",
       "    <tr>\n",
       "      <th>2024-02-07</th>\n",
       "      <td>74600.0</td>\n",
       "      <td>75500.0</td>\n",
       "      <td>74300.0</td>\n",
       "      <td>75000.0</td>\n",
       "      <td>75000.0</td>\n",
       "      <td>16566445</td>\n",
       "    </tr>\n",
       "    <tr>\n",
       "      <th>2024-02-08</th>\n",
       "      <td>75000.0</td>\n",
       "      <td>75200.0</td>\n",
       "      <td>73600.0</td>\n",
       "      <td>74100.0</td>\n",
       "      <td>74100.0</td>\n",
       "      <td>20810708</td>\n",
       "    </tr>\n",
       "    <tr>\n",
       "      <th>2024-02-13</th>\n",
       "      <td>74800.0</td>\n",
       "      <td>75200.0</td>\n",
       "      <td>74400.0</td>\n",
       "      <td>75200.0</td>\n",
       "      <td>75200.0</td>\n",
       "      <td>21966745</td>\n",
       "    </tr>\n",
       "    <tr>\n",
       "      <th>2024-02-14</th>\n",
       "      <td>73700.0</td>\n",
       "      <td>74300.0</td>\n",
       "      <td>73700.0</td>\n",
       "      <td>74000.0</td>\n",
       "      <td>74000.0</td>\n",
       "      <td>12434945</td>\n",
       "    </tr>\n",
       "    <tr>\n",
       "      <th>2024-02-15</th>\n",
       "      <td>74200.0</td>\n",
       "      <td>74400.0</td>\n",
       "      <td>73000.0</td>\n",
       "      <td>73200.0</td>\n",
       "      <td>73200.0</td>\n",
       "      <td>14120600</td>\n",
       "    </tr>\n",
       "    <tr>\n",
       "      <th>2024-02-16</th>\n",
       "      <td>73300.0</td>\n",
       "      <td>73400.0</td>\n",
       "      <td>72500.0</td>\n",
       "      <td>72800.0</td>\n",
       "      <td>72800.0</td>\n",
       "      <td>13444781</td>\n",
       "    </tr>\n",
       "    <tr>\n",
       "      <th>2024-02-19</th>\n",
       "      <td>72800.0</td>\n",
       "      <td>73900.0</td>\n",
       "      <td>72800.0</td>\n",
       "      <td>73800.0</td>\n",
       "      <td>73800.0</td>\n",
       "      <td>12726404</td>\n",
       "    </tr>\n",
       "    <tr>\n",
       "      <th>2024-02-20</th>\n",
       "      <td>73700.0</td>\n",
       "      <td>73700.0</td>\n",
       "      <td>72800.0</td>\n",
       "      <td>73300.0</td>\n",
       "      <td>73300.0</td>\n",
       "      <td>14681477</td>\n",
       "    </tr>\n",
       "    <tr>\n",
       "      <th>2024-02-21</th>\n",
       "      <td>73400.0</td>\n",
       "      <td>73700.0</td>\n",
       "      <td>72900.0</td>\n",
       "      <td>73000.0</td>\n",
       "      <td>73000.0</td>\n",
       "      <td>11503495</td>\n",
       "    </tr>\n",
       "    <tr>\n",
       "      <th>2024-02-22</th>\n",
       "      <td>73800.0</td>\n",
       "      <td>73900.0</td>\n",
       "      <td>72700.0</td>\n",
       "      <td>73100.0</td>\n",
       "      <td>73100.0</td>\n",
       "      <td>15208934</td>\n",
       "    </tr>\n",
       "    <tr>\n",
       "      <th>2024-02-23</th>\n",
       "      <td>73600.0</td>\n",
       "      <td>74200.0</td>\n",
       "      <td>72900.0</td>\n",
       "      <td>72900.0</td>\n",
       "      <td>72900.0</td>\n",
       "      <td>16225166</td>\n",
       "    </tr>\n",
       "    <tr>\n",
       "      <th>2024-02-26</th>\n",
       "      <td>72300.0</td>\n",
       "      <td>73200.0</td>\n",
       "      <td>72200.0</td>\n",
       "      <td>72800.0</td>\n",
       "      <td>72800.0</td>\n",
       "      <td>14669352</td>\n",
       "    </tr>\n",
       "    <tr>\n",
       "      <th>2024-02-27</th>\n",
       "      <td>73100.0</td>\n",
       "      <td>73400.0</td>\n",
       "      <td>72700.0</td>\n",
       "      <td>72900.0</td>\n",
       "      <td>72900.0</td>\n",
       "      <td>13201981</td>\n",
       "    </tr>\n",
       "    <tr>\n",
       "      <th>2024-02-28</th>\n",
       "      <td>72900.0</td>\n",
       "      <td>73900.0</td>\n",
       "      <td>72800.0</td>\n",
       "      <td>73200.0</td>\n",
       "      <td>73200.0</td>\n",
       "      <td>11795859</td>\n",
       "    </tr>\n",
       "    <tr>\n",
       "      <th>2024-02-29</th>\n",
       "      <td>72600.0</td>\n",
       "      <td>73400.0</td>\n",
       "      <td>72000.0</td>\n",
       "      <td>73400.0</td>\n",
       "      <td>73400.0</td>\n",
       "      <td>21176403</td>\n",
       "    </tr>\n",
       "    <tr>\n",
       "      <th>2024-03-04</th>\n",
       "      <td>74300.0</td>\n",
       "      <td>75000.0</td>\n",
       "      <td>74000.0</td>\n",
       "      <td>74900.0</td>\n",
       "      <td>74900.0</td>\n",
       "      <td>23210474</td>\n",
       "    </tr>\n",
       "    <tr>\n",
       "      <th>2024-03-05</th>\n",
       "      <td>74600.0</td>\n",
       "      <td>74800.0</td>\n",
       "      <td>73700.0</td>\n",
       "      <td>73700.0</td>\n",
       "      <td>73700.0</td>\n",
       "      <td>19505125</td>\n",
       "    </tr>\n",
       "    <tr>\n",
       "      <th>2024-03-06</th>\n",
       "      <td>73200.0</td>\n",
       "      <td>73500.0</td>\n",
       "      <td>72700.0</td>\n",
       "      <td>72900.0</td>\n",
       "      <td>72900.0</td>\n",
       "      <td>21547905</td>\n",
       "    </tr>\n",
       "    <tr>\n",
       "      <th>2024-03-07</th>\n",
       "      <td>73100.0</td>\n",
       "      <td>73300.0</td>\n",
       "      <td>72200.0</td>\n",
       "      <td>72200.0</td>\n",
       "      <td>72200.0</td>\n",
       "      <td>14516963</td>\n",
       "    </tr>\n",
       "    <tr>\n",
       "      <th>2024-03-08</th>\n",
       "      <td>72800.0</td>\n",
       "      <td>73400.0</td>\n",
       "      <td>72600.0</td>\n",
       "      <td>73300.0</td>\n",
       "      <td>73300.0</td>\n",
       "      <td>19271349</td>\n",
       "    </tr>\n",
       "    <tr>\n",
       "      <th>2024-03-11</th>\n",
       "      <td>72900.0</td>\n",
       "      <td>73100.0</td>\n",
       "      <td>72300.0</td>\n",
       "      <td>72400.0</td>\n",
       "      <td>72400.0</td>\n",
       "      <td>9740504</td>\n",
       "    </tr>\n",
       "    <tr>\n",
       "      <th>2024-03-12</th>\n",
       "      <td>72600.0</td>\n",
       "      <td>73500.0</td>\n",
       "      <td>72100.0</td>\n",
       "      <td>73300.0</td>\n",
       "      <td>73300.0</td>\n",
       "      <td>13011654</td>\n",
       "    </tr>\n",
       "    <tr>\n",
       "      <th>2024-03-13</th>\n",
       "      <td>73700.0</td>\n",
       "      <td>74100.0</td>\n",
       "      <td>73500.0</td>\n",
       "      <td>74100.0</td>\n",
       "      <td>74100.0</td>\n",
       "      <td>15243134</td>\n",
       "    </tr>\n",
       "    <tr>\n",
       "      <th>2024-03-14</th>\n",
       "      <td>74400.0</td>\n",
       "      <td>74500.0</td>\n",
       "      <td>73600.0</td>\n",
       "      <td>74300.0</td>\n",
       "      <td>74300.0</td>\n",
       "      <td>22545539</td>\n",
       "    </tr>\n",
       "    <tr>\n",
       "      <th>2024-03-15</th>\n",
       "      <td>73400.0</td>\n",
       "      <td>73700.0</td>\n",
       "      <td>72300.0</td>\n",
       "      <td>72300.0</td>\n",
       "      <td>72300.0</td>\n",
       "      <td>22580555</td>\n",
       "    </tr>\n",
       "    <tr>\n",
       "      <th>2024-03-18</th>\n",
       "      <td>72600.0</td>\n",
       "      <td>73000.0</td>\n",
       "      <td>72500.0</td>\n",
       "      <td>72800.0</td>\n",
       "      <td>72800.0</td>\n",
       "      <td>11520348</td>\n",
       "    </tr>\n",
       "    <tr>\n",
       "      <th>2024-03-19</th>\n",
       "      <td>72300.0</td>\n",
       "      <td>73000.0</td>\n",
       "      <td>71700.0</td>\n",
       "      <td>72800.0</td>\n",
       "      <td>72800.0</td>\n",
       "      <td>15376066</td>\n",
       "    </tr>\n",
       "    <tr>\n",
       "      <th>2024-03-20</th>\n",
       "      <td>73700.0</td>\n",
       "      <td>77200.0</td>\n",
       "      <td>73400.0</td>\n",
       "      <td>76900.0</td>\n",
       "      <td>76900.0</td>\n",
       "      <td>50106297</td>\n",
       "    </tr>\n",
       "    <tr>\n",
       "      <th>2024-03-21</th>\n",
       "      <td>79200.0</td>\n",
       "      <td>79300.0</td>\n",
       "      <td>77700.0</td>\n",
       "      <td>79300.0</td>\n",
       "      <td>79300.0</td>\n",
       "      <td>44569799</td>\n",
       "    </tr>\n",
       "    <tr>\n",
       "      <th>2024-03-22</th>\n",
       "      <td>79600.0</td>\n",
       "      <td>79900.0</td>\n",
       "      <td>77800.0</td>\n",
       "      <td>78900.0</td>\n",
       "      <td>78900.0</td>\n",
       "      <td>26724761</td>\n",
       "    </tr>\n",
       "    <tr>\n",
       "      <th>2024-03-25</th>\n",
       "      <td>79600.0</td>\n",
       "      <td>79800.0</td>\n",
       "      <td>77800.0</td>\n",
       "      <td>78200.0</td>\n",
       "      <td>78200.0</td>\n",
       "      <td>18703996</td>\n",
       "    </tr>\n",
       "    <tr>\n",
       "      <th>2024-03-26</th>\n",
       "      <td>79700.0</td>\n",
       "      <td>80100.0</td>\n",
       "      <td>79200.0</td>\n",
       "      <td>79900.0</td>\n",
       "      <td>79900.0</td>\n",
       "      <td>30551494</td>\n",
       "    </tr>\n",
       "    <tr>\n",
       "      <th>2024-03-27</th>\n",
       "      <td>79200.0</td>\n",
       "      <td>80000.0</td>\n",
       "      <td>79200.0</td>\n",
       "      <td>79800.0</td>\n",
       "      <td>79800.0</td>\n",
       "      <td>17424595</td>\n",
       "    </tr>\n",
       "    <tr>\n",
       "      <th>2024-03-28</th>\n",
       "      <td>79400.0</td>\n",
       "      <td>81000.0</td>\n",
       "      <td>79200.0</td>\n",
       "      <td>80800.0</td>\n",
       "      <td>80800.0</td>\n",
       "      <td>25084812</td>\n",
       "    </tr>\n",
       "    <tr>\n",
       "      <th>2024-03-29</th>\n",
       "      <td>81200.0</td>\n",
       "      <td>82500.0</td>\n",
       "      <td>80900.0</td>\n",
       "      <td>82400.0</td>\n",
       "      <td>82400.0</td>\n",
       "      <td>27126366</td>\n",
       "    </tr>\n",
       "    <tr>\n",
       "      <th>2024-04-01</th>\n",
       "      <td>83200.0</td>\n",
       "      <td>83300.0</td>\n",
       "      <td>82000.0</td>\n",
       "      <td>82000.0</td>\n",
       "      <td>82000.0</td>\n",
       "      <td>20116513</td>\n",
       "    </tr>\n",
       "    <tr>\n",
       "      <th>2024-04-02</th>\n",
       "      <td>82900.0</td>\n",
       "      <td>85000.0</td>\n",
       "      <td>82900.0</td>\n",
       "      <td>85000.0</td>\n",
       "      <td>85000.0</td>\n",
       "      <td>37077944</td>\n",
       "    </tr>\n",
       "    <tr>\n",
       "      <th>2024-04-03</th>\n",
       "      <td>84300.0</td>\n",
       "      <td>85000.0</td>\n",
       "      <td>83500.0</td>\n",
       "      <td>84100.0</td>\n",
       "      <td>84100.0</td>\n",
       "      <td>30493347</td>\n",
       "    </tr>\n",
       "    <tr>\n",
       "      <th>2024-04-04</th>\n",
       "      <td>85200.0</td>\n",
       "      <td>85500.0</td>\n",
       "      <td>84300.0</td>\n",
       "      <td>85300.0</td>\n",
       "      <td>85300.0</td>\n",
       "      <td>25248934</td>\n",
       "    </tr>\n",
       "    <tr>\n",
       "      <th>2024-04-05</th>\n",
       "      <td>84500.0</td>\n",
       "      <td>85000.0</td>\n",
       "      <td>83800.0</td>\n",
       "      <td>84500.0</td>\n",
       "      <td>84500.0</td>\n",
       "      <td>18883752</td>\n",
       "    </tr>\n",
       "    <tr>\n",
       "      <th>2024-04-08</th>\n",
       "      <td>85200.0</td>\n",
       "      <td>86000.0</td>\n",
       "      <td>84500.0</td>\n",
       "      <td>84500.0</td>\n",
       "      <td>84500.0</td>\n",
       "      <td>18953232</td>\n",
       "    </tr>\n",
       "    <tr>\n",
       "      <th>2024-04-09</th>\n",
       "      <td>84500.0</td>\n",
       "      <td>84900.0</td>\n",
       "      <td>83100.0</td>\n",
       "      <td>83600.0</td>\n",
       "      <td>83600.0</td>\n",
       "      <td>23725956</td>\n",
       "    </tr>\n",
       "    <tr>\n",
       "      <th>2024-04-11</th>\n",
       "      <td>83200.0</td>\n",
       "      <td>84700.0</td>\n",
       "      <td>82500.0</td>\n",
       "      <td>84100.0</td>\n",
       "      <td>84100.0</td>\n",
       "      <td>25538009</td>\n",
       "    </tr>\n",
       "    <tr>\n",
       "      <th>2024-04-12</th>\n",
       "      <td>84700.0</td>\n",
       "      <td>84900.0</td>\n",
       "      <td>83200.0</td>\n",
       "      <td>83700.0</td>\n",
       "      <td>83700.0</td>\n",
       "      <td>16983378</td>\n",
       "    </tr>\n",
       "  </tbody>\n",
       "</table>\n",
       "</div>"
      ],
      "text/plain": [
       "               Open     High      Low    Close  Adj Close    Volume\n",
       "Date                                                               \n",
       "2024-02-01  73000.0  74200.0  72900.0  73600.0    73600.0  19881033\n",
       "2024-02-02  74000.0  75200.0  73700.0  75200.0    75200.0  14955881\n",
       "2024-02-05  74200.0  74800.0  73500.0  74300.0    74300.0  19026021\n",
       "2024-02-06  74300.0  74700.0  73300.0  74400.0    74400.0  14559254\n",
       "2024-02-07  74600.0  75500.0  74300.0  75000.0    75000.0  16566445\n",
       "2024-02-08  75000.0  75200.0  73600.0  74100.0    74100.0  20810708\n",
       "2024-02-13  74800.0  75200.0  74400.0  75200.0    75200.0  21966745\n",
       "2024-02-14  73700.0  74300.0  73700.0  74000.0    74000.0  12434945\n",
       "2024-02-15  74200.0  74400.0  73000.0  73200.0    73200.0  14120600\n",
       "2024-02-16  73300.0  73400.0  72500.0  72800.0    72800.0  13444781\n",
       "2024-02-19  72800.0  73900.0  72800.0  73800.0    73800.0  12726404\n",
       "2024-02-20  73700.0  73700.0  72800.0  73300.0    73300.0  14681477\n",
       "2024-02-21  73400.0  73700.0  72900.0  73000.0    73000.0  11503495\n",
       "2024-02-22  73800.0  73900.0  72700.0  73100.0    73100.0  15208934\n",
       "2024-02-23  73600.0  74200.0  72900.0  72900.0    72900.0  16225166\n",
       "2024-02-26  72300.0  73200.0  72200.0  72800.0    72800.0  14669352\n",
       "2024-02-27  73100.0  73400.0  72700.0  72900.0    72900.0  13201981\n",
       "2024-02-28  72900.0  73900.0  72800.0  73200.0    73200.0  11795859\n",
       "2024-02-29  72600.0  73400.0  72000.0  73400.0    73400.0  21176403\n",
       "2024-03-04  74300.0  75000.0  74000.0  74900.0    74900.0  23210474\n",
       "2024-03-05  74600.0  74800.0  73700.0  73700.0    73700.0  19505125\n",
       "2024-03-06  73200.0  73500.0  72700.0  72900.0    72900.0  21547905\n",
       "2024-03-07  73100.0  73300.0  72200.0  72200.0    72200.0  14516963\n",
       "2024-03-08  72800.0  73400.0  72600.0  73300.0    73300.0  19271349\n",
       "2024-03-11  72900.0  73100.0  72300.0  72400.0    72400.0   9740504\n",
       "2024-03-12  72600.0  73500.0  72100.0  73300.0    73300.0  13011654\n",
       "2024-03-13  73700.0  74100.0  73500.0  74100.0    74100.0  15243134\n",
       "2024-03-14  74400.0  74500.0  73600.0  74300.0    74300.0  22545539\n",
       "2024-03-15  73400.0  73700.0  72300.0  72300.0    72300.0  22580555\n",
       "2024-03-18  72600.0  73000.0  72500.0  72800.0    72800.0  11520348\n",
       "2024-03-19  72300.0  73000.0  71700.0  72800.0    72800.0  15376066\n",
       "2024-03-20  73700.0  77200.0  73400.0  76900.0    76900.0  50106297\n",
       "2024-03-21  79200.0  79300.0  77700.0  79300.0    79300.0  44569799\n",
       "2024-03-22  79600.0  79900.0  77800.0  78900.0    78900.0  26724761\n",
       "2024-03-25  79600.0  79800.0  77800.0  78200.0    78200.0  18703996\n",
       "2024-03-26  79700.0  80100.0  79200.0  79900.0    79900.0  30551494\n",
       "2024-03-27  79200.0  80000.0  79200.0  79800.0    79800.0  17424595\n",
       "2024-03-28  79400.0  81000.0  79200.0  80800.0    80800.0  25084812\n",
       "2024-03-29  81200.0  82500.0  80900.0  82400.0    82400.0  27126366\n",
       "2024-04-01  83200.0  83300.0  82000.0  82000.0    82000.0  20116513\n",
       "2024-04-02  82900.0  85000.0  82900.0  85000.0    85000.0  37077944\n",
       "2024-04-03  84300.0  85000.0  83500.0  84100.0    84100.0  30493347\n",
       "2024-04-04  85200.0  85500.0  84300.0  85300.0    85300.0  25248934\n",
       "2024-04-05  84500.0  85000.0  83800.0  84500.0    84500.0  18883752\n",
       "2024-04-08  85200.0  86000.0  84500.0  84500.0    84500.0  18953232\n",
       "2024-04-09  84500.0  84900.0  83100.0  83600.0    83600.0  23725956\n",
       "2024-04-11  83200.0  84700.0  82500.0  84100.0    84100.0  25538009\n",
       "2024-04-12  84700.0  84900.0  83200.0  83700.0    83700.0  16983378"
      ]
     },
     "execution_count": 38,
     "metadata": {},
     "output_type": "execute_result"
    }
   ],
   "source": [
    "from datetime import datetime\n",
    "df[datetime(2024,2,1):]"
   ]
  },
  {
   "cell_type": "code",
   "execution_count": 39,
   "id": "282d7382-916c-4bde-8d98-77855590b0cd",
   "metadata": {
    "tags": []
   },
   "outputs": [
    {
     "data": {
      "text/html": [
       "<div>\n",
       "<style scoped>\n",
       "    .dataframe tbody tr th:only-of-type {\n",
       "        vertical-align: middle;\n",
       "    }\n",
       "\n",
       "    .dataframe tbody tr th {\n",
       "        vertical-align: top;\n",
       "    }\n",
       "\n",
       "    .dataframe thead th {\n",
       "        text-align: right;\n",
       "    }\n",
       "</style>\n",
       "<table border=\"1\" class=\"dataframe\">\n",
       "  <thead>\n",
       "    <tr style=\"text-align: right;\">\n",
       "      <th></th>\n",
       "      <th>Open</th>\n",
       "      <th>High</th>\n",
       "      <th>Low</th>\n",
       "      <th>Close</th>\n",
       "      <th>Adj Close</th>\n",
       "      <th>Volume</th>\n",
       "    </tr>\n",
       "    <tr>\n",
       "      <th>Date</th>\n",
       "      <th></th>\n",
       "      <th></th>\n",
       "      <th></th>\n",
       "      <th></th>\n",
       "      <th></th>\n",
       "      <th></th>\n",
       "    </tr>\n",
       "  </thead>\n",
       "  <tbody>\n",
       "    <tr>\n",
       "      <th>2024-02-01</th>\n",
       "      <td>73000.0</td>\n",
       "      <td>74200.0</td>\n",
       "      <td>72900.0</td>\n",
       "      <td>73600.0</td>\n",
       "      <td>73600.0</td>\n",
       "      <td>19881033</td>\n",
       "    </tr>\n",
       "    <tr>\n",
       "      <th>2024-02-02</th>\n",
       "      <td>74000.0</td>\n",
       "      <td>75200.0</td>\n",
       "      <td>73700.0</td>\n",
       "      <td>75200.0</td>\n",
       "      <td>75200.0</td>\n",
       "      <td>14955881</td>\n",
       "    </tr>\n",
       "    <tr>\n",
       "      <th>2024-02-05</th>\n",
       "      <td>74200.0</td>\n",
       "      <td>74800.0</td>\n",
       "      <td>73500.0</td>\n",
       "      <td>74300.0</td>\n",
       "      <td>74300.0</td>\n",
       "      <td>19026021</td>\n",
       "    </tr>\n",
       "    <tr>\n",
       "      <th>2024-02-06</th>\n",
       "      <td>74300.0</td>\n",
       "      <td>74700.0</td>\n",
       "      <td>73300.0</td>\n",
       "      <td>74400.0</td>\n",
       "      <td>74400.0</td>\n",
       "      <td>14559254</td>\n",
       "    </tr>\n",
       "    <tr>\n",
       "      <th>2024-02-07</th>\n",
       "      <td>74600.0</td>\n",
       "      <td>75500.0</td>\n",
       "      <td>74300.0</td>\n",
       "      <td>75000.0</td>\n",
       "      <td>75000.0</td>\n",
       "      <td>16566445</td>\n",
       "    </tr>\n",
       "    <tr>\n",
       "      <th>2024-02-08</th>\n",
       "      <td>75000.0</td>\n",
       "      <td>75200.0</td>\n",
       "      <td>73600.0</td>\n",
       "      <td>74100.0</td>\n",
       "      <td>74100.0</td>\n",
       "      <td>20810708</td>\n",
       "    </tr>\n",
       "    <tr>\n",
       "      <th>2024-02-13</th>\n",
       "      <td>74800.0</td>\n",
       "      <td>75200.0</td>\n",
       "      <td>74400.0</td>\n",
       "      <td>75200.0</td>\n",
       "      <td>75200.0</td>\n",
       "      <td>21966745</td>\n",
       "    </tr>\n",
       "    <tr>\n",
       "      <th>2024-02-14</th>\n",
       "      <td>73700.0</td>\n",
       "      <td>74300.0</td>\n",
       "      <td>73700.0</td>\n",
       "      <td>74000.0</td>\n",
       "      <td>74000.0</td>\n",
       "      <td>12434945</td>\n",
       "    </tr>\n",
       "    <tr>\n",
       "      <th>2024-02-15</th>\n",
       "      <td>74200.0</td>\n",
       "      <td>74400.0</td>\n",
       "      <td>73000.0</td>\n",
       "      <td>73200.0</td>\n",
       "      <td>73200.0</td>\n",
       "      <td>14120600</td>\n",
       "    </tr>\n",
       "    <tr>\n",
       "      <th>2024-02-16</th>\n",
       "      <td>73300.0</td>\n",
       "      <td>73400.0</td>\n",
       "      <td>72500.0</td>\n",
       "      <td>72800.0</td>\n",
       "      <td>72800.0</td>\n",
       "      <td>13444781</td>\n",
       "    </tr>\n",
       "    <tr>\n",
       "      <th>2024-02-19</th>\n",
       "      <td>72800.0</td>\n",
       "      <td>73900.0</td>\n",
       "      <td>72800.0</td>\n",
       "      <td>73800.0</td>\n",
       "      <td>73800.0</td>\n",
       "      <td>12726404</td>\n",
       "    </tr>\n",
       "    <tr>\n",
       "      <th>2024-02-20</th>\n",
       "      <td>73700.0</td>\n",
       "      <td>73700.0</td>\n",
       "      <td>72800.0</td>\n",
       "      <td>73300.0</td>\n",
       "      <td>73300.0</td>\n",
       "      <td>14681477</td>\n",
       "    </tr>\n",
       "    <tr>\n",
       "      <th>2024-02-21</th>\n",
       "      <td>73400.0</td>\n",
       "      <td>73700.0</td>\n",
       "      <td>72900.0</td>\n",
       "      <td>73000.0</td>\n",
       "      <td>73000.0</td>\n",
       "      <td>11503495</td>\n",
       "    </tr>\n",
       "    <tr>\n",
       "      <th>2024-02-22</th>\n",
       "      <td>73800.0</td>\n",
       "      <td>73900.0</td>\n",
       "      <td>72700.0</td>\n",
       "      <td>73100.0</td>\n",
       "      <td>73100.0</td>\n",
       "      <td>15208934</td>\n",
       "    </tr>\n",
       "    <tr>\n",
       "      <th>2024-02-23</th>\n",
       "      <td>73600.0</td>\n",
       "      <td>74200.0</td>\n",
       "      <td>72900.0</td>\n",
       "      <td>72900.0</td>\n",
       "      <td>72900.0</td>\n",
       "      <td>16225166</td>\n",
       "    </tr>\n",
       "    <tr>\n",
       "      <th>2024-02-26</th>\n",
       "      <td>72300.0</td>\n",
       "      <td>73200.0</td>\n",
       "      <td>72200.0</td>\n",
       "      <td>72800.0</td>\n",
       "      <td>72800.0</td>\n",
       "      <td>14669352</td>\n",
       "    </tr>\n",
       "    <tr>\n",
       "      <th>2024-02-27</th>\n",
       "      <td>73100.0</td>\n",
       "      <td>73400.0</td>\n",
       "      <td>72700.0</td>\n",
       "      <td>72900.0</td>\n",
       "      <td>72900.0</td>\n",
       "      <td>13201981</td>\n",
       "    </tr>\n",
       "    <tr>\n",
       "      <th>2024-02-28</th>\n",
       "      <td>72900.0</td>\n",
       "      <td>73900.0</td>\n",
       "      <td>72800.0</td>\n",
       "      <td>73200.0</td>\n",
       "      <td>73200.0</td>\n",
       "      <td>11795859</td>\n",
       "    </tr>\n",
       "    <tr>\n",
       "      <th>2024-02-29</th>\n",
       "      <td>72600.0</td>\n",
       "      <td>73400.0</td>\n",
       "      <td>72000.0</td>\n",
       "      <td>73400.0</td>\n",
       "      <td>73400.0</td>\n",
       "      <td>21176403</td>\n",
       "    </tr>\n",
       "  </tbody>\n",
       "</table>\n",
       "</div>"
      ],
      "text/plain": [
       "               Open     High      Low    Close  Adj Close    Volume\n",
       "Date                                                               \n",
       "2024-02-01  73000.0  74200.0  72900.0  73600.0    73600.0  19881033\n",
       "2024-02-02  74000.0  75200.0  73700.0  75200.0    75200.0  14955881\n",
       "2024-02-05  74200.0  74800.0  73500.0  74300.0    74300.0  19026021\n",
       "2024-02-06  74300.0  74700.0  73300.0  74400.0    74400.0  14559254\n",
       "2024-02-07  74600.0  75500.0  74300.0  75000.0    75000.0  16566445\n",
       "2024-02-08  75000.0  75200.0  73600.0  74100.0    74100.0  20810708\n",
       "2024-02-13  74800.0  75200.0  74400.0  75200.0    75200.0  21966745\n",
       "2024-02-14  73700.0  74300.0  73700.0  74000.0    74000.0  12434945\n",
       "2024-02-15  74200.0  74400.0  73000.0  73200.0    73200.0  14120600\n",
       "2024-02-16  73300.0  73400.0  72500.0  72800.0    72800.0  13444781\n",
       "2024-02-19  72800.0  73900.0  72800.0  73800.0    73800.0  12726404\n",
       "2024-02-20  73700.0  73700.0  72800.0  73300.0    73300.0  14681477\n",
       "2024-02-21  73400.0  73700.0  72900.0  73000.0    73000.0  11503495\n",
       "2024-02-22  73800.0  73900.0  72700.0  73100.0    73100.0  15208934\n",
       "2024-02-23  73600.0  74200.0  72900.0  72900.0    72900.0  16225166\n",
       "2024-02-26  72300.0  73200.0  72200.0  72800.0    72800.0  14669352\n",
       "2024-02-27  73100.0  73400.0  72700.0  72900.0    72900.0  13201981\n",
       "2024-02-28  72900.0  73900.0  72800.0  73200.0    73200.0  11795859\n",
       "2024-02-29  72600.0  73400.0  72000.0  73400.0    73400.0  21176403"
      ]
     },
     "execution_count": 39,
     "metadata": {},
     "output_type": "execute_result"
    }
   ],
   "source": [
    "# 문자열로 기간 선택\n",
    "df['2024-02-01' : '2024-02-29']"
   ]
  },
  {
   "cell_type": "markdown",
   "id": "fd766a46-3ddf-4c72-869a-0823221957f1",
   "metadata": {},
   "source": [
    "### 데이터 삭제 (truncate)"
   ]
  },
  {
   "cell_type": "code",
   "execution_count": 40,
   "id": "8d4ddc50-c33e-4088-852c-ee0d340c2952",
   "metadata": {
    "tags": []
   },
   "outputs": [
    {
     "data": {
      "text/html": [
       "<div>\n",
       "<style scoped>\n",
       "    .dataframe tbody tr th:only-of-type {\n",
       "        vertical-align: middle;\n",
       "    }\n",
       "\n",
       "    .dataframe tbody tr th {\n",
       "        vertical-align: top;\n",
       "    }\n",
       "\n",
       "    .dataframe thead th {\n",
       "        text-align: right;\n",
       "    }\n",
       "</style>\n",
       "<table border=\"1\" class=\"dataframe\">\n",
       "  <thead>\n",
       "    <tr style=\"text-align: right;\">\n",
       "      <th></th>\n",
       "      <th>Open</th>\n",
       "      <th>High</th>\n",
       "      <th>Low</th>\n",
       "      <th>Close</th>\n",
       "      <th>Adj Close</th>\n",
       "      <th>Volume</th>\n",
       "    </tr>\n",
       "    <tr>\n",
       "      <th>Date</th>\n",
       "      <th></th>\n",
       "      <th></th>\n",
       "      <th></th>\n",
       "      <th></th>\n",
       "      <th></th>\n",
       "      <th></th>\n",
       "    </tr>\n",
       "  </thead>\n",
       "  <tbody>\n",
       "    <tr>\n",
       "      <th>2024-01-02</th>\n",
       "      <td>78200.0</td>\n",
       "      <td>79800.0</td>\n",
       "      <td>78200.0</td>\n",
       "      <td>79600.0</td>\n",
       "      <td>79600.0</td>\n",
       "      <td>17142847</td>\n",
       "    </tr>\n",
       "    <tr>\n",
       "      <th>2024-01-03</th>\n",
       "      <td>78500.0</td>\n",
       "      <td>78800.0</td>\n",
       "      <td>77000.0</td>\n",
       "      <td>77000.0</td>\n",
       "      <td>77000.0</td>\n",
       "      <td>21753644</td>\n",
       "    </tr>\n",
       "    <tr>\n",
       "      <th>2024-01-04</th>\n",
       "      <td>76100.0</td>\n",
       "      <td>77300.0</td>\n",
       "      <td>76100.0</td>\n",
       "      <td>76600.0</td>\n",
       "      <td>76600.0</td>\n",
       "      <td>15324439</td>\n",
       "    </tr>\n",
       "    <tr>\n",
       "      <th>2024-01-05</th>\n",
       "      <td>76700.0</td>\n",
       "      <td>77100.0</td>\n",
       "      <td>76400.0</td>\n",
       "      <td>76600.0</td>\n",
       "      <td>76600.0</td>\n",
       "      <td>11304316</td>\n",
       "    </tr>\n",
       "    <tr>\n",
       "      <th>2024-01-08</th>\n",
       "      <td>77000.0</td>\n",
       "      <td>77500.0</td>\n",
       "      <td>76400.0</td>\n",
       "      <td>76500.0</td>\n",
       "      <td>76500.0</td>\n",
       "      <td>11088724</td>\n",
       "    </tr>\n",
       "    <tr>\n",
       "      <th>...</th>\n",
       "      <td>...</td>\n",
       "      <td>...</td>\n",
       "      <td>...</td>\n",
       "      <td>...</td>\n",
       "      <td>...</td>\n",
       "      <td>...</td>\n",
       "    </tr>\n",
       "    <tr>\n",
       "      <th>2024-03-26</th>\n",
       "      <td>79700.0</td>\n",
       "      <td>80100.0</td>\n",
       "      <td>79200.0</td>\n",
       "      <td>79900.0</td>\n",
       "      <td>79900.0</td>\n",
       "      <td>30551494</td>\n",
       "    </tr>\n",
       "    <tr>\n",
       "      <th>2024-03-27</th>\n",
       "      <td>79200.0</td>\n",
       "      <td>80000.0</td>\n",
       "      <td>79200.0</td>\n",
       "      <td>79800.0</td>\n",
       "      <td>79800.0</td>\n",
       "      <td>17424595</td>\n",
       "    </tr>\n",
       "    <tr>\n",
       "      <th>2024-03-28</th>\n",
       "      <td>79400.0</td>\n",
       "      <td>81000.0</td>\n",
       "      <td>79200.0</td>\n",
       "      <td>80800.0</td>\n",
       "      <td>80800.0</td>\n",
       "      <td>25084812</td>\n",
       "    </tr>\n",
       "    <tr>\n",
       "      <th>2024-03-29</th>\n",
       "      <td>81200.0</td>\n",
       "      <td>82500.0</td>\n",
       "      <td>80900.0</td>\n",
       "      <td>82400.0</td>\n",
       "      <td>82400.0</td>\n",
       "      <td>27126366</td>\n",
       "    </tr>\n",
       "    <tr>\n",
       "      <th>2024-04-01</th>\n",
       "      <td>83200.0</td>\n",
       "      <td>83300.0</td>\n",
       "      <td>82000.0</td>\n",
       "      <td>82000.0</td>\n",
       "      <td>82000.0</td>\n",
       "      <td>20116513</td>\n",
       "    </tr>\n",
       "  </tbody>\n",
       "</table>\n",
       "<p>62 rows × 6 columns</p>\n",
       "</div>"
      ],
      "text/plain": [
       "               Open     High      Low    Close  Adj Close    Volume\n",
       "Date                                                               \n",
       "2024-01-02  78200.0  79800.0  78200.0  79600.0    79600.0  17142847\n",
       "2024-01-03  78500.0  78800.0  77000.0  77000.0    77000.0  21753644\n",
       "2024-01-04  76100.0  77300.0  76100.0  76600.0    76600.0  15324439\n",
       "2024-01-05  76700.0  77100.0  76400.0  76600.0    76600.0  11304316\n",
       "2024-01-08  77000.0  77500.0  76400.0  76500.0    76500.0  11088724\n",
       "...             ...      ...      ...      ...        ...       ...\n",
       "2024-03-26  79700.0  80100.0  79200.0  79900.0    79900.0  30551494\n",
       "2024-03-27  79200.0  80000.0  79200.0  79800.0    79800.0  17424595\n",
       "2024-03-28  79400.0  81000.0  79200.0  80800.0    80800.0  25084812\n",
       "2024-03-29  81200.0  82500.0  80900.0  82400.0    82400.0  27126366\n",
       "2024-04-01  83200.0  83300.0  82000.0  82000.0    82000.0  20116513\n",
       "\n",
       "[62 rows x 6 columns]"
      ]
     },
     "execution_count": 40,
     "metadata": {},
     "output_type": "execute_result"
    }
   ],
   "source": [
    "df.truncate(after='2024-04-01')"
   ]
  },
  {
   "cell_type": "code",
   "execution_count": null,
   "id": "b5eb6997-7b36-47b9-ade8-87ca90ff6ae2",
   "metadata": {},
   "outputs": [],
   "source": []
  }
 ],
 "metadata": {
  "kernelspec": {
   "display_name": "Python 3 (ipykernel)",
   "language": "python",
   "name": "python3"
  },
  "language_info": {
   "codemirror_mode": {
    "name": "ipython",
    "version": 3
   },
   "file_extension": ".py",
   "mimetype": "text/x-python",
   "name": "python",
   "nbconvert_exporter": "python",
   "pygments_lexer": "ipython3",
   "version": "3.11.5"
  }
 },
 "nbformat": 4,
 "nbformat_minor": 5
}
